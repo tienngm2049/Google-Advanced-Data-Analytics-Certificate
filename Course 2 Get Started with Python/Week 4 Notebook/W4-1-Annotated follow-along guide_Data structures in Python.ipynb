{
 "cells": [
  {
   "cell_type": "markdown",
   "metadata": {
    "id": "yru4SMp1ibzC"
   },
   "source": [
    "# Annotated follow-along guide: Data structures in Python\n",
    "\n",
    "This notebook contains the code used in the instructional videos from [Week 4: Data structures in Python](https://www.coursera.org/learn/get-started-with-python/home/week/4).\n",
    "\n",
    "## Introduction\n",
    "\n",
    "This follow-along guide is an annotated Jupyter Notebook organized to match the content from each week. It contains the same code shown in the videos for the week. In addition to content that is identical to what is covered in the videos, you’ll find additional information throughout the guide to explain the purpose of each concept covered, why the code is written in a certain way, and tips for running the code.\n",
    "\n",
    "As you watch each of the following videos, an in-video message will appear to advise you that the video you are viewing contains coding instruction and examples. The in-video message will direct you to the relevant section in the notebook for the specific video you are viewing. Follow along in the notebook as the instructor discusses the code.\n",
    "\n",
    "To skip directly to the code for a particular video, use the following links:\n",
    "\n",
    "1.   **[Introduction to lists](#1)**\n",
    "2.   **[Modify the contents of a list](#2)**\n",
    "3.   **[Introduction to tuples](#3)**\n",
    "4.   **[More with loops, lists, and tuples](#4)**\n",
    "5.   **[Introduction to dictionaries](#5)**\n",
    "6.   **[Dictionary methods](#6)**\n",
    "7.   **[Introduction to sets](#7)**\n",
    "8.   **[Introduction to NumPy](#8)**\n",
    "9.   **[Basic array operations](#9)**\n",
    "10.   **[Introduction to pandas](#10)**\n",
    "11.   **[pandas basics](#11)**\n",
    "12.   **[Boolean masking](#12)**\n",
    "13.   **[Grouping and aggregation](#13)**\n",
    "14.   **[Merging and joining data](#14)**\n"
   ]
  },
  {
   "cell_type": "markdown",
   "metadata": {},
   "source": [
    "\n",
    "**Data Types**\n",
    "- Data types define the type of data that can be stored in a variable or manipulated by operations. Examples of data types include integers, floating-point numbers, strings, booleans, etc.\n",
    "- Data types provide information about the nature of the data, such as its range of values, operations that can be performed on it, and the memory size required to store it.\n",
    "- Data types are fundamental building blocks of programming languages and help ensure proper handling and manipulation of data.\n",
    "\n",
    "```python\n",
    "# Integer data type\n",
    "age = 25\n",
    "# Floating-point data type\n",
    "height = 1.75\n",
    "# String data type\n",
    "name = \"John\"\n",
    "# Boolean data type\n",
    "is_student = True\n",
    "```\n",
    "\n",
    "**Data Structures**\n",
    "- Data structures refer to the organization and storage of data in a program or computer memory.\n",
    "- Data structures provide a way to store and organize multiple related values or objects.\n",
    "- Examples of data structures include arrays, lists, stacks, queues, trees, graphs, and more.\n",
    "- Data structures facilitate efficient access, storage, and manipulation of data based on specific requirements and operations.\n",
    "- Different data structures have different characteristics, such as speed of access, insertion, deletion, and memory usage.\n",
    "\n",
    "```python\n",
    "# List data structure\n",
    "numbers = [1, 2, 3, 4, 5]\n",
    "# Dictionary data structure\n",
    "person = {\"name\": \"John\", \"age\": 25, \"is_student\": True}\n",
    "# Tuple data structure\n",
    "coordinates = (10, 20)\n",
    "# Set data structure\n",
    "fruits = {\"apple\", \"banana\", \"orange\"}\n",
    "```\n",
    "\n",
    "| Data Structure | Description | Mutable | Ordered | Allows Duplicates | Examples |\n",
    "|----------------|-------------|---------|---------|------------------|----------|\n",
    "| List           | Collection of items in a specific order | Yes | Yes | Yes | `[1, 2, 3]` |\n",
    "| Tuple          | Immutable collection of items in a specific order | No | Yes | Yes | `(1, 2, 3)` |\n",
    "| Set            | Collection of unique items in no particular order | Yes | No | No | `{1, 2, 3}` |\n",
    "| Dictionary     | Key-value pairs, unordered collection | Yes | No | Keys: No, Values: Yes | `{\"name\": \"John\", \"age\": 25}` |\n",
    "\n",
    "Here's a breakdown of the characteristics of each data structure:\n",
    "\n",
    "- **List**: A mutable and ordered collection of items. Lists allow duplicates and can be modified by adding, removing, or modifying elements.\n",
    "\n",
    "- **Tuple**: An immutable and ordered collection of items. Tuples can't be modified after creation, and they can contain duplicates.\n",
    "\n",
    "- **Set**: A mutable and unordered collection of unique items. Sets automatically remove duplicates, and they support set operations like union, intersection, and difference.\n",
    "\n",
    "- **Dictionary**: A mutable and unordered collection of key-value pairs. Keys must be unique, but values can be duplicated. Dictionaries are useful for efficient retrieval of values using keys."
   ]
  },
  {
   "cell_type": "markdown",
   "metadata": {
    "id": "0UxrWegzLnLu"
   },
   "source": [
    "<a name=\"1\"></a>\n",
    "## 1. [Introduction to lists](https://www.coursera.org/learn/get-started-with-python/lecture/Ln8Im/introduction-to-lists) "
   ]
  },
  {
   "cell_type": "markdown",
   "metadata": {},
   "source": [
    "**List** is a data structure that helps store and manipulate an ordered collection of items.\n",
    "\n",
    "List allow duplicate elements (mutable), indexing and slicing.\n",
    "\n",
    "List is a sequence of elements while strings is a sequence of characters.\n",
    "\n",
    "**Mutability** refers to the ability to change the internal state of a data structure\n",
    "\n",
    "**Immutability** - element's values can never be altered or updated\n",
    "\n",
    "### Create a list\n",
    "There are two main ways to create lists in Python:\n",
    "\n",
    "- Square brackets: []\n",
    "\n",
    "- The list function: list()\n",
    "\n",
    "When instantiating a list using brackets, separate each element with a comma. \n",
    "```python\n",
    "list_c = ['Abidjan', 14.2, [1, 2, None], 'Zagreb']\n",
    "print(list_c)\n",
    "```\n",
    "### List operations\n",
    "Lists can be combined using the addition operator (+):\n",
    "\n",
    "```python\n",
    "num_list = [1, 2, 3]\n",
    "char_list = ['a', 'b', 'c']\n",
    "num_list + char_list`\n",
    "```\n",
    "\n",
    "result: [1, 2, 3, 'a', 'b', 'c']\n",
    "\n",
    "They can also be multiplied using the multiplication operator (*):\n",
    "\n",
    "```python\n",
    "list_a = ['a', 'b', 'c']\n",
    "list_a * 2\n",
    "```\n",
    "\n",
    "result: ['a', 'b', 'c', 'a', 'b', 'c']"
   ]
  },
  {
   "cell_type": "code",
   "execution_count": 3,
   "metadata": {
    "colab": {
     "base_uri": "https://localhost:8080/"
    },
    "executionInfo": {
     "elapsed": 9,
     "status": "ok",
     "timestamp": 1679527092292,
     "user": {
      "displayName": "Matteo Riotto",
      "userId": "15211004813978485634"
     },
     "user_tz": 420
    },
    "id": "p4hesWOJLw7x",
    "outputId": "b45a5634-f34a-41b3-a98a-329d5648568b"
   },
   "outputs": [
    {
     "name": "stdout",
     "output_type": "stream",
     "text": [
      "cooking\n"
     ]
    }
   ],
   "source": [
    "# Assign a list using brackets, with elements separated by commas.\n",
    "x = [\"Now\", \"we\", \"are\", \"cooking\", \"with\", 7, \"ingredients\"]\n",
    "\n",
    "# Print element at index 3.\n",
    "print(x[3])"
   ]
  },
  {
   "cell_type": "code",
   "execution_count": 4,
   "metadata": {
    "colab": {
     "base_uri": "https://localhost:8080/",
     "height": 184
    },
    "executionInfo": {
     "elapsed": 9,
     "status": "error",
     "timestamp": 1679527092743,
     "user": {
      "displayName": "Matteo Riotto",
      "userId": "15211004813978485634"
     },
     "user_tz": 420
    },
    "id": "Pyy298HKMWrf",
    "outputId": "2b7de2cb-3ad2-4919-a8cb-6eb1a87aace8"
   },
   "outputs": [
    {
     "ename": "IndexError",
     "evalue": "list index out of range",
     "output_type": "error",
     "traceback": [
      "\u001b[0;31m---------------------------------------------------------------------------\u001b[0m",
      "\u001b[0;31mIndexError\u001b[0m                                Traceback (most recent call last)",
      "\u001b[0;32m<ipython-input-4-7595372b0a8f>\u001b[0m in \u001b[0;36m<module>\u001b[0;34m\u001b[0m\n\u001b[1;32m      1\u001b[0m \u001b[0;31m# Trying to access an index not in list will result in IndexError.\u001b[0m\u001b[0;34m\u001b[0m\u001b[0;34m\u001b[0m\u001b[0;34m\u001b[0m\u001b[0m\n\u001b[0;32m----> 2\u001b[0;31m \u001b[0mprint\u001b[0m\u001b[0;34m(\u001b[0m\u001b[0mx\u001b[0m\u001b[0;34m[\u001b[0m\u001b[0;36m7\u001b[0m\u001b[0;34m]\u001b[0m\u001b[0;34m)\u001b[0m\u001b[0;34m\u001b[0m\u001b[0;34m\u001b[0m\u001b[0m\n\u001b[0m",
      "\u001b[0;31mIndexError\u001b[0m: list index out of range"
     ]
    }
   ],
   "source": [
    "# Trying to access an index not in list will result in IndexError.\n",
    "print(x[7])"
   ]
  },
  {
   "cell_type": "code",
   "execution_count": 5,
   "metadata": {
    "colab": {
     "base_uri": "https://localhost:8080/"
    },
    "executionInfo": {
     "elapsed": 6,
     "status": "ok",
     "timestamp": 1679527093489,
     "user": {
      "displayName": "Matteo Riotto",
      "userId": "15211004813978485634"
     },
     "user_tz": 420
    },
    "id": "Tkn3hnR2NSqx",
    "outputId": "5590f561-e404-4b1b-864d-3f9436720511"
   },
   "outputs": [
    {
     "data": {
      "text/plain": [
       "['we', 'are']"
      ]
     },
     "execution_count": 5,
     "metadata": {},
     "output_type": "execute_result"
    }
   ],
   "source": [
    "# Access part of a list by slicing.\n",
    "x[1:3]"
   ]
  },
  {
   "cell_type": "code",
   "execution_count": 6,
   "metadata": {
    "id": "_LYI6sfonXvx"
   },
   "outputs": [
    {
     "data": {
      "text/plain": [
       "['Now', 'we']"
      ]
     },
     "execution_count": 6,
     "metadata": {},
     "output_type": "execute_result"
    }
   ],
   "source": [
    "# Omitting the first value of the slice implies a value of 0.\n",
    "x[:2]"
   ]
  },
  {
   "cell_type": "code",
   "execution_count": 7,
   "metadata": {
    "id": "Zq68yWYrnbdX"
   },
   "outputs": [
    {
     "data": {
      "text/plain": [
       "['are', 'cooking', 'with', 7, 'ingredients']"
      ]
     },
     "execution_count": 7,
     "metadata": {},
     "output_type": "execute_result"
    }
   ],
   "source": [
    "# Omitting the last value of the slice implies a value of len(list).\n",
    "x[2:]"
   ]
  },
  {
   "cell_type": "code",
   "execution_count": 8,
   "metadata": {
    "colab": {
     "base_uri": "https://localhost:8080/"
    },
    "executionInfo": {
     "elapsed": 155,
     "status": "ok",
     "timestamp": 1677104674619,
     "user": {
      "displayName": "Arwen Shackelford",
      "userId": "14614635049532489764"
     },
     "user_tz": 360
    },
    "id": "56Dq_9jROlli",
    "outputId": "6f9484ae-272c-4b39-853b-4eed071d15f4"
   },
   "outputs": [
    {
     "data": {
      "text/plain": [
       "list"
      ]
     },
     "execution_count": 8,
     "metadata": {},
     "output_type": "execute_result"
    }
   ],
   "source": [
    "# Check the data type of an object using type() function.\n",
    "type(x)"
   ]
  },
  {
   "cell_type": "code",
   "execution_count": 9,
   "metadata": {
    "colab": {
     "base_uri": "https://localhost:8080/"
    },
    "executionInfo": {
     "elapsed": 9,
     "status": "ok",
     "timestamp": 1679527372978,
     "user": {
      "displayName": "Matteo Riotto",
      "userId": "15211004813978485634"
     },
     "user_tz": 420
    },
    "id": "rrjFUhuEO_97",
    "outputId": "e10212ce-c26d-43c4-89d9-d354305ea9f6"
   },
   "outputs": [
    {
     "data": {
      "text/plain": [
       "False"
      ]
     },
     "execution_count": 9,
     "metadata": {},
     "output_type": "execute_result"
    }
   ],
   "source": [
    "# The `in` keyword lets you check if a value is contained in the list.\n",
    "x = [\"Now\", \"we\", \"are\", \"cooking\", \"with\", 7, \"ingredients\"]\n",
    "\"This\" in x"
   ]
  },
  {
   "cell_type": "markdown",
   "metadata": {
    "id": "D81RcOcsQXjr"
   },
   "source": [
    "<a name=\"2\"></a>\n",
    "## 2. [Modify the contents of a list](https://www.coursera.org/learn/get-started-with-python/lecture/6XFmF/modify-the-contents-of-a-list) "
   ]
  },
  {
   "cell_type": "markdown",
   "metadata": {},
   "source": [
    "### List methods\n",
    "- `append()` method adds an element to the end of a list"
   ]
  },
  {
   "cell_type": "code",
   "execution_count": 19,
   "metadata": {
    "colab": {
     "base_uri": "https://localhost:8080/"
    },
    "executionInfo": {
     "elapsed": 252,
     "status": "ok",
     "timestamp": 1679527745933,
     "user": {
      "displayName": "Matteo Riotto",
      "userId": "15211004813978485634"
     },
     "user_tz": 420
    },
    "id": "HdSy73e0Qddd",
    "outputId": "82d4ce93-8b1c-4f6c-877e-dd83115909b0"
   },
   "outputs": [
    {
     "name": "stdout",
     "output_type": "stream",
     "text": [
      "['Pineapple', 'Banana', 'Apple', 'Melon', 'Kiwi']\n"
     ]
    }
   ],
   "source": [
    "# The append() method adds an element to the end of a list.\n",
    "fruits = ['Pineapple', 'Banana', 'Apple', 'Melon']\n",
    "fruits.append('Kiwi')\n",
    "print(fruits)"
   ]
  },
  {
   "cell_type": "markdown",
   "metadata": {},
   "source": [
    "- `insert()` method requires 2 parameters, index as the 1st and element as the 2nd\n"
   ]
  },
  {
   "cell_type": "code",
   "execution_count": 20,
   "metadata": {
    "colab": {
     "base_uri": "https://localhost:8080/"
    },
    "executionInfo": {
     "elapsed": 218,
     "status": "ok",
     "timestamp": 1679527748612,
     "user": {
      "displayName": "Matteo Riotto",
      "userId": "15211004813978485634"
     },
     "user_tz": 420
    },
    "id": "_Y0gikBBQvvg",
    "outputId": "8c674bbe-4217-4232-9fe2-36d59af5941c"
   },
   "outputs": [
    {
     "name": "stdout",
     "output_type": "stream",
     "text": [
      "['Pineapple', 'Orange', 'Banana', 'Apple', 'Melon', 'Kiwi']\n"
     ]
    }
   ],
   "source": [
    "# The insert() method adds an element to a list at the specified index.\n",
    "fruits.insert(1, 'Orange')\n",
    "print(fruits)"
   ]
  },
  {
   "cell_type": "code",
   "execution_count": 21,
   "metadata": {
    "colab": {
     "base_uri": "https://localhost:8080/"
    },
    "executionInfo": {
     "elapsed": 5,
     "status": "ok",
     "timestamp": 1679527749078,
     "user": {
      "displayName": "Matteo Riotto",
      "userId": "15211004813978485634"
     },
     "user_tz": 420
    },
    "id": "q1QP_V8oUUiZ",
    "outputId": "f6ccf466-c349-46dd-de0b-ce4713a0b3c2"
   },
   "outputs": [
    {
     "name": "stdout",
     "output_type": "stream",
     "text": [
      "['Mango', 'Pineapple', 'Orange', 'Banana', 'Apple', 'Melon', 'Kiwi']\n"
     ]
    }
   ],
   "source": [
    "# The insert() method adds an element to a list at the specified index.\n",
    "fruits.insert(0, 'Mango')\n",
    "print(fruits)"
   ]
  },
  {
   "cell_type": "markdown",
   "metadata": {},
   "source": [
    "- `remove()` removes an element from a list"
   ]
  },
  {
   "cell_type": "code",
   "execution_count": 22,
   "metadata": {
    "colab": {
     "base_uri": "https://localhost:8080/"
    },
    "executionInfo": {
     "elapsed": 6,
     "status": "ok",
     "timestamp": 1679527804983,
     "user": {
      "displayName": "Matteo Riotto",
      "userId": "15211004813978485634"
     },
     "user_tz": 420
    },
    "id": "9RqN3eXXU9fh",
    "outputId": "ebf1936a-95ce-4e04-f4d6-cf4af4d11bed"
   },
   "outputs": [
    {
     "name": "stdout",
     "output_type": "stream",
     "text": [
      "['Mango', 'Pineapple', 'Orange', 'Apple', 'Melon', 'Kiwi']\n"
     ]
    }
   ],
   "source": [
    "# The remove() method deletes the first occurrence of an element in a list.\n",
    "fruits.remove('Banana')\n",
    "print(fruits)"
   ]
  },
  {
   "cell_type": "code",
   "execution_count": 23,
   "metadata": {
    "colab": {
     "base_uri": "https://localhost:8080/",
     "height": 187
    },
    "executionInfo": {
     "elapsed": 17,
     "status": "error",
     "timestamp": 1677168444841,
     "user": {
      "displayName": "Arwen Shackelford",
      "userId": "14614635049532489764"
     },
     "user_tz": 360
    },
    "id": "edy7XKVLVDYC",
    "outputId": "205225a9-6290-46c5-bdc9-53a94204add7"
   },
   "outputs": [
    {
     "ename": "ValueError",
     "evalue": "list.remove(x): x not in list",
     "output_type": "error",
     "traceback": [
      "\u001b[0;31m---------------------------------------------------------------------------\u001b[0m",
      "\u001b[0;31mValueError\u001b[0m                                Traceback (most recent call last)",
      "\u001b[0;32m<ipython-input-23-c164f7f003cd>\u001b[0m in \u001b[0;36m<module>\u001b[0;34m\u001b[0m\n\u001b[1;32m      1\u001b[0m \u001b[0;31m# Trying to remove an element that doesn't exist results in an error.\u001b[0m\u001b[0;34m\u001b[0m\u001b[0;34m\u001b[0m\u001b[0;34m\u001b[0m\u001b[0m\n\u001b[0;32m----> 2\u001b[0;31m \u001b[0mfruits\u001b[0m\u001b[0;34m.\u001b[0m\u001b[0mremove\u001b[0m\u001b[0;34m(\u001b[0m\u001b[0;34m'Strawberry'\u001b[0m\u001b[0;34m)\u001b[0m\u001b[0;34m\u001b[0m\u001b[0;34m\u001b[0m\u001b[0m\n\u001b[0m\u001b[1;32m      3\u001b[0m \u001b[0mprint\u001b[0m\u001b[0;34m(\u001b[0m\u001b[0mfruits\u001b[0m\u001b[0;34m)\u001b[0m\u001b[0;34m\u001b[0m\u001b[0;34m\u001b[0m\u001b[0m\n",
      "\u001b[0;31mValueError\u001b[0m: list.remove(x): x not in list"
     ]
    }
   ],
   "source": [
    "# Trying to remove an element that doesn't exist results in an error.\n",
    "fruits.remove('Strawberry')\n",
    "print(fruits)"
   ]
  },
  {
   "cell_type": "markdown",
   "metadata": {},
   "source": [
    "- `pop()` removes element from a list by removing it by given index"
   ]
  },
  {
   "cell_type": "code",
   "execution_count": 28,
   "metadata": {
    "colab": {
     "base_uri": "https://localhost:8080/"
    },
    "executionInfo": {
     "elapsed": 3,
     "status": "ok",
     "timestamp": 1677168446118,
     "user": {
      "displayName": "Arwen Shackelford",
      "userId": "14614635049532489764"
     },
     "user_tz": 360
    },
    "id": "juMXJl0eVJlZ",
    "outputId": "37b7cedb-d5f3-4cf1-e2a4-a8a62fa476b2"
   },
   "outputs": [
    {
     "name": "stdout",
     "output_type": "stream",
     "text": [
      "['Mango', 'Mango', 'Melon', 'Kiwi']\n"
     ]
    }
   ],
   "source": [
    "# The pop() method removes the element at a given index and returns it.\n",
    "# If no index is given, it removes and returns the last element.\n",
    "fruits.pop(2)\n",
    "print(fruits)"
   ]
  },
  {
   "cell_type": "markdown",
   "metadata": {},
   "source": [
    "- Reassign - replace with [ ]  the element at a given index with new value"
   ]
  },
  {
   "cell_type": "code",
   "execution_count": 29,
   "metadata": {
    "id": "qQ7OX3HhBXMz"
   },
   "outputs": [],
   "source": [
    "# Reassign the element at a given index with a new value.\n",
    "fruits[1] = 'Mango'"
   ]
  },
  {
   "cell_type": "code",
   "execution_count": 30,
   "metadata": {
    "colab": {
     "base_uri": "https://localhost:8080/"
    },
    "executionInfo": {
     "elapsed": 4,
     "status": "ok",
     "timestamp": 1677168460941,
     "user": {
      "displayName": "Arwen Shackelford",
      "userId": "14614635049532489764"
     },
     "user_tz": 360
    },
    "id": "rPv5Z0B7B6zO",
    "outputId": "9db62243-5a18-4bb0-b3d0-cedf3651185b"
   },
   "outputs": [
    {
     "name": "stdout",
     "output_type": "stream",
     "text": [
      "['Mango', 'Mango', 'Melon', 'Kiwi']\n"
     ]
    }
   ],
   "source": [
    "print(fruits)"
   ]
  },
  {
   "cell_type": "code",
   "execution_count": 31,
   "metadata": {
    "colab": {
     "base_uri": "https://localhost:8080/"
    },
    "executionInfo": {
     "elapsed": 5,
     "status": "ok",
     "timestamp": 1677168381910,
     "user": {
      "displayName": "Arwen Shackelford",
      "userId": "14614635049532489764"
     },
     "user_tz": 360
    },
    "id": "xIuYrhQzBcAF",
    "outputId": "cccb7ae5-9f46-4ebb-9a3b-7ee644ee21e8"
   },
   "outputs": [
    {
     "name": "stdout",
     "output_type": "stream",
     "text": [
      "1.21 gigawatts\n"
     ]
    }
   ],
   "source": [
    "# Strings are immutable because you need to reassign them to modify them.\n",
    "power = '1.21'\n",
    "power = power + ' gigawatts'\n",
    "print(power)"
   ]
  },
  {
   "cell_type": "code",
   "execution_count": 32,
   "metadata": {
    "colab": {
     "base_uri": "https://localhost:8080/",
     "height": 169
    },
    "executionInfo": {
     "elapsed": 755,
     "status": "error",
     "timestamp": 1677168396861,
     "user": {
      "displayName": "Arwen Shackelford",
      "userId": "14614635049532489764"
     },
     "user_tz": 360
    },
    "id": "QJ_2uXd8Bqc-",
    "outputId": "6fd8560e-8044-4231-af6c-0cfbc9c0b9d5"
   },
   "outputs": [
    {
     "ename": "TypeError",
     "evalue": "'str' object does not support item assignment",
     "output_type": "error",
     "traceback": [
      "\u001b[0;31m---------------------------------------------------------------------------\u001b[0m",
      "\u001b[0;31mTypeError\u001b[0m                                 Traceback (most recent call last)",
      "\u001b[0;32m<ipython-input-32-7834e7b6b0fa>\u001b[0m in \u001b[0;36m<module>\u001b[0;34m\u001b[0m\n\u001b[1;32m      1\u001b[0m \u001b[0;31m# You cannot reassign a specific character within a string.\u001b[0m\u001b[0;34m\u001b[0m\u001b[0;34m\u001b[0m\u001b[0;34m\u001b[0m\u001b[0m\n\u001b[0;32m----> 2\u001b[0;31m \u001b[0mpower\u001b[0m\u001b[0;34m[\u001b[0m\u001b[0;36m0\u001b[0m\u001b[0;34m]\u001b[0m \u001b[0;34m=\u001b[0m \u001b[0;34m'2'\u001b[0m\u001b[0;34m\u001b[0m\u001b[0;34m\u001b[0m\u001b[0m\n\u001b[0m",
      "\u001b[0;31mTypeError\u001b[0m: 'str' object does not support item assignment"
     ]
    }
   ],
   "source": [
    "# You cannot reassign a specific character within a string.\n",
    "power[0] = '2'"
   ]
  },
  {
   "cell_type": "code",
   "execution_count": 33,
   "metadata": {
    "colab": {
     "base_uri": "https://localhost:8080/"
    },
    "executionInfo": {
     "elapsed": 4,
     "status": "ok",
     "timestamp": 1677168426352,
     "user": {
      "displayName": "Arwen Shackelford",
      "userId": "14614635049532489764"
     },
     "user_tz": 360
    },
    "id": "xzv5_He4Bt51",
    "outputId": "a4b71377-20ff-468b-e961-511561faac51"
   },
   "outputs": [
    {
     "name": "stdout",
     "output_type": "stream",
     "text": [
      "[2.21, 'gigawatts']\n"
     ]
    }
   ],
   "source": [
    "# Lists are mutable because you can overwrite their elements\n",
    "power = [1.21, 'gigawatts']\n",
    "power[0] = 2.21\n",
    "print(power)"
   ]
  },
  {
   "cell_type": "markdown",
   "metadata": {},
   "source": [
    "`clear()` removes all items:"
   ]
  },
  {
   "cell_type": "code",
   "execution_count": 34,
   "metadata": {},
   "outputs": [
    {
     "name": "stdout",
     "output_type": "stream",
     "text": [
      "[]\n"
     ]
    }
   ],
   "source": [
    "my_list = ['a', 'b', 'c']\n",
    "my_list.clear()\n",
    "print(my_list)"
   ]
  },
  {
   "cell_type": "markdown",
   "metadata": {},
   "source": [
    "`index()` returns the index of the first occurrence of an item in the list:"
   ]
  },
  {
   "cell_type": "code",
   "execution_count": 35,
   "metadata": {},
   "outputs": [
    {
     "data": {
      "text/plain": [
       "0"
      ]
     },
     "execution_count": 35,
     "metadata": {},
     "output_type": "execute_result"
    }
   ],
   "source": [
    "my_list = ['a', 'b', 'c', 'a']\n",
    "my_list.index('a')"
   ]
  },
  {
   "cell_type": "markdown",
   "metadata": {},
   "source": [
    "`count()` returns the number of times an item occurs in the list:"
   ]
  },
  {
   "cell_type": "code",
   "execution_count": 36,
   "metadata": {},
   "outputs": [
    {
     "data": {
      "text/plain": [
       "2"
      ]
     },
     "execution_count": 36,
     "metadata": {},
     "output_type": "execute_result"
    }
   ],
   "source": [
    "my_list = ['a', 'b', 'c', 'a']\n",
    "my_list.count('a')"
   ]
  },
  {
   "cell_type": "markdown",
   "metadata": {},
   "source": [
    "`sort()` sorts the list ascending by default. You can also make a function to decide the sorting criteria:"
   ]
  },
  {
   "cell_type": "code",
   "execution_count": 37,
   "metadata": {},
   "outputs": [
    {
     "name": "stdout",
     "output_type": "stream",
     "text": [
      "['a', 'b', 'c']\n",
      "[3, 2, 1]\n"
     ]
    }
   ],
   "source": [
    "char_list = ['b', 'c', 'a']\n",
    "num_list = [2, 3, 1]\n",
    "char_list.sort()\n",
    "num_list.sort(reverse=True)\n",
    "print(char_list)\n",
    "print(num_list)"
   ]
  },
  {
   "cell_type": "markdown",
   "metadata": {
    "id": "XAoYdstkPR8h"
   },
   "source": [
    "<a name=\"3\"></a>\n",
    "## 3. [Introduction to tuples](https://www.coursera.org/learn/get-started-with-python/lecture/JjSVN/introduction-to-tuples) "
   ]
  },
  {
   "cell_type": "markdown",
   "metadata": {},
   "source": [
    "**Tuple** is an immutable sequence that can contain elements of any data type\n",
    "\n",
    "Tuple is similar to list but more secured because can not be changed easily"
   ]
  },
  {
   "cell_type": "code",
   "execution_count": 38,
   "metadata": {
    "colab": {
     "base_uri": "https://localhost:8080/",
     "height": 204
    },
    "executionInfo": {
     "elapsed": 6,
     "status": "error",
     "timestamp": 1677171467618,
     "user": {
      "displayName": "Arwen Shackelford",
      "userId": "14614635049532489764"
     },
     "user_tz": 360
    },
    "id": "IXko2mWtPRWb",
    "outputId": "a2cb9f16-2608-436d-cef1-7387fc269348"
   },
   "outputs": [
    {
     "ename": "TypeError",
     "evalue": "'tuple' object does not support item assignment",
     "output_type": "error",
     "traceback": [
      "\u001b[0;31m---------------------------------------------------------------------------\u001b[0m",
      "\u001b[0;31mTypeError\u001b[0m                                 Traceback (most recent call last)",
      "\u001b[0;32m<ipython-input-38-2707d2b50c4d>\u001b[0m in \u001b[0;36m<module>\u001b[0;34m\u001b[0m\n\u001b[1;32m      3\u001b[0m \u001b[0;34m\u001b[0m\u001b[0m\n\u001b[1;32m      4\u001b[0m \u001b[0;31m# Tuples are immutable, so their elements cannot be overwritten.\u001b[0m\u001b[0;34m\u001b[0m\u001b[0;34m\u001b[0m\u001b[0;34m\u001b[0m\u001b[0m\n\u001b[0;32m----> 5\u001b[0;31m \u001b[0mfullname\u001b[0m\u001b[0;34m[\u001b[0m\u001b[0;36m2\u001b[0m\u001b[0;34m]\u001b[0m \u001b[0;34m=\u001b[0m \u001b[0;34m'Copper'\u001b[0m\u001b[0;34m\u001b[0m\u001b[0;34m\u001b[0m\u001b[0m\n\u001b[0m\u001b[1;32m      6\u001b[0m \u001b[0mprint\u001b[0m\u001b[0;34m(\u001b[0m\u001b[0mfullname\u001b[0m\u001b[0;34m)\u001b[0m\u001b[0;34m\u001b[0m\u001b[0;34m\u001b[0m\u001b[0m\n",
      "\u001b[0;31mTypeError\u001b[0m: 'tuple' object does not support item assignment"
     ]
    }
   ],
   "source": [
    "# Tuples are instantiated with parentheses.\n",
    "fullname = ('Masha', 'Z', 'Hopper')\n",
    "\n",
    "# Tuples are immutable, so their elements cannot be overwritten.\n",
    "fullname[2] = 'Copper'\n",
    "print(fullname)"
   ]
  },
  {
   "cell_type": "code",
   "execution_count": 39,
   "metadata": {
    "colab": {
     "base_uri": "https://localhost:8080/"
    },
    "executionInfo": {
     "elapsed": 284,
     "status": "ok",
     "timestamp": 1677171470456,
     "user": {
      "displayName": "Arwen Shackelford",
      "userId": "14614635049532489764"
     },
     "user_tz": 360
    },
    "id": "O7lPs_DASckC",
    "outputId": "4fd16765-810a-4a83-edeb-b66c2c4fa0c1"
   },
   "outputs": [
    {
     "name": "stdout",
     "output_type": "stream",
     "text": [
      "('Masha', 'Z', 'Hopper', 'Jr')\n"
     ]
    }
   ],
   "source": [
    "# You can combine tuples using addition.\n",
    "fullname = fullname + ('Jr',)\n",
    "print(fullname)"
   ]
  },
  {
   "cell_type": "code",
   "execution_count": 40,
   "metadata": {
    "colab": {
     "base_uri": "https://localhost:8080/"
    },
    "executionInfo": {
     "elapsed": 267,
     "status": "ok",
     "timestamp": 1677171474546,
     "user": {
      "displayName": "Arwen Shackelford",
      "userId": "14614635049532489764"
     },
     "user_tz": 360
    },
    "id": "81v6-Uh6hBxk",
    "outputId": "9ec683da-d73e-4f83-93f1-ea51ad99863c"
   },
   "outputs": [
    {
     "name": "stdout",
     "output_type": "stream",
     "text": [
      "('Masha', 'Z', 'Hopper')\n"
     ]
    }
   ],
   "source": [
    "# The tuple() function converts an object's data type to tuple.\n",
    "fullname = ['Masha', 'Z', 'Hopper']\n",
    "fullname = tuple(fullname)\n",
    "print(fullname)"
   ]
  },
  {
   "cell_type": "code",
   "execution_count": 41,
   "metadata": {
    "id": "Tv9RGeMNTBaQ"
   },
   "outputs": [],
   "source": [
    "# Functions that return multiple values return them in a tuple.\n",
    "def to_dollars_cents(price):\n",
    "    '''\n",
    "    Split price (float) into dollars and cents.\n",
    "    '''\n",
    "    dollars = int(price // 1)\n",
    "    cents = round(price % 1 * 100)\n",
    "\n",
    "    return dollars, cents"
   ]
  },
  {
   "cell_type": "code",
   "execution_count": 42,
   "metadata": {
    "colab": {
     "base_uri": "https://localhost:8080/"
    },
    "executionInfo": {
     "elapsed": 13,
     "status": "ok",
     "timestamp": 1676493162932,
     "user": {
      "displayName": "Matteo Riotto",
      "userId": "15211004813978485634"
     },
     "user_tz": 480
    },
    "id": "pH6IfLmugLDx",
    "outputId": "df0071da-3502-41f0-8bad-f1be54e8e26e"
   },
   "outputs": [
    {
     "data": {
      "text/plain": [
       "(6, 55)"
      ]
     },
     "execution_count": 42,
     "metadata": {},
     "output_type": "execute_result"
    }
   ],
   "source": [
    "# Functions that return multiple values return them in a tuple.\n",
    "to_dollars_cents(6.55)"
   ]
  },
  {
   "cell_type": "code",
   "execution_count": 43,
   "metadata": {
    "colab": {
     "base_uri": "https://localhost:8080/"
    },
    "executionInfo": {
     "elapsed": 10,
     "status": "ok",
     "timestamp": 1676493162932,
     "user": {
      "displayName": "Matteo Riotto",
      "userId": "15211004813978485634"
     },
     "user_tz": 480
    },
    "id": "1NJqCSuwih_S",
    "outputId": "37d1f022-99a6-4ad7-b535-e6fd1ce25bee"
   },
   "outputs": [
    {
     "name": "stdout",
     "output_type": "stream",
     "text": [
      "7\n",
      "56\n"
     ]
    }
   ],
   "source": [
    "# \"Unpacking\" a tuple allows a tuple's elements to be assigned to variables.\n",
    "dollars, cents = to_dollars_cents(6.55)\n",
    "print(dollars + 1)\n",
    "print(cents + 1)"
   ]
  },
  {
   "cell_type": "code",
   "execution_count": 44,
   "metadata": {
    "colab": {
     "base_uri": "https://localhost:8080/"
    },
    "executionInfo": {
     "elapsed": 9,
     "status": "ok",
     "timestamp": 1676493162933,
     "user": {
      "displayName": "Matteo Riotto",
      "userId": "15211004813978485634"
     },
     "user_tz": 480
    },
    "id": "JTowOAiumDDI",
    "outputId": "6d90ff7b-3c8e-44be-f48e-5eba26cd335f"
   },
   "outputs": [
    {
     "data": {
      "text/plain": [
       "int"
      ]
     },
     "execution_count": 44,
     "metadata": {},
     "output_type": "execute_result"
    }
   ],
   "source": [
    "# The data type of an element of an unpacked tuple is not necessarily a tuple.\n",
    "type(dollars)"
   ]
  },
  {
   "cell_type": "code",
   "execution_count": 45,
   "metadata": {
    "id": "q4ErxqbpnZ6N"
   },
   "outputs": [],
   "source": [
    "# Create a list of tuples, each representing the name, age, and position of a\n",
    "# player on a basketball team.\n",
    "team = [('Marta', 20, 'center'),\n",
    "        ('Ana', 22, 'point guard'),\n",
    "        ('Gabi', 22, 'shooting guard'),\n",
    "        ('Luz', 21, 'power forward'),\n",
    "        ('Lorena', 19, 'small forward'),\n",
    "        ]"
   ]
  },
  {
   "cell_type": "code",
   "execution_count": 46,
   "metadata": {
    "colab": {
     "base_uri": "https://localhost:8080/"
    },
    "executionInfo": {
     "elapsed": 8,
     "status": "ok",
     "timestamp": 1676493162934,
     "user": {
      "displayName": "Matteo Riotto",
      "userId": "15211004813978485634"
     },
     "user_tz": 480
    },
    "id": "z28KRTr6v25F",
    "outputId": "05294717-e13f-45c8-c505-0b02e923d992"
   },
   "outputs": [
    {
     "name": "stdout",
     "output_type": "stream",
     "text": [
      "Marta\n",
      "Ana\n",
      "Gabi\n",
      "Luz\n",
      "Lorena\n"
     ]
    }
   ],
   "source": [
    "# Use a for loop to loop over the list, unpack the tuple at each iteration, and\n",
    "# print one of the values.\n",
    "for name, age, position in team:\n",
    "    print(name)"
   ]
  },
  {
   "cell_type": "code",
   "execution_count": 49,
   "metadata": {
    "colab": {
     "base_uri": "https://localhost:8080/"
    },
    "executionInfo": {
     "elapsed": 4,
     "status": "ok",
     "timestamp": 1676493163140,
     "user": {
      "displayName": "Matteo Riotto",
      "userId": "15211004813978485634"
     },
     "user_tz": 480
    },
    "id": "SUseWauPwBez",
    "outputId": "3ae863ae-c01b-4217-e40e-09f6e32c9bf8"
   },
   "outputs": [
    {
     "name": "stdout",
     "output_type": "stream",
     "text": [
      "20\n",
      "22\n",
      "22\n",
      "21\n",
      "19\n"
     ]
    }
   ],
   "source": [
    "# This code produces the same result as the code in the cell above.\n",
    "for player in team:\n",
    "    print(player[1])"
   ]
  },
  {
   "cell_type": "markdown",
   "metadata": {
    "id": "NHAFAL6gk4P7"
   },
   "source": [
    "<a name=\"4\"></a>\n",
    "## 4. [More with loops, lists, and tuples](https://www.coursera.org/learn/get-started-with-python/lecture/FQoWl/more-with-loops-lists-and-tuples) "
   ]
  },
  {
   "cell_type": "code",
   "execution_count": 50,
   "metadata": {
    "id": "BtMmO2TUwsWp"
   },
   "outputs": [],
   "source": [
    "# Create a list of tuples, each representing the name, age, and position of a\n",
    "# player on a basketball team.\n",
    "team = [\n",
    "    ('Marta', 20, 'center'),\n",
    "    ('Ana', 22, 'point guard'),\n",
    "    ('Gabi', 22, 'shooting guard'),\n",
    "    ('Luz', 21, 'power forward'),\n",
    "    ('Lorena', 19, 'small forward'),\n",
    "    ]"
   ]
  },
  {
   "attachments": {
    "image.png": {
     "image/png": "[encoded data removed]"
    }
   },
   "cell_type": "markdown",
   "metadata": {},
   "source": [
    "![image.png](attachment:image.png)"
   ]
  },
  {
   "cell_type": "code",
   "execution_count": 51,
   "metadata": {
    "id": "I2e0jf0E-JXH"
   },
   "outputs": [],
   "source": [
    "# Create a function to extract and names and positions from the team list and\n",
    "# format them to be printed. Returns a list.\n",
    "def player_position(players):\n",
    "    result = []\n",
    "    for name, age, position in players:\n",
    "        result.append('Name: {:>19} \\nPosition: {:>15}\\n'.format(name, position))\n",
    "\n",
    "    return result"
   ]
  },
  {
   "cell_type": "code",
   "execution_count": 52,
   "metadata": {
    "colab": {
     "base_uri": "https://localhost:8080/"
    },
    "executionInfo": {
     "elapsed": 5,
     "status": "ok",
     "timestamp": 1676497455619,
     "user": {
      "displayName": "Matteo Riotto",
      "userId": "15211004813978485634"
     },
     "user_tz": 480
    },
    "id": "RUer_ye5-y0m",
    "outputId": "b31c3bc9-479b-44e0-bae9-7dc2c8d5b2b0"
   },
   "outputs": [
    {
     "name": "stdout",
     "output_type": "stream",
     "text": [
      "Name:               Marta \n",
      "Position:          center\n",
      "\n",
      "Name:                 Ana \n",
      "Position:     point guard\n",
      "\n",
      "Name:                Gabi \n",
      "Position:  shooting guard\n",
      "\n",
      "Name:                 Luz \n",
      "Position:   power forward\n",
      "\n",
      "Name:              Lorena \n",
      "Position:   small forward\n",
      "\n"
     ]
    }
   ],
   "source": [
    "# Loop over the list of formatted names and positions produced by\n",
    "# player_position() function and print them.\n",
    "for player in player_position(team):\n",
    "    print(player)"
   ]
  },
  {
   "cell_type": "code",
   "execution_count": 53,
   "metadata": {
    "colab": {
     "base_uri": "https://localhost:8080/"
    },
    "executionInfo": {
     "elapsed": 276,
     "status": "ok",
     "timestamp": 1676511490905,
     "user": {
      "displayName": "Matteo Riotto",
      "userId": "15211004813978485634"
     },
     "user_tz": 480
    },
    "id": "OfEBTp1A-01m",
    "outputId": "3b53470a-f5e0-4179-edd5-41d9ffec7052"
   },
   "outputs": [
    {
     "name": "stdout",
     "output_type": "stream",
     "text": [
      "[0|0] [0|1] [0|2] [0|3] [0|4] [0|5] [0|6] \n",
      "\n",
      "[1|1] [1|2] [1|3] [1|4] [1|5] [1|6] \n",
      "\n",
      "[2|2] [2|3] [2|4] [2|5] [2|6] \n",
      "\n",
      "[3|3] [3|4] [3|5] [3|6] \n",
      "\n",
      "[4|4] [4|5] [4|6] \n",
      "\n",
      "[5|5] [5|6] \n",
      "\n",
      "[6|6] \n",
      "\n"
     ]
    }
   ],
   "source": [
    "# Nested loops can produce the different combinations of pips (dots) in\n",
    "# a set of dominoes.\n",
    "for left in range(7):\n",
    "    for right in range(left, 7):\n",
    "        print(f\"[{left}|{right}]\", end=\" \")\n",
    "    print('\\n')"
   ]
  },
  {
   "cell_type": "code",
   "execution_count": 54,
   "metadata": {
    "colab": {
     "base_uri": "https://localhost:8080/"
    },
    "executionInfo": {
     "elapsed": 213,
     "status": "ok",
     "timestamp": 1676512335291,
     "user": {
      "displayName": "Matteo Riotto",
      "userId": "15211004813978485634"
     },
     "user_tz": 480
    },
    "id": "G-ge8V0G5r_U",
    "outputId": "f0a19ac8-1559-49d5-8dc0-f42f2d84d31a",
    "scrolled": true
   },
   "outputs": [
    {
     "data": {
      "text/plain": [
       "[(0, 0),\n",
       " (0, 1),\n",
       " (0, 2),\n",
       " (0, 3),\n",
       " (0, 4),\n",
       " (0, 5),\n",
       " (0, 6),\n",
       " (1, 1),\n",
       " (1, 2),\n",
       " (1, 3),\n",
       " (1, 4),\n",
       " (1, 5),\n",
       " (1, 6),\n",
       " (2, 2),\n",
       " (2, 3),\n",
       " (2, 4),\n",
       " (2, 5),\n",
       " (2, 6),\n",
       " (3, 3),\n",
       " (3, 4),\n",
       " (3, 5),\n",
       " (3, 6),\n",
       " (4, 4),\n",
       " (4, 5),\n",
       " (4, 6),\n",
       " (5, 5),\n",
       " (5, 6),\n",
       " (6, 6)]"
      ]
     },
     "execution_count": 54,
     "metadata": {},
     "output_type": "execute_result"
    }
   ],
   "source": [
    "# Create a list of dominoes, with each domino reprented as a tuple.\n",
    "dominoes = []\n",
    "for left in range(7):\n",
    "    for right in range(left, 7):\n",
    "        dominoes.append((left, right))\n",
    "dominoes"
   ]
  },
  {
   "cell_type": "code",
   "execution_count": 55,
   "metadata": {
    "colab": {
     "base_uri": "https://localhost:8080/"
    },
    "executionInfo": {
     "elapsed": 238,
     "status": "ok",
     "timestamp": 1676512931373,
     "user": {
      "displayName": "Matteo Riotto",
      "userId": "15211004813978485634"
     },
     "user_tz": 480
    },
    "id": "XUwLvyZUj8rI",
    "outputId": "e579bc6c-0673-4596-bd58-6d2bee75ee42"
   },
   "outputs": [
    {
     "data": {
      "text/plain": [
       "4"
      ]
     },
     "execution_count": 55,
     "metadata": {},
     "output_type": "execute_result"
    }
   ],
   "source": [
    "# Select index 1 of the tuple at index 4 in the list of dominoes.\n",
    "dominoes[4][1]"
   ]
  },
  {
   "cell_type": "markdown",
   "metadata": {
    "id": "ZSibIE_-HDbs"
   },
   "source": [
    "In the following code cells are two ways to add the total number of pips on each individual domino to a list, as indicated in this diagram:\n",
    "\n",
    "![Screenshot 2023-03-23 1.13.21 PM.png](data:image/png;base64,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)\n",
    "\n",
    "The first way uses a for loop. The second way uses a list comprehension."
   ]
  },
  {
   "cell_type": "markdown",
   "metadata": {},
   "source": [
    "A list comprehension is a formulaic creation of a new list based on the values in an existing list"
   ]
  },
  {
   "cell_type": "code",
   "execution_count": 56,
   "metadata": {
    "colab": {
     "base_uri": "https://localhost:8080/"
    },
    "executionInfo": {
     "elapsed": 212,
     "status": "ok",
     "timestamp": 1676514540245,
     "user": {
      "displayName": "Matteo Riotto",
      "userId": "15211004813978485634"
     },
     "user_tz": 480
    },
    "id": "gDE7EZF6AEgQ",
    "outputId": "81e1b175-50a2-437d-fe4e-82f7619e29ba"
   },
   "outputs": [
    {
     "name": "stdout",
     "output_type": "stream",
     "text": [
      "[0, 1, 2, 3, 4, 5, 6, 2, 3, 4, 5, 6, 7, 4, 5, 6, 7, 8, 6, 7, 8, 9, 8, 9, 10, 10, 11, 12]\n"
     ]
    }
   ],
   "source": [
    "# You can use a for loop to sum the pips on each domino and append\n",
    "# the sum to a new list.\n",
    "pips_from_loop = []\n",
    "for domino in dominoes:\n",
    "    pips_from_loop.append(domino[0] + domino[1])\n",
    "print(pips_from_loop)"
   ]
  },
  {
   "cell_type": "code",
   "execution_count": 57,
   "metadata": {
    "colab": {
     "base_uri": "https://localhost:8080/"
    },
    "executionInfo": {
     "elapsed": 225,
     "status": "ok",
     "timestamp": 1676514730268,
     "user": {
      "displayName": "Matteo Riotto",
      "userId": "15211004813978485634"
     },
     "user_tz": 480
    },
    "id": "QGRntZB6Cicc",
    "outputId": "52622e2f-0bfb-4db1-91b6-ffcf3a5a067f"
   },
   "outputs": [
    {
     "data": {
      "text/plain": [
       "True"
      ]
     },
     "execution_count": 57,
     "metadata": {},
     "output_type": "execute_result"
    }
   ],
   "source": [
    "# A list comprehension produces the same result with less code.\n",
    "pips_from_list_comp = [domino[0] + domino[1] for domino in dominoes]\n",
    "pips_from_loop == pips_from_list_comp"
   ]
  },
  {
   "cell_type": "markdown",
   "metadata": {
    "id": "bQP13yalePBw"
   },
   "source": [
    "<a name=\"5\"></a>\n",
    "## 5. [Introduction to dictionaries](https://www.coursera.org/learn/get-started-with-python/lecture/QVo2v/introduction-to-dictionaries) "
   ]
  },
  {
   "cell_type": "markdown",
   "metadata": {},
   "source": [
    "**Dictionary** is a data structure that consits of a collection of key-value pairs\n",
    "\n",
    "The keys of dictionary is immutable, but not limited to int, floats, tuples, strings but cannot use lists, sets, other dictionaries"
   ]
  },
  {
   "cell_type": "code",
   "execution_count": 1,
   "metadata": {
    "colab": {
     "base_uri": "https://localhost:8080/",
     "height": 35
    },
    "executionInfo": {
     "elapsed": 200,
     "status": "ok",
     "timestamp": 1676577430547,
     "user": {
      "displayName": "Matteo Riotto",
      "userId": "15211004813978485634"
     },
     "user_tz": 480
    },
    "id": "ecUCO-HjhkmX",
    "outputId": "5a73d035-27bc-4223-9611-c0020d131c92"
   },
   "outputs": [
    {
     "data": {
      "text/plain": [
       "'zebras'"
      ]
     },
     "execution_count": 1,
     "metadata": {},
     "output_type": "execute_result"
    }
   ],
   "source": [
    "# Create a dictionary with pens as keys and the animals they contain as values.\n",
    "# Dictionaries can be instantiated using braces.\n",
    "zoo = {\n",
    "    'pen_1': 'penguins',\n",
    "    'pen_2': 'zebras',\n",
    "    'pen_3': 'lions',\n",
    "    }\n",
    "\n",
    "# Selecting the `pen_2` key returns `zebras`, the value stored at that key.\n",
    "zoo['pen_2']"
   ]
  },
  {
   "cell_type": "code",
   "execution_count": 2,
   "metadata": {
    "colab": {
     "base_uri": "https://localhost:8080/",
     "height": 166
    },
    "executionInfo": {
     "elapsed": 386,
     "status": "error",
     "timestamp": 1676573574496,
     "user": {
      "displayName": "Matteo Riotto",
      "userId": "15211004813978485634"
     },
     "user_tz": 480
    },
    "id": "H-NTOayLkmSM",
    "outputId": "072fabba-c04a-49f2-b9af-274368c88710"
   },
   "outputs": [
    {
     "ename": "KeyError",
     "evalue": "'zebras'",
     "output_type": "error",
     "traceback": [
      "\u001b[0;31m---------------------------------------------------------------------------\u001b[0m",
      "\u001b[0;31mKeyError\u001b[0m                                  Traceback (most recent call last)",
      "\u001b[0;32m<ipython-input-2-00e5a49431dc>\u001b[0m in \u001b[0;36m<module>\u001b[0;34m\u001b[0m\n\u001b[1;32m      1\u001b[0m \u001b[0;31m# You cannot access a dictionary's values by name using bracket indexing\u001b[0m\u001b[0;34m\u001b[0m\u001b[0;34m\u001b[0m\u001b[0;34m\u001b[0m\u001b[0m\n\u001b[1;32m      2\u001b[0m \u001b[0;31m# because the computer interprets this as a key, not a value.\u001b[0m\u001b[0;34m\u001b[0m\u001b[0;34m\u001b[0m\u001b[0;34m\u001b[0m\u001b[0m\n\u001b[0;32m----> 3\u001b[0;31m \u001b[0mzoo\u001b[0m\u001b[0;34m[\u001b[0m\u001b[0;34m'zebras'\u001b[0m\u001b[0;34m]\u001b[0m\u001b[0;34m\u001b[0m\u001b[0;34m\u001b[0m\u001b[0m\n\u001b[0m",
      "\u001b[0;31mKeyError\u001b[0m: 'zebras'"
     ]
    }
   ],
   "source": [
    "# You cannot access a dictionary's values by name using bracket indexing\n",
    "# because the computer interprets this as a key, not a value.\n",
    "zoo['zebras']"
   ]
  },
  {
   "cell_type": "code",
   "execution_count": 3,
   "metadata": {
    "colab": {
     "base_uri": "https://localhost:8080/",
     "height": 35
    },
    "executionInfo": {
     "elapsed": 199,
     "status": "ok",
     "timestamp": 1676576745237,
     "user": {
      "displayName": "Matteo Riotto",
      "userId": "15211004813978485634"
     },
     "user_tz": 480
    },
    "id": "dR5NY2JXn7jr",
    "outputId": "37dc69cc-72a2-47bd-d75d-80c2f9ce66d6"
   },
   "outputs": [
    {
     "data": {
      "text/plain": [
       "'zebras'"
      ]
     },
     "execution_count": 3,
     "metadata": {},
     "output_type": "execute_result"
    }
   ],
   "source": [
    "# Dictionaries can also be instantiated using the dict() function.\n",
    "zoo = dict(\n",
    "    pen_1='monkeys',\n",
    "    pen_2='zebras',\n",
    "    pen_3='lions',\n",
    "    )\n",
    "\n",
    "zoo['pen_2']"
   ]
  },
  {
   "cell_type": "code",
   "execution_count": 4,
   "metadata": {
    "colab": {
     "base_uri": "https://localhost:8080/",
     "height": 35
    },
    "executionInfo": {
     "elapsed": 206,
     "status": "ok",
     "timestamp": 1676594299785,
     "user": {
      "displayName": "Matteo Riotto",
      "userId": "15211004813978485634"
     },
     "user_tz": 480
    },
    "id": "7zOIdmtpolWV",
    "outputId": "882bf42e-2b50-4f43-f5a9-fccc145c6bcb"
   },
   "outputs": [
    {
     "data": {
      "text/plain": [
       "'zebras'"
      ]
     },
     "execution_count": 4,
     "metadata": {},
     "output_type": "execute_result"
    }
   ],
   "source": [
    "# Another way to create a dictionary using the dict() function.\n",
    "zoo = dict(\n",
    "    [\n",
    "     ['pen_1', 'monkeys'],\n",
    "     ['pen_2', 'zebras'],\n",
    "     ['pen_3', 'lions'],\n",
    "    ]\n",
    ")\n",
    "\n",
    "zoo['pen_2']"
   ]
  },
  {
   "cell_type": "code",
   "execution_count": 5,
   "metadata": {
    "colab": {
     "base_uri": "https://localhost:8080/"
    },
    "executionInfo": {
     "elapsed": 5,
     "status": "ok",
     "timestamp": 1676594300537,
     "user": {
      "displayName": "Matteo Riotto",
      "userId": "15211004813978485634"
     },
     "user_tz": 480
    },
    "id": "41ycZUxc2hH7",
    "outputId": "2b5a23a9-5040-4f94-8540-cb58624e78ae"
   },
   "outputs": [
    {
     "data": {
      "text/plain": [
       "{'pen_1': 'monkeys',\n",
       " 'pen_2': 'zebras',\n",
       " 'pen_3': 'lions',\n",
       " 'pen_4': 'crocodiles'}"
      ]
     },
     "execution_count": 5,
     "metadata": {},
     "output_type": "execute_result"
    }
   ],
   "source": [
    "# Assign a new key: value pair to an existing dictionary.\n",
    "zoo['pen_4'] = 'crocodiles'\n",
    "zoo"
   ]
  },
  {
   "cell_type": "code",
   "execution_count": 6,
   "metadata": {
    "colab": {
     "base_uri": "https://localhost:8080/",
     "height": 166
    },
    "executionInfo": {
     "elapsed": 201,
     "status": "error",
     "timestamp": 1676594302049,
     "user": {
      "displayName": "Matteo Riotto",
      "userId": "15211004813978485634"
     },
     "user_tz": 480
    },
    "id": "yKDQvbjN58E9",
    "outputId": "a41e948b-bede-4b71-d92a-225f10edb62d"
   },
   "outputs": [
    {
     "ename": "KeyError",
     "evalue": "2",
     "output_type": "error",
     "traceback": [
      "\u001b[0;31m---------------------------------------------------------------------------\u001b[0m",
      "\u001b[0;31mKeyError\u001b[0m                                  Traceback (most recent call last)",
      "\u001b[0;32m<ipython-input-6-6538832964d3>\u001b[0m in \u001b[0;36m<module>\u001b[0;34m\u001b[0m\n\u001b[1;32m      1\u001b[0m \u001b[0;31m# Dictionaries are unordered and do not support numerical indexing.\u001b[0m\u001b[0;34m\u001b[0m\u001b[0;34m\u001b[0m\u001b[0;34m\u001b[0m\u001b[0m\n\u001b[0;32m----> 2\u001b[0;31m \u001b[0mzoo\u001b[0m\u001b[0;34m[\u001b[0m\u001b[0;36m2\u001b[0m\u001b[0;34m]\u001b[0m\u001b[0;34m\u001b[0m\u001b[0;34m\u001b[0m\u001b[0m\n\u001b[0m",
      "\u001b[0;31mKeyError\u001b[0m: 2"
     ]
    }
   ],
   "source": [
    "# Dictionaries are unordered and do not support numerical indexing.\n",
    "zoo[2]"
   ]
  },
  {
   "cell_type": "code",
   "execution_count": 7,
   "metadata": {
    "colab": {
     "base_uri": "https://localhost:8080/"
    },
    "executionInfo": {
     "elapsed": 199,
     "status": "ok",
     "timestamp": 1676594388208,
     "user": {
      "displayName": "Matteo Riotto",
      "userId": "15211004813978485634"
     },
     "user_tz": 480
    },
    "id": "6f6kPafrz7dM",
    "outputId": "3862aa20-46f7-453f-a74d-d27cf06032fa"
   },
   "outputs": [
    {
     "name": "stdout",
     "output_type": "stream",
     "text": [
      "True\n",
      "False\n"
     ]
    }
   ],
   "source": [
    "# Use the `in` keyword to produce a Boolean of whether a given key exists in a dictionary.\n",
    "print('pen_1' in zoo)\n",
    "print('pen_7' in zoo)"
   ]
  },
  {
   "cell_type": "markdown",
   "metadata": {
    "id": "yCT12nCSk-7C"
   },
   "source": [
    "<a name=\"6\"></a>\n",
    "## 6. [Dictionary methods](https://www.coursera.org/learn/get-started-with-python/lecture/RXwmm/dictionary-methods) \n"
   ]
  },
  {
   "cell_type": "code",
   "execution_count": 1,
   "metadata": {
    "id": "hdkU2AtmMMSd"
   },
   "outputs": [],
   "source": [
    "# Create a list of tuples, each representing the name, age, and position of a\n",
    "# player on a basketball team.\n",
    "team = [\n",
    "    ('Marta', 20, 'center'),\n",
    "    ('Ana', 22, 'point guard'),\n",
    "    ('Gabi', 22, 'shooting guard'),\n",
    "    ('Luz', 21, 'power forward'),\n",
    "    ('Lorena', 19, 'small forward'),\n",
    "    ]"
   ]
  },
  {
   "cell_type": "code",
   "execution_count": 2,
   "metadata": {
    "id": "cKwwwcPLMQTv"
   },
   "outputs": [],
   "source": [
    "# Add new players to the list.\n",
    "team = [\n",
    "    ('Marta', 20, 'center'),\n",
    "    ('Ana', 22, 'point guard'),\n",
    "    ('Gabi', 22, 'shooting guard'),\n",
    "    ('Luz', 21, 'power forward'),\n",
    "    ('Lorena', 19, 'small forward'),\n",
    "    ('Sandra', 19, 'center'),\n",
    "    ('Mari', 18, 'point guard'),\n",
    "    ('Esme', 18, 'shooting guard'),\n",
    "    ('Lin', 18, 'power forward'),\n",
    "    ('Sol', 19, 'small forward'),\n",
    "    ]"
   ]
  },
  {
   "cell_type": "code",
   "execution_count": 3,
   "metadata": {
    "colab": {
     "base_uri": "https://localhost:8080/"
    },
    "executionInfo": {
     "elapsed": 236,
     "status": "ok",
     "timestamp": 1676584055461,
     "user": {
      "displayName": "Matteo Riotto",
      "userId": "15211004813978485634"
     },
     "user_tz": 480
    },
    "id": "cLXQ8SZLMR9w",
    "outputId": "9d819df7-551f-4b58-8379-a66da22fc6a9",
    "scrolled": true
   },
   "outputs": [
    {
     "data": {
      "text/plain": [
       "{'center': [('Marta', 20), ('Sandra', 19)],\n",
       " 'point guard': [('Ana', 22), ('Mari', 18)],\n",
       " 'shooting guard': [('Gabi', 22), ('Esme', 18)],\n",
       " 'power forward': [('Luz', 21), ('Lin', 18)],\n",
       " 'small forward': [('Lorena', 19), ('Sol', 19)]}"
      ]
     },
     "execution_count": 3,
     "metadata": {},
     "output_type": "execute_result"
    }
   ],
   "source": [
    "# Instantiate an empty dictionary.\n",
    "new_team = {}\n",
    "\n",
    "# Loop over the tuples in the list of players and unpack their values.\n",
    "for name, age, position in team:\n",
    "    if position in new_team:                    # If position already a key in new_team,\n",
    "        new_team[position].append((name, age))  # append (name, age) tup to list at that value.\n",
    "    else:\n",
    "        new_team[position] = [(name, age)]      # If position not a key in new_team,\n",
    "                                                # create a new key whose value is a list\n",
    "                                                # containing (name, age) tup.\n",
    "new_team"
   ]
  },
  {
   "cell_type": "code",
   "execution_count": 7,
   "metadata": {},
   "outputs": [
    {
     "data": {
      "text/plain": [
       "{'center': [('Marta', 20), ('Sandra', 19)],\n",
       " 'point guard': [('Ana', 22), ('Mari', 18)],\n",
       " 'shooting guard': [('Gabi', 22), ('Esme', 18)],\n",
       " 'power forward': [('Luz', 21), ('Lin', 18)],\n",
       " 'small forward': [('Lorena', 19), ('Sol', 19)]}"
      ]
     },
     "execution_count": 7,
     "metadata": {},
     "output_type": "execute_result"
    }
   ],
   "source": [
    "team_dict = {}\n",
    "for player in team:\n",
    "    position = player[2]\n",
    "    if position in team_dict:\n",
    "        team_dict[position].append((player[0], player[1]))\n",
    "    else:\n",
    "        team_dict[position] = [(player[0], player[1])]\n",
    "team_dict"
   ]
  },
  {
   "cell_type": "code",
   "execution_count": 8,
   "metadata": {
    "colab": {
     "base_uri": "https://localhost:8080/"
    },
    "executionInfo": {
     "elapsed": 238,
     "status": "ok",
     "timestamp": 1676590448548,
     "user": {
      "displayName": "Matteo Riotto",
      "userId": "15211004813978485634"
     },
     "user_tz": 480
    },
    "id": "Stqbp1-zMnCN",
    "outputId": "c348d2e1-01ec-438d-92b8-ceef27d38cbf"
   },
   "outputs": [
    {
     "data": {
      "text/plain": [
       "[('Ana', 22), ('Mari', 18)]"
      ]
     },
     "execution_count": 8,
     "metadata": {},
     "output_type": "execute_result"
    }
   ],
   "source": [
    "# Examine the value at the 'point guard' key.\n",
    "new_team['point guard']"
   ]
  },
  {
   "cell_type": "code",
   "execution_count": 9,
   "metadata": {
    "colab": {
     "base_uri": "https://localhost:8080/"
    },
    "executionInfo": {
     "elapsed": 244,
     "status": "ok",
     "timestamp": 1676591511797,
     "user": {
      "displayName": "Matteo Riotto",
      "userId": "15211004813978485634"
     },
     "user_tz": 480
    },
    "id": "yvYzlrVpkwWI",
    "outputId": "ffd375a0-2721-4b6b-826a-3fc54b12a965"
   },
   "outputs": [
    {
     "name": "stdout",
     "output_type": "stream",
     "text": [
      "center\n",
      "point guard\n",
      "shooting guard\n",
      "power forward\n",
      "small forward\n"
     ]
    }
   ],
   "source": [
    "# You can access the a dictionary's keys by looping over them.\n",
    "for x in new_team:\n",
    "    print(x)"
   ]
  },
  {
   "cell_type": "markdown",
   "metadata": {},
   "source": [
    "\n",
    "`keys()` - a dictionary method to retrieve only the dictionary's keys\n",
    "\n",
    "`values()` - a dictionary method to retrieve only the dictionary's values only\n",
    "\n",
    "`items()` - a dictionary method to retrieve the dictionary's keys n values"
   ]
  },
  {
   "cell_type": "code",
   "execution_count": 10,
   "metadata": {
    "colab": {
     "base_uri": "https://localhost:8080/"
    },
    "executionInfo": {
     "elapsed": 211,
     "status": "ok",
     "timestamp": 1676592561265,
     "user": {
      "displayName": "Matteo Riotto",
      "userId": "15211004813978485634"
     },
     "user_tz": 480
    },
    "id": "d9Pkesk2k-eS",
    "outputId": "47866e66-eeeb-4c12-cce4-e13a67412863"
   },
   "outputs": [
    {
     "data": {
      "text/plain": [
       "dict_keys(['center', 'point guard', 'shooting guard', 'power forward', 'small forward'])"
      ]
     },
     "execution_count": 10,
     "metadata": {},
     "output_type": "execute_result"
    }
   ],
   "source": [
    "# The keys() method returns the keys of a dictionary.\n",
    "new_team.keys()"
   ]
  },
  {
   "cell_type": "code",
   "execution_count": 11,
   "metadata": {
    "colab": {
     "base_uri": "https://localhost:8080/"
    },
    "executionInfo": {
     "elapsed": 240,
     "status": "ok",
     "timestamp": 1676593061391,
     "user": {
      "displayName": "Matteo Riotto",
      "userId": "15211004813978485634"
     },
     "user_tz": 480
    },
    "id": "NiqpgMuEs9UW",
    "outputId": "da8d2ef8-ef86-45c3-d53f-4890c5bed825"
   },
   "outputs": [
    {
     "data": {
      "text/plain": [
       "dict_values([[('Marta', 20), ('Sandra', 19)], [('Ana', 22), ('Mari', 18)], [('Gabi', 22), ('Esme', 18)], [('Luz', 21), ('Lin', 18)], [('Lorena', 19), ('Sol', 19)]])"
      ]
     },
     "execution_count": 11,
     "metadata": {},
     "output_type": "execute_result"
    }
   ],
   "source": [
    "# The values() method returns all the values in a dictionary.\n",
    "new_team.values()"
   ]
  },
  {
   "cell_type": "code",
   "execution_count": 12,
   "metadata": {
    "colab": {
     "base_uri": "https://localhost:8080/"
    },
    "executionInfo": {
     "elapsed": 5,
     "status": "ok",
     "timestamp": 1676593573094,
     "user": {
      "displayName": "Matteo Riotto",
      "userId": "15211004813978485634"
     },
     "user_tz": 480
    },
    "id": "-WF-zeKcwz4h",
    "outputId": "d84dbde4-d24e-4b12-d57c-70a5f389553a"
   },
   "outputs": [
    {
     "name": "stdout",
     "output_type": "stream",
     "text": [
      "center [('Marta', 20), ('Sandra', 19)]\n",
      "point guard [('Ana', 22), ('Mari', 18)]\n",
      "shooting guard [('Gabi', 22), ('Esme', 18)]\n",
      "power forward [('Luz', 21), ('Lin', 18)]\n",
      "small forward [('Lorena', 19), ('Sol', 19)]\n"
     ]
    }
   ],
   "source": [
    "# The items() method returns both the keys and the values.\n",
    "for a, b in new_team.items():\n",
    "    print(a, b)"
   ]
  },
  {
   "cell_type": "markdown",
   "metadata": {
    "id": "84q1YSkaEt0c"
   },
   "source": [
    "<a name=\"7\"></a>\n",
    "## 7. [Introduction to sets](https://www.coursera.org/learn/get-started-with-python/lecture/XVQ9a/introduction-to-sets) \n",
    "\n",
    "**Set** is a data structure that contains only unordered, non-interchangeable elements\n",
    "\n",
    "- Each set element is unique and immutable. However, the set itself is mutable.\n",
    "\n",
    "- Sets are valuable when storing mixed data in a single row, or a record, in a data table.\n",
    "\n",
    "- Because sets are mutable, they cannot be used as keys in a dictionary."
   ]
  },
  {
   "cell_type": "code",
   "execution_count": 1,
   "metadata": {
    "colab": {
     "base_uri": "https://localhost:8080/"
    },
    "executionInfo": {
     "elapsed": 204,
     "status": "ok",
     "timestamp": 1676599095801,
     "user": {
      "displayName": "Matteo Riotto",
      "userId": "15211004813978485634"
     },
     "user_tz": 480
    },
    "id": "zsgoO9e-yix0",
    "outputId": "0253a4b0-aa38-4b4c-c659-d282f854e7da"
   },
   "outputs": [
    {
     "name": "stdout",
     "output_type": "stream",
     "text": [
      "{'foo', 'bar', 'baz'}\n"
     ]
    }
   ],
   "source": [
    "# The set() function converts a list to a set.\n",
    "x = set(['foo', 'bar', 'baz', 'foo'])\n",
    "print(x)"
   ]
  },
  {
   "cell_type": "code",
   "execution_count": 2,
   "metadata": {
    "colab": {
     "base_uri": "https://localhost:8080/"
    },
    "executionInfo": {
     "elapsed": 215,
     "status": "ok",
     "timestamp": 1676601674488,
     "user": {
      "displayName": "Matteo Riotto",
      "userId": "15211004813978485634"
     },
     "user_tz": 480
    },
    "id": "3lxiAi6uE2re",
    "outputId": "630fb966-6291-4d20-f7d1-b06620def59e"
   },
   "outputs": [
    {
     "name": "stdout",
     "output_type": "stream",
     "text": [
      "{'foo', 'bar', 'baz'}\n"
     ]
    }
   ],
   "source": [
    "# The set() function converts a tuple to a set.\n",
    "x = set(('foo','bar','baz', 'foo'))\n",
    "print(x)"
   ]
  },
  {
   "cell_type": "code",
   "execution_count": 3,
   "metadata": {
    "colab": {
     "base_uri": "https://localhost:8080/"
    },
    "executionInfo": {
     "elapsed": 215,
     "status": "ok",
     "timestamp": 1676599509994,
     "user": {
      "displayName": "Matteo Riotto",
      "userId": "15211004813978485634"
     },
     "user_tz": 480
    },
    "id": "a8WnTb4pE4oG",
    "outputId": "05d477ce-4646-4ce7-ddf9-16d4667cb23c"
   },
   "outputs": [
    {
     "name": "stdout",
     "output_type": "stream",
     "text": [
      "{'f', 'o'}\n"
     ]
    }
   ],
   "source": [
    "# The set() function converts a string to a set.\n",
    "x = set('foo')\n",
    "print(x)"
   ]
  },
  {
   "cell_type": "code",
   "execution_count": 4,
   "metadata": {
    "colab": {
     "base_uri": "https://localhost:8080/"
    },
    "executionInfo": {
     "elapsed": 205,
     "status": "ok",
     "timestamp": 1676601545189,
     "user": {
      "displayName": "Matteo Riotto",
      "userId": "15211004813978485634"
     },
     "user_tz": 480
    },
    "id": "4OkgSeK1FaQ-",
    "outputId": "de9d355f-4e3a-47fd-922b-af1351ee0ab5"
   },
   "outputs": [
    {
     "name": "stdout",
     "output_type": "stream",
     "text": [
      "<class 'set'>\n",
      "<class 'dict'>\n"
     ]
    }
   ],
   "source": [
    "# You can use braces to instantiate a set\n",
    "x = {'foo'}\n",
    "print(type(x))\n",
    "\n",
    "# But empty braces are reserved for dictionaries.\n",
    "y = {}\n",
    "print(type(y))"
   ]
  },
  {
   "cell_type": "code",
   "execution_count": 5,
   "metadata": {
    "colab": {
     "base_uri": "https://localhost:8080/"
    },
    "executionInfo": {
     "elapsed": 200,
     "status": "ok",
     "timestamp": 1676602318385,
     "user": {
      "displayName": "Matteo Riotto",
      "userId": "15211004813978485634"
     },
     "user_tz": 480
    },
    "id": "VjFdXKVBJObe",
    "outputId": "41b66ecc-22e3-4899-f619-7c645cb1d1d6"
   },
   "outputs": [
    {
     "name": "stdout",
     "output_type": "stream",
     "text": [
      "{'foo'}\n"
     ]
    }
   ],
   "source": [
    "# Instantiating a set with braces treats the contents as literals.\n",
    "x = {'foo'}\n",
    "print(x)"
   ]
  },
  {
   "cell_type": "markdown",
   "metadata": {},
   "source": [
    "`intersection()` is a function that finds the elements that two sets have in common (&)\n",
    "\n",
    "`union()` finds all the elements from both sets (|)\n",
    "\n",
    "`difference()` finds the elements present in one set, but not the other (-)\n",
    "\n",
    "`symmetric_difference()` finds elements from both sets that are mutually not present in the other (^)"
   ]
  },
  {
   "cell_type": "code",
   "execution_count": 6,
   "metadata": {
    "colab": {
     "base_uri": "https://localhost:8080/"
    },
    "executionInfo": {
     "elapsed": 354,
     "status": "ok",
     "timestamp": 1676602926310,
     "user": {
      "displayName": "Matteo Riotto",
      "userId": "15211004813978485634"
     },
     "user_tz": 480
    },
    "id": "FKwjqLfoOTwC",
    "outputId": "ba46ee18-a628-437b-871d-682a0c6600d7"
   },
   "outputs": [
    {
     "name": "stdout",
     "output_type": "stream",
     "text": [
      "{4, 5, 6}\n",
      "{4, 5, 6}\n"
     ]
    }
   ],
   "source": [
    "# The intersection() method (&) returns common elements between two sets.\n",
    "set1 = {1, 2, 3, 4, 5, 6}\n",
    "set2 = {4, 5, 6, 7, 8, 9}\n",
    "print(set1.intersection(set2))\n",
    "print(set1 & set2)"
   ]
  },
  {
   "cell_type": "code",
   "execution_count": 7,
   "metadata": {
    "colab": {
     "base_uri": "https://localhost:8080/"
    },
    "executionInfo": {
     "elapsed": 213,
     "status": "ok",
     "timestamp": 1676603179370,
     "user": {
      "displayName": "Matteo Riotto",
      "userId": "15211004813978485634"
     },
     "user_tz": 480
    },
    "id": "fWS2xzTBUmJU",
    "outputId": "f4947e99-57de-464a-c9b3-0e4992e14ee6"
   },
   "outputs": [
    {
     "name": "stdout",
     "output_type": "stream",
     "text": [
      "{'quux', 'bar', 'foo', 'qux', 'baz'}\n",
      "{'quux', 'bar', 'foo', 'qux', 'baz'}\n"
     ]
    }
   ],
   "source": [
    "# The union() method (|) returns all the elements from two sets, each represented once.\n",
    "x1 = {'foo', 'bar', 'baz'}\n",
    "x2 = {'baz', 'qux', 'quux'}\n",
    "print(x1.union(x2))\n",
    "print(x1 | x2)"
   ]
  },
  {
   "cell_type": "code",
   "execution_count": 8,
   "metadata": {
    "colab": {
     "base_uri": "https://localhost:8080/"
    },
    "executionInfo": {
     "elapsed": 191,
     "status": "ok",
     "timestamp": 1676603357453,
     "user": {
      "displayName": "Matteo Riotto",
      "userId": "15211004813978485634"
     },
     "user_tz": 480
    },
    "id": "GH-dVRO2Vj-S",
    "outputId": "519865c5-6273-4dbf-93f1-06de08a212a0"
   },
   "outputs": [
    {
     "name": "stdout",
     "output_type": "stream",
     "text": [
      "{1, 2, 3}\n",
      "{1, 2, 3}\n"
     ]
    }
   ],
   "source": [
    "# The difference() method (-) returns the elements in set1 that aren't in set2\n",
    "set1 = {1, 2, 3, 4, 5, 6}\n",
    "set2 = {4, 5, 6, 7, 8, 9}\n",
    "print(set1.difference(set2))\n",
    "print(set1 - set2)"
   ]
  },
  {
   "cell_type": "code",
   "execution_count": 9,
   "metadata": {
    "colab": {
     "base_uri": "https://localhost:8080/"
    },
    "executionInfo": {
     "elapsed": 208,
     "status": "ok",
     "timestamp": 1676603841293,
     "user": {
      "displayName": "Matteo Riotto",
      "userId": "15211004813978485634"
     },
     "user_tz": 480
    },
    "id": "sVuV0cfYV3k0",
    "outputId": "79c75664-79cc-4ab4-bafe-ae9b567b53df"
   },
   "outputs": [
    {
     "name": "stdout",
     "output_type": "stream",
     "text": [
      "{8, 9, 7}\n",
      "{8, 9, 7}\n"
     ]
    }
   ],
   "source": [
    "# ... and the elements in set2 that aren't in set1.\n",
    "print(set2.difference(set1))\n",
    "print(set2 - set1)"
   ]
  },
  {
   "cell_type": "code",
   "execution_count": 10,
   "metadata": {
    "colab": {
     "base_uri": "https://localhost:8080/"
    },
    "executionInfo": {
     "elapsed": 374,
     "status": "ok",
     "timestamp": 1676603970441,
     "user": {
      "displayName": "Matteo Riotto",
      "userId": "15211004813978485634"
     },
     "user_tz": 480
    },
    "id": "P95uw8uGYFj3",
    "outputId": "d97549de-0d8b-488c-9af2-958e10361eb1"
   },
   "outputs": [
    {
     "data": {
      "text/plain": [
       "{1, 2, 3, 7, 8, 9}"
      ]
     },
     "execution_count": 10,
     "metadata": {},
     "output_type": "execute_result"
    }
   ],
   "source": [
    "# The symmetric_difference() method (^) returns all the values from each set that\n",
    "# are not in both sets.\n",
    "set1 = {1, 2, 3, 4, 5, 6}\n",
    "set2 = {4, 5, 6, 7, 8, 9}\n",
    "set2.symmetric_difference(set1)\n",
    "set2 ^ set1"
   ]
  },
  {
   "cell_type": "markdown",
   "metadata": {
    "id": "J8cJ2dnJH3v3"
   },
   "source": [
    "<a name=\"8\"></a>\n",
    "## 8. [Introduction to NumPy](https://www.coursera.org/learn/get-started-with-python/lecture/jpebu/introduction-to-numpy) \n",
    "\n",
    "NumPy's power comes from vectorization. Vectorization enables operations to be performed on multiple components of a data object at the same time."
   ]
  },
  {
   "cell_type": "code",
   "execution_count": 11,
   "metadata": {
    "colab": {
     "base_uri": "https://localhost:8080/",
     "height": 201
    },
    "executionInfo": {
     "elapsed": 184,
     "status": "error",
     "timestamp": 1677601028183,
     "user": {
      "displayName": "Victoria Ruiz",
      "userId": "07172262448001801816"
     },
     "user_tz": 300
    },
    "id": "f3ONU-pzHvdO",
    "outputId": "f2726405-3476-46d0-b833-27a185e47c08"
   },
   "outputs": [
    {
     "ename": "TypeError",
     "evalue": "can't multiply sequence by non-int of type 'list'",
     "output_type": "error",
     "traceback": [
      "\u001b[0;31m---------------------------------------------------------------------------\u001b[0m",
      "\u001b[0;31mTypeError\u001b[0m                                 Traceback (most recent call last)",
      "\u001b[0;32m<ipython-input-11-b6ebad30fd16>\u001b[0m in \u001b[0;36m<module>\u001b[0;34m\u001b[0m\n\u001b[1;32m      3\u001b[0m \u001b[0mlist_b\u001b[0m \u001b[0;34m=\u001b[0m \u001b[0;34m[\u001b[0m\u001b[0;36m2\u001b[0m\u001b[0;34m,\u001b[0m \u001b[0;36m4\u001b[0m\u001b[0;34m,\u001b[0m \u001b[0;36m6\u001b[0m\u001b[0;34m]\u001b[0m\u001b[0;34m\u001b[0m\u001b[0;34m\u001b[0m\u001b[0m\n\u001b[1;32m      4\u001b[0m \u001b[0;34m\u001b[0m\u001b[0m\n\u001b[0;32m----> 5\u001b[0;31m \u001b[0mlist_a\u001b[0m \u001b[0;34m*\u001b[0m \u001b[0mlist_b\u001b[0m\u001b[0;34m\u001b[0m\u001b[0;34m\u001b[0m\u001b[0m\n\u001b[0m",
      "\u001b[0;31mTypeError\u001b[0m: can't multiply sequence by non-int of type 'list'"
     ]
    }
   ],
   "source": [
    "# Lists cannot be multiplied together.\n",
    "list_a = [1, 2, 3]\n",
    "list_b = [2, 4, 6]\n",
    "\n",
    "list_a * list_b"
   ]
  },
  {
   "cell_type": "code",
   "execution_count": 12,
   "metadata": {
    "colab": {
     "base_uri": "https://localhost:8080/"
    },
    "executionInfo": {
     "elapsed": 11,
     "status": "ok",
     "timestamp": 1677601028390,
     "user": {
      "displayName": "Victoria Ruiz",
      "userId": "07172262448001801816"
     },
     "user_tz": 300
    },
    "id": "9OKwxoLbIFsL",
    "outputId": "66ebdcdf-659b-47ec-9c62-28802e304a42"
   },
   "outputs": [
    {
     "data": {
      "text/plain": [
       "[2, 8, 18]"
      ]
     },
     "execution_count": 12,
     "metadata": {},
     "output_type": "execute_result"
    }
   ],
   "source": [
    "# To perform element-wise multiplication between two lists, you could\n",
    "# use a for loop.\n",
    "list_c = []\n",
    "for i in range(len(list_a)):\n",
    "    list_c.append(list_a[i] * list_b[i])\n",
    "\n",
    "list_c"
   ]
  },
  {
   "cell_type": "code",
   "execution_count": 13,
   "metadata": {
    "colab": {
     "base_uri": "https://localhost:8080/"
    },
    "executionInfo": {
     "elapsed": 9,
     "status": "ok",
     "timestamp": 1677601028391,
     "user": {
      "displayName": "Victoria Ruiz",
      "userId": "07172262448001801816"
     },
     "user_tz": 300
    },
    "id": "i5IiSRcmNhyw",
    "outputId": "3eaafbb1-612f-4282-cad0-942ae0364d28"
   },
   "outputs": [
    {
     "data": {
      "text/plain": [
       "array([ 2,  8, 18])"
      ]
     },
     "execution_count": 13,
     "metadata": {},
     "output_type": "execute_result"
    }
   ],
   "source": [
    "# NumPy arrays let you perform array operations.\n",
    "\n",
    "# Import numpy, aliased as np.\n",
    "import numpy as np\n",
    "\n",
    "# Convert lists to arrays.\n",
    "array_a = np.array(list_a)\n",
    "array_b = np.array(list_b)\n",
    "\n",
    "# Perform element-wise multiplication between the arrays.\n",
    "array_a * array_b"
   ]
  },
  {
   "cell_type": "markdown",
   "metadata": {
    "id": "O-WdIoi2N1S0"
   },
   "source": [
    "<a name=\"9\"></a>\n",
    "## 9. [Basic array operations](https://www.coursera.org/learn/get-started-with-python/lecture/ku9sL/basic-array-operations) "
   ]
  },
  {
   "cell_type": "markdown",
   "metadata": {},
   "source": [
    "N-dimensional aray (ndarray) is the core data object of NumPy\n",
    "\n",
    "ndarray is mutable, so we can change the values it contains"
   ]
  },
  {
   "cell_type": "code",
   "execution_count": 14,
   "metadata": {
    "colab": {
     "base_uri": "https://localhost:8080/"
    },
    "executionInfo": {
     "elapsed": 7,
     "status": "ok",
     "timestamp": 1677601028391,
     "user": {
      "displayName": "Victoria Ruiz",
      "userId": "07172262448001801816"
     },
     "user_tz": 300
    },
    "id": "n1Ao9RiDN1Bm",
    "outputId": "0c6d6a8e-8247-4259-d13f-e2ba07a452d4"
   },
   "outputs": [
    {
     "data": {
      "text/plain": [
       "array([1, 2, 3, 4])"
      ]
     },
     "execution_count": 14,
     "metadata": {},
     "output_type": "execute_result"
    }
   ],
   "source": [
    "import numpy as np\n",
    "\n",
    "# The np.array() function converts an object to an ndarray\n",
    "x = np.array([1, 2, 3, 4])\n",
    "x"
   ]
  },
  {
   "cell_type": "code",
   "execution_count": 15,
   "metadata": {
    "colab": {
     "base_uri": "https://localhost:8080/"
    },
    "executionInfo": {
     "elapsed": 7,
     "status": "ok",
     "timestamp": 1677601028392,
     "user": {
      "displayName": "Victoria Ruiz",
      "userId": "07172262448001801816"
     },
     "user_tz": 300
    },
    "id": "1BNzOGp92djx",
    "outputId": "d94bbb6e-01c5-41ea-c46b-40cec5925d94"
   },
   "outputs": [
    {
     "data": {
      "text/plain": [
       "array([1, 2, 3, 5])"
      ]
     },
     "execution_count": 15,
     "metadata": {},
     "output_type": "execute_result"
    }
   ],
   "source": [
    "# Arrays can be indexed.\n",
    "x[-1] = 5\n",
    "x"
   ]
  },
  {
   "cell_type": "code",
   "execution_count": 16,
   "metadata": {
    "colab": {
     "base_uri": "https://localhost:8080/",
     "height": 166
    },
    "executionInfo": {
     "elapsed": 179,
     "status": "error",
     "timestamp": 1677601044972,
     "user": {
      "displayName": "Victoria Ruiz",
      "userId": "07172262448001801816"
     },
     "user_tz": 300
    },
    "id": "liwGF5alWCX0",
    "outputId": "d5a4861c-bc4c-4e5a-fffe-0e0404a1a2b7"
   },
   "outputs": [
    {
     "ename": "IndexError",
     "evalue": "index 4 is out of bounds for axis 0 with size 4",
     "output_type": "error",
     "traceback": [
      "\u001b[0;31m---------------------------------------------------------------------------\u001b[0m",
      "\u001b[0;31mIndexError\u001b[0m                                Traceback (most recent call last)",
      "\u001b[0;32m<ipython-input-16-12d7534cf085>\u001b[0m in \u001b[0;36m<module>\u001b[0;34m\u001b[0m\n\u001b[1;32m      1\u001b[0m \u001b[0;31m# Trying to access an index that doesn't exist will throw an error.\u001b[0m\u001b[0;34m\u001b[0m\u001b[0;34m\u001b[0m\u001b[0;34m\u001b[0m\u001b[0m\n\u001b[0;32m----> 2\u001b[0;31m \u001b[0mx\u001b[0m\u001b[0;34m[\u001b[0m\u001b[0;36m4\u001b[0m\u001b[0;34m]\u001b[0m \u001b[0;34m=\u001b[0m \u001b[0;36m10\u001b[0m\u001b[0;34m\u001b[0m\u001b[0;34m\u001b[0m\u001b[0m\n\u001b[0m",
      "\u001b[0;31mIndexError\u001b[0m: index 4 is out of bounds for axis 0 with size 4"
     ]
    }
   ],
   "source": [
    "# Trying to access an index that doesn't exist will throw an error.\n",
    "x[4] = 10"
   ]
  },
  {
   "cell_type": "code",
   "execution_count": 17,
   "metadata": {
    "colab": {
     "base_uri": "https://localhost:8080/"
    },
    "executionInfo": {
     "elapsed": 237,
     "status": "ok",
     "timestamp": 1677601041873,
     "user": {
      "displayName": "Victoria Ruiz",
      "userId": "07172262448001801816"
     },
     "user_tz": 300
    },
    "id": "lwLnjp1fYH54",
    "outputId": "26ffef93-f559-4407-830b-0ec5ac84302a"
   },
   "outputs": [
    {
     "data": {
      "text/plain": [
       "array(['1', '2', 'coconut'], dtype='<U21')"
      ]
     },
     "execution_count": 17,
     "metadata": {},
     "output_type": "execute_result"
    }
   ],
   "source": [
    "# Arrays cast every element they contain as the same data type.\n",
    "arr = np.array([1, 2, 'coconut'])\n",
    "arr"
   ]
  },
  {
   "cell_type": "code",
   "execution_count": 18,
   "metadata": {
    "colab": {
     "base_uri": "https://localhost:8080/"
    },
    "executionInfo": {
     "elapsed": 179,
     "status": "ok",
     "timestamp": 1677601047195,
     "user": {
      "displayName": "Victoria Ruiz",
      "userId": "07172262448001801816"
     },
     "user_tz": 300
    },
    "id": "fb9EVIdVDLJd",
    "outputId": "86ff8400-c4b4-4fa6-a8d8-a142e979d00e"
   },
   "outputs": [
    {
     "name": "stdout",
     "output_type": "stream",
     "text": [
      "<class 'numpy.ndarray'>\n"
     ]
    }
   ],
   "source": [
    "# NumPy arrays are a class called `ndarray`.\n",
    "print(type(arr))"
   ]
  },
  {
   "cell_type": "code",
   "execution_count": 19,
   "metadata": {
    "colab": {
     "base_uri": "https://localhost:8080/"
    },
    "executionInfo": {
     "elapsed": 359,
     "status": "ok",
     "timestamp": 1677601048990,
     "user": {
      "displayName": "Victoria Ruiz",
      "userId": "07172262448001801816"
     },
     "user_tz": 300
    },
    "id": "xYZSuJ5zmQTQ",
    "outputId": "08e3825e-3e2d-4847-99c8-661d0d361cc5"
   },
   "outputs": [
    {
     "data": {
      "text/plain": [
       "dtype('int64')"
      ]
     },
     "execution_count": 19,
     "metadata": {},
     "output_type": "execute_result"
    }
   ],
   "source": [
    "# The dtype attribute returns the data type of an array's contents.\n",
    "arr = np.array([1, 2, 3])\n",
    "arr.dtype"
   ]
  },
  {
   "cell_type": "code",
   "execution_count": 20,
   "metadata": {
    "colab": {
     "base_uri": "https://localhost:8080/"
    },
    "executionInfo": {
     "elapsed": 173,
     "status": "ok",
     "timestamp": 1677601049938,
     "user": {
      "displayName": "Victoria Ruiz",
      "userId": "07172262448001801816"
     },
     "user_tz": 300
    },
    "id": "c50-_L2kENk3",
    "outputId": "ed258a50-246f-4038-98c5-bf13995ac485"
   },
   "outputs": [
    {
     "data": {
      "text/plain": [
       "(3,)"
      ]
     },
     "execution_count": 20,
     "metadata": {},
     "output_type": "execute_result"
    }
   ],
   "source": [
    "# The shape attribute returns the number of elements in each dimension\n",
    "# of an array.\n",
    "arr.shape"
   ]
  },
  {
   "cell_type": "code",
   "execution_count": 21,
   "metadata": {
    "colab": {
     "base_uri": "https://localhost:8080/"
    },
    "executionInfo": {
     "elapsed": 184,
     "status": "ok",
     "timestamp": 1677601053982,
     "user": {
      "displayName": "Victoria Ruiz",
      "userId": "07172262448001801816"
     },
     "user_tz": 300
    },
    "id": "LfrchAMQukId",
    "outputId": "85447010-0262-4a8e-d81e-b90951de7693"
   },
   "outputs": [
    {
     "data": {
      "text/plain": [
       "1"
      ]
     },
     "execution_count": 21,
     "metadata": {},
     "output_type": "execute_result"
    }
   ],
   "source": [
    "# The ndim attribute returns the number of dimensions in an array.\n",
    "arr.ndim"
   ]
  },
  {
   "cell_type": "code",
   "execution_count": 22,
   "metadata": {
    "colab": {
     "base_uri": "https://localhost:8080/"
    },
    "executionInfo": {
     "elapsed": 150,
     "status": "ok",
     "timestamp": 1677601056080,
     "user": {
      "displayName": "Victoria Ruiz",
      "userId": "07172262448001801816"
     },
     "user_tz": 300
    },
    "id": "_msqXCb6s7D4",
    "outputId": "4eb29566-9aba-49c5-83be-38b7b1cc7f74"
   },
   "outputs": [
    {
     "name": "stdout",
     "output_type": "stream",
     "text": [
      "(4, 2)\n",
      "2\n"
     ]
    },
    {
     "data": {
      "text/plain": [
       "array([[1, 2],\n",
       "       [3, 4],\n",
       "       [5, 6],\n",
       "       [7, 8]])"
      ]
     },
     "execution_count": 22,
     "metadata": {},
     "output_type": "execute_result"
    }
   ],
   "source": [
    "# Create a 2D array by passing a list of lists to np.array() function.\n",
    "arr_2d = np.array([[1, 2], [3, 4], [5, 6], [7, 8]])\n",
    "print(arr_2d.shape)\n",
    "print(arr_2d.ndim)\n",
    "arr_2d"
   ]
  },
  {
   "cell_type": "code",
   "execution_count": 23,
   "metadata": {
    "colab": {
     "base_uri": "https://localhost:8080/"
    },
    "executionInfo": {
     "elapsed": 214,
     "status": "ok",
     "timestamp": 1677601058562,
     "user": {
      "displayName": "Victoria Ruiz",
      "userId": "07172262448001801816"
     },
     "user_tz": 300
    },
    "id": "C8isdzBdyDX-",
    "outputId": "732ef904-6fec-44ec-fa44-99fa328e0428"
   },
   "outputs": [
    {
     "name": "stdout",
     "output_type": "stream",
     "text": [
      "(2, 2, 3)\n",
      "3\n"
     ]
    },
    {
     "data": {
      "text/plain": [
       "array([[[1, 2, 3],\n",
       "        [3, 4, 5]],\n",
       "\n",
       "       [[5, 6, 7],\n",
       "        [7, 8, 9]]])"
      ]
     },
     "execution_count": 23,
     "metadata": {},
     "output_type": "execute_result"
    }
   ],
   "source": [
    "# Create a 3D array by passing a list of two lists of lists to np.array() function.\n",
    "arr_3d = np.array([[[1, 2, 3],\n",
    "                   [3, 4, 5]],\n",
    "\n",
    "                  [[5, 6, 7],\n",
    "                   [7, 8, 9]]]\n",
    ")\n",
    "\n",
    "print(arr_3d.shape)\n",
    "print(arr_3d.ndim)\n",
    "arr_3d"
   ]
  },
  {
   "cell_type": "code",
   "execution_count": 24,
   "metadata": {
    "colab": {
     "base_uri": "https://localhost:8080/"
    },
    "executionInfo": {
     "elapsed": 174,
     "status": "ok",
     "timestamp": 1677601061169,
     "user": {
      "displayName": "Victoria Ruiz",
      "userId": "07172262448001801816"
     },
     "user_tz": 300
    },
    "id": "AQr62YOk4a7c",
    "outputId": "25b047c2-927e-4a70-92ba-1691f5e28b8e"
   },
   "outputs": [
    {
     "data": {
      "text/plain": [
       "array([[1, 2, 3, 4],\n",
       "       [5, 6, 7, 8]])"
      ]
     },
     "execution_count": 24,
     "metadata": {},
     "output_type": "execute_result"
    }
   ],
   "source": [
    "# The reshape() method changes the shape of an array.\n",
    "arr_2d = arr_2d.reshape(2, 4)\n",
    "arr_2d"
   ]
  },
  {
   "cell_type": "code",
   "execution_count": 25,
   "metadata": {
    "colab": {
     "base_uri": "https://localhost:8080/"
    },
    "executionInfo": {
     "elapsed": 166,
     "status": "ok",
     "timestamp": 1677601063230,
     "user": {
      "displayName": "Victoria Ruiz",
      "userId": "07172262448001801816"
     },
     "user_tz": 300
    },
    "id": "8h2xgPdS8LHb",
    "outputId": "177835dd-d198-467b-fbb2-0f6dadffefbb"
   },
   "outputs": [
    {
     "data": {
      "text/plain": [
       "3.0"
      ]
     },
     "execution_count": 25,
     "metadata": {},
     "output_type": "execute_result"
    }
   ],
   "source": [
    "# Create new array\n",
    "arr = np.array([1, 2, 3, 4, 5])\n",
    "\n",
    "# The mean() method returns the mean of the elements in an array.\n",
    "np.mean(arr)"
   ]
  },
  {
   "cell_type": "code",
   "execution_count": 26,
   "metadata": {
    "colab": {
     "base_uri": "https://localhost:8080/"
    },
    "executionInfo": {
     "elapsed": 225,
     "status": "ok",
     "timestamp": 1677601281700,
     "user": {
      "displayName": "Victoria Ruiz",
      "userId": "07172262448001801816"
     },
     "user_tz": 300
    },
    "id": "I7g3oX0saKvR",
    "outputId": "2faceaf3-5c34-46fa-aad3-078395304eb3"
   },
   "outputs": [
    {
     "data": {
      "text/plain": [
       "array([0.        , 0.69314718, 1.09861229, 1.38629436, 1.60943791])"
      ]
     },
     "execution_count": 26,
     "metadata": {},
     "output_type": "execute_result"
    }
   ],
   "source": [
    "# The log() method returns the natural logarithm of the elements in an array.\n",
    "np.log(arr)"
   ]
  },
  {
   "cell_type": "code",
   "execution_count": 27,
   "metadata": {
    "colab": {
     "base_uri": "https://localhost:8080/"
    },
    "executionInfo": {
     "elapsed": 186,
     "status": "ok",
     "timestamp": 1677601282921,
     "user": {
      "displayName": "Victoria Ruiz",
      "userId": "07172262448001801816"
     },
     "user_tz": 300
    },
    "id": "AuKnZqxmauRW",
    "outputId": "dec62a20-c271-4e74-881e-03acc44f6ffb"
   },
   "outputs": [
    {
     "data": {
      "text/plain": [
       "5.0"
      ]
     },
     "execution_count": 27,
     "metadata": {},
     "output_type": "execute_result"
    }
   ],
   "source": [
    "# The floor() method returns the value of a number rounded down\n",
    "# to the nearest integer.\n",
    "np.floor(5.7)"
   ]
  },
  {
   "cell_type": "code",
   "execution_count": 28,
   "metadata": {
    "colab": {
     "base_uri": "https://localhost:8080/"
    },
    "executionInfo": {
     "elapsed": 207,
     "status": "ok",
     "timestamp": 1677601284041,
     "user": {
      "displayName": "Victoria Ruiz",
      "userId": "07172262448001801816"
     },
     "user_tz": 300
    },
    "id": "34i-9A3ebc62",
    "outputId": "cab013fa-36c7-4900-a4b1-010500fd9e1d"
   },
   "outputs": [
    {
     "data": {
      "text/plain": [
       "6.0"
      ]
     },
     "execution_count": 28,
     "metadata": {},
     "output_type": "execute_result"
    }
   ],
   "source": [
    "# The ceil() method returns the value of a number rounded up\n",
    "# to the nearest integer.\n",
    "np.ceil(5.3)"
   ]
  },
  {
   "cell_type": "markdown",
   "metadata": {
    "id": "Z5Ul8oM2eeMH"
   },
   "source": [
    "<a name=\"10\"></a>\n",
    "## 10. [Introduction to pandas](https://www.coursera.org/learn/get-started-with-python/lecture/zC7LT/introduction-to-pandas) \n",
    "\n",
    "A quintessential (tinh túy) tool"
   ]
  },
  {
   "cell_type": "code",
   "execution_count": 29,
   "metadata": {
    "id": "Sz4FHGC4ed5G"
   },
   "outputs": [],
   "source": [
    "# NumPy and pandas are typically imported together.\n",
    "# np and pd are conventional aliases.\n",
    "import numpy as np\n",
    "import pandas as pd"
   ]
  },
  {
   "cell_type": "code",
   "execution_count": 30,
   "metadata": {
    "colab": {
     "base_uri": "https://localhost:8080/",
     "height": 833
    },
    "executionInfo": {
     "elapsed": 545,
     "status": "ok",
     "timestamp": 1677614358547,
     "user": {
      "displayName": "Matteo Riotto",
      "userId": "15211004813978485634"
     },
     "user_tz": 480
    },
    "id": "VFOEbURJeb-_",
    "outputId": "f5af2a3a-c0fc-4b9b-d4b9-a14878fd1ae2"
   },
   "outputs": [
    {
     "data": {
      "text/html": [
       "<div>\n",
       "<style scoped>\n",
       "    .dataframe tbody tr th:only-of-type {\n",
       "        vertical-align: middle;\n",
       "    }\n",
       "\n",
       "    .dataframe tbody tr th {\n",
       "        vertical-align: top;\n",
       "    }\n",
       "\n",
       "    .dataframe thead th {\n",
       "        text-align: right;\n",
       "    }\n",
       "</style>\n",
       "<table border=\"1\" class=\"dataframe\">\n",
       "  <thead>\n",
       "    <tr style=\"text-align: right;\">\n",
       "      <th></th>\n",
       "      <th>PassengerId</th>\n",
       "      <th>Survived</th>\n",
       "      <th>Pclass</th>\n",
       "      <th>Name</th>\n",
       "      <th>Sex</th>\n",
       "      <th>Age</th>\n",
       "      <th>SibSp</th>\n",
       "      <th>Parch</th>\n",
       "      <th>Ticket</th>\n",
       "      <th>Fare</th>\n",
       "      <th>Cabin</th>\n",
       "      <th>Embarked</th>\n",
       "    </tr>\n",
       "  </thead>\n",
       "  <tbody>\n",
       "    <tr>\n",
       "      <th>0</th>\n",
       "      <td>1</td>\n",
       "      <td>0</td>\n",
       "      <td>3</td>\n",
       "      <td>Braund, Mr. Owen Harris</td>\n",
       "      <td>male</td>\n",
       "      <td>22.0</td>\n",
       "      <td>1</td>\n",
       "      <td>0</td>\n",
       "      <td>A/5 21171</td>\n",
       "      <td>7.2500</td>\n",
       "      <td>NaN</td>\n",
       "      <td>S</td>\n",
       "    </tr>\n",
       "    <tr>\n",
       "      <th>1</th>\n",
       "      <td>2</td>\n",
       "      <td>1</td>\n",
       "      <td>1</td>\n",
       "      <td>Cumings, Mrs. John Bradley (Florence Briggs Th...</td>\n",
       "      <td>female</td>\n",
       "      <td>38.0</td>\n",
       "      <td>1</td>\n",
       "      <td>0</td>\n",
       "      <td>PC 17599</td>\n",
       "      <td>71.2833</td>\n",
       "      <td>C85</td>\n",
       "      <td>C</td>\n",
       "    </tr>\n",
       "    <tr>\n",
       "      <th>2</th>\n",
       "      <td>3</td>\n",
       "      <td>1</td>\n",
       "      <td>3</td>\n",
       "      <td>Heikkinen, Miss. Laina</td>\n",
       "      <td>female</td>\n",
       "      <td>26.0</td>\n",
       "      <td>0</td>\n",
       "      <td>0</td>\n",
       "      <td>STON/O2. 3101282</td>\n",
       "      <td>7.9250</td>\n",
       "      <td>NaN</td>\n",
       "      <td>S</td>\n",
       "    </tr>\n",
       "    <tr>\n",
       "      <th>3</th>\n",
       "      <td>4</td>\n",
       "      <td>1</td>\n",
       "      <td>1</td>\n",
       "      <td>Futrelle, Mrs. Jacques Heath (Lily May Peel)</td>\n",
       "      <td>female</td>\n",
       "      <td>35.0</td>\n",
       "      <td>1</td>\n",
       "      <td>0</td>\n",
       "      <td>113803</td>\n",
       "      <td>53.1000</td>\n",
       "      <td>C123</td>\n",
       "      <td>S</td>\n",
       "    </tr>\n",
       "    <tr>\n",
       "      <th>4</th>\n",
       "      <td>5</td>\n",
       "      <td>0</td>\n",
       "      <td>3</td>\n",
       "      <td>Allen, Mr. William Henry</td>\n",
       "      <td>male</td>\n",
       "      <td>35.0</td>\n",
       "      <td>0</td>\n",
       "      <td>0</td>\n",
       "      <td>373450</td>\n",
       "      <td>8.0500</td>\n",
       "      <td>NaN</td>\n",
       "      <td>S</td>\n",
       "    </tr>\n",
       "    <tr>\n",
       "      <th>5</th>\n",
       "      <td>6</td>\n",
       "      <td>0</td>\n",
       "      <td>3</td>\n",
       "      <td>Moran, Mr. James</td>\n",
       "      <td>male</td>\n",
       "      <td>NaN</td>\n",
       "      <td>0</td>\n",
       "      <td>0</td>\n",
       "      <td>330877</td>\n",
       "      <td>8.4583</td>\n",
       "      <td>NaN</td>\n",
       "      <td>Q</td>\n",
       "    </tr>\n",
       "    <tr>\n",
       "      <th>6</th>\n",
       "      <td>7</td>\n",
       "      <td>0</td>\n",
       "      <td>1</td>\n",
       "      <td>McCarthy, Mr. Timothy J</td>\n",
       "      <td>male</td>\n",
       "      <td>54.0</td>\n",
       "      <td>0</td>\n",
       "      <td>0</td>\n",
       "      <td>17463</td>\n",
       "      <td>51.8625</td>\n",
       "      <td>E46</td>\n",
       "      <td>S</td>\n",
       "    </tr>\n",
       "    <tr>\n",
       "      <th>7</th>\n",
       "      <td>8</td>\n",
       "      <td>0</td>\n",
       "      <td>3</td>\n",
       "      <td>Palsson, Master. Gosta Leonard</td>\n",
       "      <td>male</td>\n",
       "      <td>2.0</td>\n",
       "      <td>3</td>\n",
       "      <td>1</td>\n",
       "      <td>349909</td>\n",
       "      <td>21.0750</td>\n",
       "      <td>NaN</td>\n",
       "      <td>S</td>\n",
       "    </tr>\n",
       "    <tr>\n",
       "      <th>8</th>\n",
       "      <td>9</td>\n",
       "      <td>1</td>\n",
       "      <td>3</td>\n",
       "      <td>Johnson, Mrs. Oscar W (Elisabeth Vilhelmina Berg)</td>\n",
       "      <td>female</td>\n",
       "      <td>27.0</td>\n",
       "      <td>0</td>\n",
       "      <td>2</td>\n",
       "      <td>347742</td>\n",
       "      <td>11.1333</td>\n",
       "      <td>NaN</td>\n",
       "      <td>S</td>\n",
       "    </tr>\n",
       "    <tr>\n",
       "      <th>9</th>\n",
       "      <td>10</td>\n",
       "      <td>1</td>\n",
       "      <td>2</td>\n",
       "      <td>Nasser, Mrs. Nicholas (Adele Achem)</td>\n",
       "      <td>female</td>\n",
       "      <td>14.0</td>\n",
       "      <td>1</td>\n",
       "      <td>0</td>\n",
       "      <td>237736</td>\n",
       "      <td>30.0708</td>\n",
       "      <td>NaN</td>\n",
       "      <td>C</td>\n",
       "    </tr>\n",
       "    <tr>\n",
       "      <th>10</th>\n",
       "      <td>11</td>\n",
       "      <td>1</td>\n",
       "      <td>3</td>\n",
       "      <td>Sandstrom, Miss. Marguerite Rut</td>\n",
       "      <td>female</td>\n",
       "      <td>4.0</td>\n",
       "      <td>1</td>\n",
       "      <td>1</td>\n",
       "      <td>PP 9549</td>\n",
       "      <td>16.7000</td>\n",
       "      <td>G6</td>\n",
       "      <td>S</td>\n",
       "    </tr>\n",
       "    <tr>\n",
       "      <th>11</th>\n",
       "      <td>12</td>\n",
       "      <td>1</td>\n",
       "      <td>1</td>\n",
       "      <td>Bonnell, Miss. Elizabeth</td>\n",
       "      <td>female</td>\n",
       "      <td>58.0</td>\n",
       "      <td>0</td>\n",
       "      <td>0</td>\n",
       "      <td>113783</td>\n",
       "      <td>26.5500</td>\n",
       "      <td>C103</td>\n",
       "      <td>S</td>\n",
       "    </tr>\n",
       "    <tr>\n",
       "      <th>12</th>\n",
       "      <td>13</td>\n",
       "      <td>0</td>\n",
       "      <td>3</td>\n",
       "      <td>Saundercock, Mr. William Henry</td>\n",
       "      <td>male</td>\n",
       "      <td>20.0</td>\n",
       "      <td>0</td>\n",
       "      <td>0</td>\n",
       "      <td>A/5. 2151</td>\n",
       "      <td>8.0500</td>\n",
       "      <td>NaN</td>\n",
       "      <td>S</td>\n",
       "    </tr>\n",
       "    <tr>\n",
       "      <th>13</th>\n",
       "      <td>14</td>\n",
       "      <td>0</td>\n",
       "      <td>3</td>\n",
       "      <td>Andersson, Mr. Anders Johan</td>\n",
       "      <td>male</td>\n",
       "      <td>39.0</td>\n",
       "      <td>1</td>\n",
       "      <td>5</td>\n",
       "      <td>347082</td>\n",
       "      <td>31.2750</td>\n",
       "      <td>NaN</td>\n",
       "      <td>S</td>\n",
       "    </tr>\n",
       "    <tr>\n",
       "      <th>14</th>\n",
       "      <td>15</td>\n",
       "      <td>0</td>\n",
       "      <td>3</td>\n",
       "      <td>Vestrom, Miss. Hulda Amanda Adolfina</td>\n",
       "      <td>female</td>\n",
       "      <td>14.0</td>\n",
       "      <td>0</td>\n",
       "      <td>0</td>\n",
       "      <td>350406</td>\n",
       "      <td>7.8542</td>\n",
       "      <td>NaN</td>\n",
       "      <td>S</td>\n",
       "    </tr>\n",
       "    <tr>\n",
       "      <th>15</th>\n",
       "      <td>16</td>\n",
       "      <td>1</td>\n",
       "      <td>2</td>\n",
       "      <td>Hewlett, Mrs. (Mary D Kingcome)</td>\n",
       "      <td>female</td>\n",
       "      <td>55.0</td>\n",
       "      <td>0</td>\n",
       "      <td>0</td>\n",
       "      <td>248706</td>\n",
       "      <td>16.0000</td>\n",
       "      <td>NaN</td>\n",
       "      <td>S</td>\n",
       "    </tr>\n",
       "    <tr>\n",
       "      <th>16</th>\n",
       "      <td>17</td>\n",
       "      <td>0</td>\n",
       "      <td>3</td>\n",
       "      <td>Rice, Master. Eugene</td>\n",
       "      <td>male</td>\n",
       "      <td>2.0</td>\n",
       "      <td>4</td>\n",
       "      <td>1</td>\n",
       "      <td>382652</td>\n",
       "      <td>29.1250</td>\n",
       "      <td>NaN</td>\n",
       "      <td>Q</td>\n",
       "    </tr>\n",
       "    <tr>\n",
       "      <th>17</th>\n",
       "      <td>18</td>\n",
       "      <td>1</td>\n",
       "      <td>2</td>\n",
       "      <td>Williams, Mr. Charles Eugene</td>\n",
       "      <td>male</td>\n",
       "      <td>NaN</td>\n",
       "      <td>0</td>\n",
       "      <td>0</td>\n",
       "      <td>244373</td>\n",
       "      <td>13.0000</td>\n",
       "      <td>NaN</td>\n",
       "      <td>S</td>\n",
       "    </tr>\n",
       "    <tr>\n",
       "      <th>18</th>\n",
       "      <td>19</td>\n",
       "      <td>0</td>\n",
       "      <td>3</td>\n",
       "      <td>Vander Planke, Mrs. Julius (Emelia Maria Vande...</td>\n",
       "      <td>female</td>\n",
       "      <td>31.0</td>\n",
       "      <td>1</td>\n",
       "      <td>0</td>\n",
       "      <td>345763</td>\n",
       "      <td>18.0000</td>\n",
       "      <td>NaN</td>\n",
       "      <td>S</td>\n",
       "    </tr>\n",
       "    <tr>\n",
       "      <th>19</th>\n",
       "      <td>20</td>\n",
       "      <td>1</td>\n",
       "      <td>3</td>\n",
       "      <td>Masselmani, Mrs. Fatima</td>\n",
       "      <td>female</td>\n",
       "      <td>NaN</td>\n",
       "      <td>0</td>\n",
       "      <td>0</td>\n",
       "      <td>2649</td>\n",
       "      <td>7.2250</td>\n",
       "      <td>NaN</td>\n",
       "      <td>C</td>\n",
       "    </tr>\n",
       "    <tr>\n",
       "      <th>20</th>\n",
       "      <td>21</td>\n",
       "      <td>0</td>\n",
       "      <td>2</td>\n",
       "      <td>Fynney, Mr. Joseph J</td>\n",
       "      <td>male</td>\n",
       "      <td>35.0</td>\n",
       "      <td>0</td>\n",
       "      <td>0</td>\n",
       "      <td>239865</td>\n",
       "      <td>26.0000</td>\n",
       "      <td>NaN</td>\n",
       "      <td>S</td>\n",
       "    </tr>\n",
       "    <tr>\n",
       "      <th>21</th>\n",
       "      <td>22</td>\n",
       "      <td>1</td>\n",
       "      <td>2</td>\n",
       "      <td>Beesley, Mr. Lawrence</td>\n",
       "      <td>male</td>\n",
       "      <td>34.0</td>\n",
       "      <td>0</td>\n",
       "      <td>0</td>\n",
       "      <td>248698</td>\n",
       "      <td>13.0000</td>\n",
       "      <td>D56</td>\n",
       "      <td>S</td>\n",
       "    </tr>\n",
       "    <tr>\n",
       "      <th>22</th>\n",
       "      <td>23</td>\n",
       "      <td>1</td>\n",
       "      <td>3</td>\n",
       "      <td>McGowan, Miss. Anna \"Annie\"</td>\n",
       "      <td>female</td>\n",
       "      <td>15.0</td>\n",
       "      <td>0</td>\n",
       "      <td>0</td>\n",
       "      <td>330923</td>\n",
       "      <td>8.0292</td>\n",
       "      <td>NaN</td>\n",
       "      <td>Q</td>\n",
       "    </tr>\n",
       "    <tr>\n",
       "      <th>23</th>\n",
       "      <td>24</td>\n",
       "      <td>1</td>\n",
       "      <td>1</td>\n",
       "      <td>Sloper, Mr. William Thompson</td>\n",
       "      <td>male</td>\n",
       "      <td>28.0</td>\n",
       "      <td>0</td>\n",
       "      <td>0</td>\n",
       "      <td>113788</td>\n",
       "      <td>35.5000</td>\n",
       "      <td>A6</td>\n",
       "      <td>S</td>\n",
       "    </tr>\n",
       "    <tr>\n",
       "      <th>24</th>\n",
       "      <td>25</td>\n",
       "      <td>0</td>\n",
       "      <td>3</td>\n",
       "      <td>Palsson, Miss. Torborg Danira</td>\n",
       "      <td>female</td>\n",
       "      <td>8.0</td>\n",
       "      <td>3</td>\n",
       "      <td>1</td>\n",
       "      <td>349909</td>\n",
       "      <td>21.0750</td>\n",
       "      <td>NaN</td>\n",
       "      <td>S</td>\n",
       "    </tr>\n",
       "  </tbody>\n",
       "</table>\n",
       "</div>"
      ],
      "text/plain": [
       "    PassengerId  Survived  Pclass  \\\n",
       "0             1         0       3   \n",
       "1             2         1       1   \n",
       "2             3         1       3   \n",
       "3             4         1       1   \n",
       "4             5         0       3   \n",
       "5             6         0       3   \n",
       "6             7         0       1   \n",
       "7             8         0       3   \n",
       "8             9         1       3   \n",
       "9            10         1       2   \n",
       "10           11         1       3   \n",
       "11           12         1       1   \n",
       "12           13         0       3   \n",
       "13           14         0       3   \n",
       "14           15         0       3   \n",
       "15           16         1       2   \n",
       "16           17         0       3   \n",
       "17           18         1       2   \n",
       "18           19         0       3   \n",
       "19           20         1       3   \n",
       "20           21         0       2   \n",
       "21           22         1       2   \n",
       "22           23         1       3   \n",
       "23           24         1       1   \n",
       "24           25         0       3   \n",
       "\n",
       "                                                 Name     Sex   Age  SibSp  \\\n",
       "0                             Braund, Mr. Owen Harris    male  22.0      1   \n",
       "1   Cumings, Mrs. John Bradley (Florence Briggs Th...  female  38.0      1   \n",
       "2                              Heikkinen, Miss. Laina  female  26.0      0   \n",
       "3        Futrelle, Mrs. Jacques Heath (Lily May Peel)  female  35.0      1   \n",
       "4                            Allen, Mr. William Henry    male  35.0      0   \n",
       "5                                    Moran, Mr. James    male   NaN      0   \n",
       "6                             McCarthy, Mr. Timothy J    male  54.0      0   \n",
       "7                      Palsson, Master. Gosta Leonard    male   2.0      3   \n",
       "8   Johnson, Mrs. Oscar W (Elisabeth Vilhelmina Berg)  female  27.0      0   \n",
       "9                 Nasser, Mrs. Nicholas (Adele Achem)  female  14.0      1   \n",
       "10                    Sandstrom, Miss. Marguerite Rut  female   4.0      1   \n",
       "11                           Bonnell, Miss. Elizabeth  female  58.0      0   \n",
       "12                     Saundercock, Mr. William Henry    male  20.0      0   \n",
       "13                        Andersson, Mr. Anders Johan    male  39.0      1   \n",
       "14               Vestrom, Miss. Hulda Amanda Adolfina  female  14.0      0   \n",
       "15                   Hewlett, Mrs. (Mary D Kingcome)   female  55.0      0   \n",
       "16                               Rice, Master. Eugene    male   2.0      4   \n",
       "17                       Williams, Mr. Charles Eugene    male   NaN      0   \n",
       "18  Vander Planke, Mrs. Julius (Emelia Maria Vande...  female  31.0      1   \n",
       "19                            Masselmani, Mrs. Fatima  female   NaN      0   \n",
       "20                               Fynney, Mr. Joseph J    male  35.0      0   \n",
       "21                              Beesley, Mr. Lawrence    male  34.0      0   \n",
       "22                        McGowan, Miss. Anna \"Annie\"  female  15.0      0   \n",
       "23                       Sloper, Mr. William Thompson    male  28.0      0   \n",
       "24                      Palsson, Miss. Torborg Danira  female   8.0      3   \n",
       "\n",
       "    Parch            Ticket     Fare Cabin Embarked  \n",
       "0       0         A/5 21171   7.2500   NaN        S  \n",
       "1       0          PC 17599  71.2833   C85        C  \n",
       "2       0  STON/O2. 3101282   7.9250   NaN        S  \n",
       "3       0            113803  53.1000  C123        S  \n",
       "4       0            373450   8.0500   NaN        S  \n",
       "5       0            330877   8.4583   NaN        Q  \n",
       "6       0             17463  51.8625   E46        S  \n",
       "7       1            349909  21.0750   NaN        S  \n",
       "8       2            347742  11.1333   NaN        S  \n",
       "9       0            237736  30.0708   NaN        C  \n",
       "10      1           PP 9549  16.7000    G6        S  \n",
       "11      0            113783  26.5500  C103        S  \n",
       "12      0         A/5. 2151   8.0500   NaN        S  \n",
       "13      5            347082  31.2750   NaN        S  \n",
       "14      0            350406   7.8542   NaN        S  \n",
       "15      0            248706  16.0000   NaN        S  \n",
       "16      1            382652  29.1250   NaN        Q  \n",
       "17      0            244373  13.0000   NaN        S  \n",
       "18      0            345763  18.0000   NaN        S  \n",
       "19      0              2649   7.2250   NaN        C  \n",
       "20      0            239865  26.0000   NaN        S  \n",
       "21      0            248698  13.0000   D56        S  \n",
       "22      0            330923   8.0292   NaN        Q  \n",
       "23      0            113788  35.5000    A6        S  \n",
       "24      1            349909  21.0750   NaN        S  "
      ]
     },
     "execution_count": 30,
     "metadata": {},
     "output_type": "execute_result"
    }
   ],
   "source": [
    "# Read in data from a .csv file.\n",
    "dataframe = pd.read_csv('train.csv')\n",
    "\n",
    "# Print the first 25 rows.\n",
    "dataframe.head(25)"
   ]
  },
  {
   "cell_type": "code",
   "execution_count": 31,
   "metadata": {
    "colab": {
     "base_uri": "https://localhost:8080/"
    },
    "executionInfo": {
     "elapsed": 465,
     "status": "ok",
     "timestamp": 1677527822351,
     "user": {
      "displayName": "Matteo Riotto",
      "userId": "15211004813978485634"
     },
     "user_tz": 480
    },
    "id": "ILm5Nq7I8K7m",
    "outputId": "51451d24-ca17-4bc5-d5b5-bf1971504215"
   },
   "outputs": [
    {
     "data": {
      "text/plain": [
       "29.69911764705882"
      ]
     },
     "execution_count": 31,
     "metadata": {},
     "output_type": "execute_result"
    }
   ],
   "source": [
    "# Calculate the mean of the Age column.\n",
    "dataframe['Age'].mean()"
   ]
  },
  {
   "cell_type": "code",
   "execution_count": 32,
   "metadata": {
    "colab": {
     "base_uri": "https://localhost:8080/"
    },
    "executionInfo": {
     "elapsed": 4,
     "status": "ok",
     "timestamp": 1677527822716,
     "user": {
      "displayName": "Matteo Riotto",
      "userId": "15211004813978485634"
     },
     "user_tz": 480
    },
    "id": "1r-YJ5UpCs7f",
    "outputId": "5e72e335-c80d-4a86-dca4-96fa5d9618dd"
   },
   "outputs": [
    {
     "data": {
      "text/plain": [
       "80.0"
      ]
     },
     "execution_count": 32,
     "metadata": {},
     "output_type": "execute_result"
    }
   ],
   "source": [
    "# Calculate the maximum value contained in the Age column.\n",
    "dataframe['Age'].max()"
   ]
  },
  {
   "cell_type": "code",
   "execution_count": 33,
   "metadata": {
    "colab": {
     "base_uri": "https://localhost:8080/"
    },
    "executionInfo": {
     "elapsed": 6,
     "status": "ok",
     "timestamp": 1677527823915,
     "user": {
      "displayName": "Matteo Riotto",
      "userId": "15211004813978485634"
     },
     "user_tz": 480
    },
    "id": "YGNu90h5Dhoi",
    "outputId": "b0942c4c-7603-44d8-cc90-302cada42cfb"
   },
   "outputs": [
    {
     "data": {
      "text/plain": [
       "0.42"
      ]
     },
     "execution_count": 33,
     "metadata": {},
     "output_type": "execute_result"
    }
   ],
   "source": [
    "# Calculate the minimum value contained in the Age column.\n",
    "dataframe['Age'].min()"
   ]
  },
  {
   "cell_type": "code",
   "execution_count": 34,
   "metadata": {
    "colab": {
     "base_uri": "https://localhost:8080/"
    },
    "executionInfo": {
     "elapsed": 5,
     "status": "ok",
     "timestamp": 1677527826539,
     "user": {
      "displayName": "Matteo Riotto",
      "userId": "15211004813978485634"
     },
     "user_tz": 480
    },
    "id": "aakBeKFyDix-",
    "outputId": "f82a84a3-fff1-4506-e7da-46a52ebb7937"
   },
   "outputs": [
    {
     "data": {
      "text/plain": [
       "14.526497332334044"
      ]
     },
     "execution_count": 34,
     "metadata": {},
     "output_type": "execute_result"
    }
   ],
   "source": [
    "# Calculate the standard deviation of the values in the Age column.\n",
    "dataframe['Age'].std()"
   ]
  },
  {
   "cell_type": "code",
   "execution_count": 35,
   "metadata": {
    "colab": {
     "base_uri": "https://localhost:8080/"
    },
    "executionInfo": {
     "elapsed": 206,
     "status": "ok",
     "timestamp": 1677527828608,
     "user": {
      "displayName": "Matteo Riotto",
      "userId": "15211004813978485634"
     },
     "user_tz": 480
    },
    "id": "3CXaOKASEUkA",
    "outputId": "57504786-95ad-4460-910a-4f53d5ca636b"
   },
   "outputs": [
    {
     "data": {
      "text/plain": [
       "3    491\n",
       "1    216\n",
       "2    184\n",
       "Name: Pclass, dtype: int64"
      ]
     },
     "execution_count": 35,
     "metadata": {},
     "output_type": "execute_result"
    }
   ],
   "source": [
    "# Return the number of rows that share the same value in the Pclass column.\n",
    "dataframe['Pclass'].value_counts()"
   ]
  },
  {
   "cell_type": "code",
   "execution_count": 36,
   "metadata": {
    "colab": {
     "base_uri": "https://localhost:8080/",
     "height": 300
    },
    "executionInfo": {
     "elapsed": 191,
     "status": "ok",
     "timestamp": 1677527831014,
     "user": {
      "displayName": "Matteo Riotto",
      "userId": "15211004813978485634"
     },
     "user_tz": 480
    },
    "id": "LxJ1CsyAEIYH",
    "outputId": "2cf6477e-3adc-407b-f9c2-d3c9a2fd47c4"
   },
   "outputs": [
    {
     "data": {
      "text/html": [
       "<div>\n",
       "<style scoped>\n",
       "    .dataframe tbody tr th:only-of-type {\n",
       "        vertical-align: middle;\n",
       "    }\n",
       "\n",
       "    .dataframe tbody tr th {\n",
       "        vertical-align: top;\n",
       "    }\n",
       "\n",
       "    .dataframe thead th {\n",
       "        text-align: right;\n",
       "    }\n",
       "</style>\n",
       "<table border=\"1\" class=\"dataframe\">\n",
       "  <thead>\n",
       "    <tr style=\"text-align: right;\">\n",
       "      <th></th>\n",
       "      <th>PassengerId</th>\n",
       "      <th>Survived</th>\n",
       "      <th>Pclass</th>\n",
       "      <th>Age</th>\n",
       "      <th>SibSp</th>\n",
       "      <th>Parch</th>\n",
       "      <th>Fare</th>\n",
       "    </tr>\n",
       "  </thead>\n",
       "  <tbody>\n",
       "    <tr>\n",
       "      <th>count</th>\n",
       "      <td>891.000000</td>\n",
       "      <td>891.000000</td>\n",
       "      <td>891.000000</td>\n",
       "      <td>714.000000</td>\n",
       "      <td>891.000000</td>\n",
       "      <td>891.000000</td>\n",
       "      <td>891.000000</td>\n",
       "    </tr>\n",
       "    <tr>\n",
       "      <th>mean</th>\n",
       "      <td>446.000000</td>\n",
       "      <td>0.383838</td>\n",
       "      <td>2.308642</td>\n",
       "      <td>29.699118</td>\n",
       "      <td>0.523008</td>\n",
       "      <td>0.381594</td>\n",
       "      <td>32.204208</td>\n",
       "    </tr>\n",
       "    <tr>\n",
       "      <th>std</th>\n",
       "      <td>257.353842</td>\n",
       "      <td>0.486592</td>\n",
       "      <td>0.836071</td>\n",
       "      <td>14.526497</td>\n",
       "      <td>1.102743</td>\n",
       "      <td>0.806057</td>\n",
       "      <td>49.693429</td>\n",
       "    </tr>\n",
       "    <tr>\n",
       "      <th>min</th>\n",
       "      <td>1.000000</td>\n",
       "      <td>0.000000</td>\n",
       "      <td>1.000000</td>\n",
       "      <td>0.420000</td>\n",
       "      <td>0.000000</td>\n",
       "      <td>0.000000</td>\n",
       "      <td>0.000000</td>\n",
       "    </tr>\n",
       "    <tr>\n",
       "      <th>25%</th>\n",
       "      <td>223.500000</td>\n",
       "      <td>0.000000</td>\n",
       "      <td>2.000000</td>\n",
       "      <td>20.125000</td>\n",
       "      <td>0.000000</td>\n",
       "      <td>0.000000</td>\n",
       "      <td>7.910400</td>\n",
       "    </tr>\n",
       "    <tr>\n",
       "      <th>50%</th>\n",
       "      <td>446.000000</td>\n",
       "      <td>0.000000</td>\n",
       "      <td>3.000000</td>\n",
       "      <td>28.000000</td>\n",
       "      <td>0.000000</td>\n",
       "      <td>0.000000</td>\n",
       "      <td>14.454200</td>\n",
       "    </tr>\n",
       "    <tr>\n",
       "      <th>75%</th>\n",
       "      <td>668.500000</td>\n",
       "      <td>1.000000</td>\n",
       "      <td>3.000000</td>\n",
       "      <td>38.000000</td>\n",
       "      <td>1.000000</td>\n",
       "      <td>0.000000</td>\n",
       "      <td>31.000000</td>\n",
       "    </tr>\n",
       "    <tr>\n",
       "      <th>max</th>\n",
       "      <td>891.000000</td>\n",
       "      <td>1.000000</td>\n",
       "      <td>3.000000</td>\n",
       "      <td>80.000000</td>\n",
       "      <td>8.000000</td>\n",
       "      <td>6.000000</td>\n",
       "      <td>512.329200</td>\n",
       "    </tr>\n",
       "  </tbody>\n",
       "</table>\n",
       "</div>"
      ],
      "text/plain": [
       "       PassengerId    Survived      Pclass         Age       SibSp  \\\n",
       "count   891.000000  891.000000  891.000000  714.000000  891.000000   \n",
       "mean    446.000000    0.383838    2.308642   29.699118    0.523008   \n",
       "std     257.353842    0.486592    0.836071   14.526497    1.102743   \n",
       "min       1.000000    0.000000    1.000000    0.420000    0.000000   \n",
       "25%     223.500000    0.000000    2.000000   20.125000    0.000000   \n",
       "50%     446.000000    0.000000    3.000000   28.000000    0.000000   \n",
       "75%     668.500000    1.000000    3.000000   38.000000    1.000000   \n",
       "max     891.000000    1.000000    3.000000   80.000000    8.000000   \n",
       "\n",
       "            Parch        Fare  \n",
       "count  891.000000  891.000000  \n",
       "mean     0.381594   32.204208  \n",
       "std      0.806057   49.693429  \n",
       "min      0.000000    0.000000  \n",
       "25%      0.000000    7.910400  \n",
       "50%      0.000000   14.454200  \n",
       "75%      0.000000   31.000000  \n",
       "max      6.000000  512.329200  "
      ]
     },
     "execution_count": 36,
     "metadata": {},
     "output_type": "execute_result"
    }
   ],
   "source": [
    "# The describe() method returns summary statistics of the dataframe.\n",
    "dataframe.describe()"
   ]
  },
  {
   "cell_type": "code",
   "execution_count": 37,
   "metadata": {
    "colab": {
     "base_uri": "https://localhost:8080/",
     "height": 206
    },
    "executionInfo": {
     "elapsed": 202,
     "status": "ok",
     "timestamp": 1677527835950,
     "user": {
      "displayName": "Matteo Riotto",
      "userId": "15211004813978485634"
     },
     "user_tz": 480
    },
    "id": "OYXh5UUyFjay",
    "outputId": "229d2703-bc17-4cd9-c34b-06002d0c985e"
   },
   "outputs": [
    {
     "data": {
      "text/html": [
       "<div>\n",
       "<style scoped>\n",
       "    .dataframe tbody tr th:only-of-type {\n",
       "        vertical-align: middle;\n",
       "    }\n",
       "\n",
       "    .dataframe tbody tr th {\n",
       "        vertical-align: top;\n",
       "    }\n",
       "\n",
       "    .dataframe thead th {\n",
       "        text-align: right;\n",
       "    }\n",
       "</style>\n",
       "<table border=\"1\" class=\"dataframe\">\n",
       "  <thead>\n",
       "    <tr style=\"text-align: right;\">\n",
       "      <th></th>\n",
       "      <th>PassengerId</th>\n",
       "      <th>Survived</th>\n",
       "      <th>Pclass</th>\n",
       "      <th>Name</th>\n",
       "      <th>Sex</th>\n",
       "      <th>Age</th>\n",
       "      <th>SibSp</th>\n",
       "      <th>Parch</th>\n",
       "      <th>Ticket</th>\n",
       "      <th>Fare</th>\n",
       "      <th>Cabin</th>\n",
       "      <th>Embarked</th>\n",
       "    </tr>\n",
       "  </thead>\n",
       "  <tbody>\n",
       "    <tr>\n",
       "      <th>116</th>\n",
       "      <td>117</td>\n",
       "      <td>0</td>\n",
       "      <td>3</td>\n",
       "      <td>Connors, Mr. Patrick</td>\n",
       "      <td>male</td>\n",
       "      <td>70.5</td>\n",
       "      <td>0</td>\n",
       "      <td>0</td>\n",
       "      <td>370369</td>\n",
       "      <td>7.7500</td>\n",
       "      <td>NaN</td>\n",
       "      <td>Q</td>\n",
       "    </tr>\n",
       "    <tr>\n",
       "      <th>280</th>\n",
       "      <td>281</td>\n",
       "      <td>0</td>\n",
       "      <td>3</td>\n",
       "      <td>Duane, Mr. Frank</td>\n",
       "      <td>male</td>\n",
       "      <td>65.0</td>\n",
       "      <td>0</td>\n",
       "      <td>0</td>\n",
       "      <td>336439</td>\n",
       "      <td>7.7500</td>\n",
       "      <td>NaN</td>\n",
       "      <td>Q</td>\n",
       "    </tr>\n",
       "    <tr>\n",
       "      <th>326</th>\n",
       "      <td>327</td>\n",
       "      <td>0</td>\n",
       "      <td>3</td>\n",
       "      <td>Nysveen, Mr. Johan Hansen</td>\n",
       "      <td>male</td>\n",
       "      <td>61.0</td>\n",
       "      <td>0</td>\n",
       "      <td>0</td>\n",
       "      <td>345364</td>\n",
       "      <td>6.2375</td>\n",
       "      <td>NaN</td>\n",
       "      <td>S</td>\n",
       "    </tr>\n",
       "    <tr>\n",
       "      <th>483</th>\n",
       "      <td>484</td>\n",
       "      <td>1</td>\n",
       "      <td>3</td>\n",
       "      <td>Turkula, Mrs. (Hedwig)</td>\n",
       "      <td>female</td>\n",
       "      <td>63.0</td>\n",
       "      <td>0</td>\n",
       "      <td>0</td>\n",
       "      <td>4134</td>\n",
       "      <td>9.5875</td>\n",
       "      <td>NaN</td>\n",
       "      <td>S</td>\n",
       "    </tr>\n",
       "    <tr>\n",
       "      <th>851</th>\n",
       "      <td>852</td>\n",
       "      <td>0</td>\n",
       "      <td>3</td>\n",
       "      <td>Svensson, Mr. Johan</td>\n",
       "      <td>male</td>\n",
       "      <td>74.0</td>\n",
       "      <td>0</td>\n",
       "      <td>0</td>\n",
       "      <td>347060</td>\n",
       "      <td>7.7750</td>\n",
       "      <td>NaN</td>\n",
       "      <td>S</td>\n",
       "    </tr>\n",
       "  </tbody>\n",
       "</table>\n",
       "</div>"
      ],
      "text/plain": [
       "     PassengerId  Survived  Pclass                       Name     Sex   Age  \\\n",
       "116          117         0       3       Connors, Mr. Patrick    male  70.5   \n",
       "280          281         0       3           Duane, Mr. Frank    male  65.0   \n",
       "326          327         0       3  Nysveen, Mr. Johan Hansen    male  61.0   \n",
       "483          484         1       3     Turkula, Mrs. (Hedwig)  female  63.0   \n",
       "851          852         0       3        Svensson, Mr. Johan    male  74.0   \n",
       "\n",
       "     SibSp  Parch  Ticket    Fare Cabin Embarked  \n",
       "116      0      0  370369  7.7500   NaN        Q  \n",
       "280      0      0  336439  7.7500   NaN        Q  \n",
       "326      0      0  345364  6.2375   NaN        S  \n",
       "483      0      0    4134  9.5875   NaN        S  \n",
       "851      0      0  347060  7.7750   NaN        S  "
      ]
     },
     "execution_count": 37,
     "metadata": {},
     "output_type": "execute_result"
    }
   ],
   "source": [
    "# Filter the data to return only rows where value in Age column is greater than 60\n",
    "# and value in Pclass column equals 3.\n",
    "dataframe[(dataframe['Age'] > 60) & (dataframe['Pclass'] == 3)]"
   ]
  },
  {
   "cell_type": "code",
   "execution_count": 38,
   "metadata": {
    "colab": {
     "base_uri": "https://localhost:8080/",
     "height": 424
    },
    "executionInfo": {
     "elapsed": 7,
     "status": "ok",
     "timestamp": 1677527838618,
     "user": {
      "displayName": "Matteo Riotto",
      "userId": "15211004813978485634"
     },
     "user_tz": 480
    },
    "id": "mKd7vo-OFsdq",
    "outputId": "643961a4-eabf-4e21-b8c4-972d5aab782a"
   },
   "outputs": [
    {
     "data": {
      "text/html": [
       "<div>\n",
       "<style scoped>\n",
       "    .dataframe tbody tr th:only-of-type {\n",
       "        vertical-align: middle;\n",
       "    }\n",
       "\n",
       "    .dataframe tbody tr th {\n",
       "        vertical-align: top;\n",
       "    }\n",
       "\n",
       "    .dataframe thead th {\n",
       "        text-align: right;\n",
       "    }\n",
       "</style>\n",
       "<table border=\"1\" class=\"dataframe\">\n",
       "  <thead>\n",
       "    <tr style=\"text-align: right;\">\n",
       "      <th></th>\n",
       "      <th>PassengerId</th>\n",
       "      <th>Survived</th>\n",
       "      <th>Pclass</th>\n",
       "      <th>Name</th>\n",
       "      <th>Sex</th>\n",
       "      <th>Age</th>\n",
       "      <th>SibSp</th>\n",
       "      <th>Parch</th>\n",
       "      <th>Ticket</th>\n",
       "      <th>Fare</th>\n",
       "      <th>Cabin</th>\n",
       "      <th>Embarked</th>\n",
       "      <th>2023_Fare</th>\n",
       "    </tr>\n",
       "  </thead>\n",
       "  <tbody>\n",
       "    <tr>\n",
       "      <th>0</th>\n",
       "      <td>1</td>\n",
       "      <td>0</td>\n",
       "      <td>3</td>\n",
       "      <td>Braund, Mr. Owen Harris</td>\n",
       "      <td>male</td>\n",
       "      <td>22.0</td>\n",
       "      <td>1</td>\n",
       "      <td>0</td>\n",
       "      <td>A/5 21171</td>\n",
       "      <td>7.2500</td>\n",
       "      <td>NaN</td>\n",
       "      <td>S</td>\n",
       "      <td>1059.515000</td>\n",
       "    </tr>\n",
       "    <tr>\n",
       "      <th>1</th>\n",
       "      <td>2</td>\n",
       "      <td>1</td>\n",
       "      <td>1</td>\n",
       "      <td>Cumings, Mrs. John Bradley (Florence Briggs Th...</td>\n",
       "      <td>female</td>\n",
       "      <td>38.0</td>\n",
       "      <td>1</td>\n",
       "      <td>0</td>\n",
       "      <td>PC 17599</td>\n",
       "      <td>71.2833</td>\n",
       "      <td>C85</td>\n",
       "      <td>C</td>\n",
       "      <td>10417.341462</td>\n",
       "    </tr>\n",
       "    <tr>\n",
       "      <th>2</th>\n",
       "      <td>3</td>\n",
       "      <td>1</td>\n",
       "      <td>3</td>\n",
       "      <td>Heikkinen, Miss. Laina</td>\n",
       "      <td>female</td>\n",
       "      <td>26.0</td>\n",
       "      <td>0</td>\n",
       "      <td>0</td>\n",
       "      <td>STON/O2. 3101282</td>\n",
       "      <td>7.9250</td>\n",
       "      <td>NaN</td>\n",
       "      <td>S</td>\n",
       "      <td>1158.159500</td>\n",
       "    </tr>\n",
       "    <tr>\n",
       "      <th>3</th>\n",
       "      <td>4</td>\n",
       "      <td>1</td>\n",
       "      <td>1</td>\n",
       "      <td>Futrelle, Mrs. Jacques Heath (Lily May Peel)</td>\n",
       "      <td>female</td>\n",
       "      <td>35.0</td>\n",
       "      <td>1</td>\n",
       "      <td>0</td>\n",
       "      <td>113803</td>\n",
       "      <td>53.1000</td>\n",
       "      <td>C123</td>\n",
       "      <td>S</td>\n",
       "      <td>7760.034000</td>\n",
       "    </tr>\n",
       "    <tr>\n",
       "      <th>4</th>\n",
       "      <td>5</td>\n",
       "      <td>0</td>\n",
       "      <td>3</td>\n",
       "      <td>Allen, Mr. William Henry</td>\n",
       "      <td>male</td>\n",
       "      <td>35.0</td>\n",
       "      <td>0</td>\n",
       "      <td>0</td>\n",
       "      <td>373450</td>\n",
       "      <td>8.0500</td>\n",
       "      <td>NaN</td>\n",
       "      <td>S</td>\n",
       "      <td>1176.427000</td>\n",
       "    </tr>\n",
       "    <tr>\n",
       "      <th>...</th>\n",
       "      <td>...</td>\n",
       "      <td>...</td>\n",
       "      <td>...</td>\n",
       "      <td>...</td>\n",
       "      <td>...</td>\n",
       "      <td>...</td>\n",
       "      <td>...</td>\n",
       "      <td>...</td>\n",
       "      <td>...</td>\n",
       "      <td>...</td>\n",
       "      <td>...</td>\n",
       "      <td>...</td>\n",
       "      <td>...</td>\n",
       "    </tr>\n",
       "    <tr>\n",
       "      <th>886</th>\n",
       "      <td>887</td>\n",
       "      <td>0</td>\n",
       "      <td>2</td>\n",
       "      <td>Montvila, Rev. Juozas</td>\n",
       "      <td>male</td>\n",
       "      <td>27.0</td>\n",
       "      <td>0</td>\n",
       "      <td>0</td>\n",
       "      <td>211536</td>\n",
       "      <td>13.0000</td>\n",
       "      <td>NaN</td>\n",
       "      <td>S</td>\n",
       "      <td>1899.820000</td>\n",
       "    </tr>\n",
       "    <tr>\n",
       "      <th>887</th>\n",
       "      <td>888</td>\n",
       "      <td>1</td>\n",
       "      <td>1</td>\n",
       "      <td>Graham, Miss. Margaret Edith</td>\n",
       "      <td>female</td>\n",
       "      <td>19.0</td>\n",
       "      <td>0</td>\n",
       "      <td>0</td>\n",
       "      <td>112053</td>\n",
       "      <td>30.0000</td>\n",
       "      <td>B42</td>\n",
       "      <td>S</td>\n",
       "      <td>4384.200000</td>\n",
       "    </tr>\n",
       "    <tr>\n",
       "      <th>888</th>\n",
       "      <td>889</td>\n",
       "      <td>0</td>\n",
       "      <td>3</td>\n",
       "      <td>Johnston, Miss. Catherine Helen \"Carrie\"</td>\n",
       "      <td>female</td>\n",
       "      <td>NaN</td>\n",
       "      <td>1</td>\n",
       "      <td>2</td>\n",
       "      <td>W./C. 6607</td>\n",
       "      <td>23.4500</td>\n",
       "      <td>NaN</td>\n",
       "      <td>S</td>\n",
       "      <td>3426.983000</td>\n",
       "    </tr>\n",
       "    <tr>\n",
       "      <th>889</th>\n",
       "      <td>890</td>\n",
       "      <td>1</td>\n",
       "      <td>1</td>\n",
       "      <td>Behr, Mr. Karl Howell</td>\n",
       "      <td>male</td>\n",
       "      <td>26.0</td>\n",
       "      <td>0</td>\n",
       "      <td>0</td>\n",
       "      <td>111369</td>\n",
       "      <td>30.0000</td>\n",
       "      <td>C148</td>\n",
       "      <td>C</td>\n",
       "      <td>4384.200000</td>\n",
       "    </tr>\n",
       "    <tr>\n",
       "      <th>890</th>\n",
       "      <td>891</td>\n",
       "      <td>0</td>\n",
       "      <td>3</td>\n",
       "      <td>Dooley, Mr. Patrick</td>\n",
       "      <td>male</td>\n",
       "      <td>32.0</td>\n",
       "      <td>0</td>\n",
       "      <td>0</td>\n",
       "      <td>370376</td>\n",
       "      <td>7.7500</td>\n",
       "      <td>NaN</td>\n",
       "      <td>Q</td>\n",
       "      <td>1132.585000</td>\n",
       "    </tr>\n",
       "  </tbody>\n",
       "</table>\n",
       "<p>891 rows × 13 columns</p>\n",
       "</div>"
      ],
      "text/plain": [
       "     PassengerId  Survived  Pclass  \\\n",
       "0              1         0       3   \n",
       "1              2         1       1   \n",
       "2              3         1       3   \n",
       "3              4         1       1   \n",
       "4              5         0       3   \n",
       "..           ...       ...     ...   \n",
       "886          887         0       2   \n",
       "887          888         1       1   \n",
       "888          889         0       3   \n",
       "889          890         1       1   \n",
       "890          891         0       3   \n",
       "\n",
       "                                                  Name     Sex   Age  SibSp  \\\n",
       "0                              Braund, Mr. Owen Harris    male  22.0      1   \n",
       "1    Cumings, Mrs. John Bradley (Florence Briggs Th...  female  38.0      1   \n",
       "2                               Heikkinen, Miss. Laina  female  26.0      0   \n",
       "3         Futrelle, Mrs. Jacques Heath (Lily May Peel)  female  35.0      1   \n",
       "4                             Allen, Mr. William Henry    male  35.0      0   \n",
       "..                                                 ...     ...   ...    ...   \n",
       "886                              Montvila, Rev. Juozas    male  27.0      0   \n",
       "887                       Graham, Miss. Margaret Edith  female  19.0      0   \n",
       "888           Johnston, Miss. Catherine Helen \"Carrie\"  female   NaN      1   \n",
       "889                              Behr, Mr. Karl Howell    male  26.0      0   \n",
       "890                                Dooley, Mr. Patrick    male  32.0      0   \n",
       "\n",
       "     Parch            Ticket     Fare Cabin Embarked     2023_Fare  \n",
       "0        0         A/5 21171   7.2500   NaN        S   1059.515000  \n",
       "1        0          PC 17599  71.2833   C85        C  10417.341462  \n",
       "2        0  STON/O2. 3101282   7.9250   NaN        S   1158.159500  \n",
       "3        0            113803  53.1000  C123        S   7760.034000  \n",
       "4        0            373450   8.0500   NaN        S   1176.427000  \n",
       "..     ...               ...      ...   ...      ...           ...  \n",
       "886      0            211536  13.0000   NaN        S   1899.820000  \n",
       "887      0            112053  30.0000   B42        S   4384.200000  \n",
       "888      2        W./C. 6607  23.4500   NaN        S   3426.983000  \n",
       "889      0            111369  30.0000  C148        C   4384.200000  \n",
       "890      0            370376   7.7500   NaN        Q   1132.585000  \n",
       "\n",
       "[891 rows x 13 columns]"
      ]
     },
     "execution_count": 38,
     "metadata": {},
     "output_type": "execute_result"
    }
   ],
   "source": [
    "# Create a new column called 2023_Fare that contains the inflation-adjusted\n",
    "# fare of each ticket in 2023 pounds.\n",
    "dataframe['2023_Fare'] = dataframe['Fare'] * 146.14\n",
    "dataframe"
   ]
  },
  {
   "cell_type": "code",
   "execution_count": 39,
   "metadata": {
    "colab": {
     "base_uri": "https://localhost:8080/",
     "height": 35
    },
    "executionInfo": {
     "elapsed": 7,
     "status": "ok",
     "timestamp": 1677527841825,
     "user": {
      "displayName": "Matteo Riotto",
      "userId": "15211004813978485634"
     },
     "user_tz": 480
    },
    "id": "weQOfALQIgKW",
    "outputId": "19e9f14e-6f0f-4358-89d6-e381daf15017"
   },
   "outputs": [
    {
     "data": {
      "text/plain": [
       "'Cumings, Mrs. John Bradley (Florence Briggs Thayer)'"
      ]
     },
     "execution_count": 39,
     "metadata": {},
     "output_type": "execute_result"
    }
   ],
   "source": [
    "# Use iloc to access data using index numbers.\n",
    "# Select row 1, column 3.\n",
    "dataframe.iloc[1][3]"
   ]
  },
  {
   "cell_type": "code",
   "execution_count": 40,
   "metadata": {
    "colab": {
     "base_uri": "https://localhost:8080/",
     "height": 300
    },
    "executionInfo": {
     "elapsed": 199,
     "status": "ok",
     "timestamp": 1677528447597,
     "user": {
      "displayName": "Matteo Riotto",
      "userId": "15211004813978485634"
     },
     "user_tz": 480
    },
    "id": "KCe-H0T_Ji-g",
    "outputId": "f9514861-552f-4ca8-e8a0-2ee272e0dde2"
   },
   "outputs": [
    {
     "data": {
      "text/html": [
       "<div>\n",
       "<style scoped>\n",
       "    .dataframe tbody tr th:only-of-type {\n",
       "        vertical-align: middle;\n",
       "    }\n",
       "\n",
       "    .dataframe tbody tr th {\n",
       "        vertical-align: top;\n",
       "    }\n",
       "\n",
       "    .dataframe thead tr th {\n",
       "        text-align: left;\n",
       "    }\n",
       "\n",
       "    .dataframe thead tr:last-of-type th {\n",
       "        text-align: right;\n",
       "    }\n",
       "</style>\n",
       "<table border=\"1\" class=\"dataframe\">\n",
       "  <thead>\n",
       "    <tr>\n",
       "      <th></th>\n",
       "      <th></th>\n",
       "      <th colspan=\"2\" halign=\"left\">Fare</th>\n",
       "      <th>fare_avg</th>\n",
       "    </tr>\n",
       "    <tr>\n",
       "      <th></th>\n",
       "      <th></th>\n",
       "      <th>count</th>\n",
       "      <th>sum</th>\n",
       "      <th></th>\n",
       "    </tr>\n",
       "    <tr>\n",
       "      <th>Sex</th>\n",
       "      <th>Pclass</th>\n",
       "      <th></th>\n",
       "      <th></th>\n",
       "      <th></th>\n",
       "    </tr>\n",
       "  </thead>\n",
       "  <tbody>\n",
       "    <tr>\n",
       "      <th rowspan=\"3\" valign=\"top\">female</th>\n",
       "      <th>1</th>\n",
       "      <td>94</td>\n",
       "      <td>9975.8250</td>\n",
       "      <td>106.125798</td>\n",
       "    </tr>\n",
       "    <tr>\n",
       "      <th>2</th>\n",
       "      <td>76</td>\n",
       "      <td>1669.7292</td>\n",
       "      <td>21.970121</td>\n",
       "    </tr>\n",
       "    <tr>\n",
       "      <th>3</th>\n",
       "      <td>144</td>\n",
       "      <td>2321.1086</td>\n",
       "      <td>16.118810</td>\n",
       "    </tr>\n",
       "    <tr>\n",
       "      <th rowspan=\"3\" valign=\"top\">male</th>\n",
       "      <th>1</th>\n",
       "      <td>122</td>\n",
       "      <td>8201.5875</td>\n",
       "      <td>67.226127</td>\n",
       "    </tr>\n",
       "    <tr>\n",
       "      <th>2</th>\n",
       "      <td>108</td>\n",
       "      <td>2132.1125</td>\n",
       "      <td>19.741782</td>\n",
       "    </tr>\n",
       "    <tr>\n",
       "      <th>3</th>\n",
       "      <td>347</td>\n",
       "      <td>4393.5865</td>\n",
       "      <td>12.661633</td>\n",
       "    </tr>\n",
       "  </tbody>\n",
       "</table>\n",
       "</div>"
      ],
      "text/plain": [
       "               Fare               fare_avg\n",
       "              count        sum            \n",
       "Sex    Pclass                             \n",
       "female 1         94  9975.8250  106.125798\n",
       "       2         76  1669.7292   21.970121\n",
       "       3        144  2321.1086   16.118810\n",
       "male   1        122  8201.5875   67.226127\n",
       "       2        108  2132.1125   19.741782\n",
       "       3        347  4393.5865   12.661633"
      ]
     },
     "execution_count": 40,
     "metadata": {},
     "output_type": "execute_result"
    }
   ],
   "source": [
    "# Group customers by Sex and Pclass and calculate the total paid for each group\n",
    "# and the mean price paid for each group.\n",
    "fare = dataframe.groupby(['Sex', 'Pclass']).agg({'Fare': ['count', 'sum']})\n",
    "fare['fare_avg'] = fare['Fare']['sum'] / fare['Fare']['count']\n",
    "fare"
   ]
  },
  {
   "cell_type": "markdown",
   "metadata": {
    "id": "TetMYYMglcUL"
   },
   "source": [
    "<a name=\"11\"></a>\n",
    "## 11. [pandas basics](https://www.coursera.org/learn/get-started-with-python/lecture/tN4RT/pandas-basics) "
   ]
  },
  {
   "cell_type": "code",
   "execution_count": 41,
   "metadata": {
    "colab": {
     "base_uri": "https://localhost:8080/",
     "height": 112
    },
    "executionInfo": {
     "elapsed": 269,
     "status": "ok",
     "timestamp": 1677010038606,
     "user": {
      "displayName": "Matteo Riotto",
      "userId": "15211004813978485634"
     },
     "user_tz": 480
    },
    "id": "6WMH2FRjVzAo",
    "outputId": "a21b62f4-a342-4463-a1e8-4d87db30db53"
   },
   "outputs": [
    {
     "data": {
      "text/html": [
       "<div>\n",
       "<style scoped>\n",
       "    .dataframe tbody tr th:only-of-type {\n",
       "        vertical-align: middle;\n",
       "    }\n",
       "\n",
       "    .dataframe tbody tr th {\n",
       "        vertical-align: top;\n",
       "    }\n",
       "\n",
       "    .dataframe thead th {\n",
       "        text-align: right;\n",
       "    }\n",
       "</style>\n",
       "<table border=\"1\" class=\"dataframe\">\n",
       "  <thead>\n",
       "    <tr style=\"text-align: right;\">\n",
       "      <th></th>\n",
       "      <th>col1</th>\n",
       "      <th>col2</th>\n",
       "    </tr>\n",
       "  </thead>\n",
       "  <tbody>\n",
       "    <tr>\n",
       "      <th>0</th>\n",
       "      <td>1</td>\n",
       "      <td>3</td>\n",
       "    </tr>\n",
       "    <tr>\n",
       "      <th>1</th>\n",
       "      <td>2</td>\n",
       "      <td>4</td>\n",
       "    </tr>\n",
       "  </tbody>\n",
       "</table>\n",
       "</div>"
      ],
      "text/plain": [
       "   col1  col2\n",
       "0     1     3\n",
       "1     2     4"
      ]
     },
     "execution_count": 41,
     "metadata": {},
     "output_type": "execute_result"
    }
   ],
   "source": [
    "import pandas as pd\n",
    "\n",
    "# Use pd.DataFrame() function to create a dataframe from a dictionary.\n",
    "data = {'col1': [1, 2], 'col2': [3, 4]}\n",
    "df = pd.DataFrame(data=data)\n",
    "df"
   ]
  },
  {
   "cell_type": "code",
   "execution_count": 42,
   "metadata": {
    "colab": {
     "base_uri": "https://localhost:8080/",
     "height": 143
    },
    "executionInfo": {
     "elapsed": 248,
     "status": "ok",
     "timestamp": 1677022563648,
     "user": {
      "displayName": "Matteo Riotto",
      "userId": "15211004813978485634"
     },
     "user_tz": 480
    },
    "id": "s-ZSOExuli-0",
    "outputId": "873b3956-a926-429e-819f-316d319d2e2a"
   },
   "outputs": [
    {
     "data": {
      "text/html": [
       "<div>\n",
       "<style scoped>\n",
       "    .dataframe tbody tr th:only-of-type {\n",
       "        vertical-align: middle;\n",
       "    }\n",
       "\n",
       "    .dataframe tbody tr th {\n",
       "        vertical-align: top;\n",
       "    }\n",
       "\n",
       "    .dataframe thead th {\n",
       "        text-align: right;\n",
       "    }\n",
       "</style>\n",
       "<table border=\"1\" class=\"dataframe\">\n",
       "  <thead>\n",
       "    <tr style=\"text-align: right;\">\n",
       "      <th></th>\n",
       "      <th>a</th>\n",
       "      <th>b</th>\n",
       "      <th>c</th>\n",
       "    </tr>\n",
       "  </thead>\n",
       "  <tbody>\n",
       "    <tr>\n",
       "      <th>x</th>\n",
       "      <td>1</td>\n",
       "      <td>2</td>\n",
       "      <td>3</td>\n",
       "    </tr>\n",
       "    <tr>\n",
       "      <th>y</th>\n",
       "      <td>4</td>\n",
       "      <td>5</td>\n",
       "      <td>6</td>\n",
       "    </tr>\n",
       "    <tr>\n",
       "      <th>z</th>\n",
       "      <td>7</td>\n",
       "      <td>8</td>\n",
       "      <td>9</td>\n",
       "    </tr>\n",
       "  </tbody>\n",
       "</table>\n",
       "</div>"
      ],
      "text/plain": [
       "   a  b  c\n",
       "x  1  2  3\n",
       "y  4  5  6\n",
       "z  7  8  9"
      ]
     },
     "execution_count": 42,
     "metadata": {},
     "output_type": "execute_result"
    }
   ],
   "source": [
    "# Use pd.DataFrame() function to create a dataframe from a NumPy array.\n",
    "df2 = pd.DataFrame(np.array([[1, 2, 3], [4, 5, 6], [7, 8, 9]]),\n",
    "                   columns=['a', 'b', 'c'], index=['x', 'y', 'z'])\n",
    "df2"
   ]
  },
  {
   "cell_type": "code",
   "execution_count": 43,
   "metadata": {
    "colab": {
     "base_uri": "https://localhost:8080/",
     "height": 206
    },
    "executionInfo": {
     "elapsed": 226,
     "status": "ok",
     "timestamp": 1677017689690,
     "user": {
      "displayName": "Matteo Riotto",
      "userId": "15211004813978485634"
     },
     "user_tz": 480
    },
    "id": "oGgDXu9tnoMw",
    "outputId": "70de094a-2800-4c86-c98e-5dbbb8a1831d"
   },
   "outputs": [
    {
     "data": {
      "text/html": [
       "<div>\n",
       "<style scoped>\n",
       "    .dataframe tbody tr th:only-of-type {\n",
       "        vertical-align: middle;\n",
       "    }\n",
       "\n",
       "    .dataframe tbody tr th {\n",
       "        vertical-align: top;\n",
       "    }\n",
       "\n",
       "    .dataframe thead th {\n",
       "        text-align: right;\n",
       "    }\n",
       "</style>\n",
       "<table border=\"1\" class=\"dataframe\">\n",
       "  <thead>\n",
       "    <tr style=\"text-align: right;\">\n",
       "      <th></th>\n",
       "      <th>PassengerId</th>\n",
       "      <th>Survived</th>\n",
       "      <th>Pclass</th>\n",
       "      <th>Name</th>\n",
       "      <th>Sex</th>\n",
       "      <th>Age</th>\n",
       "      <th>SibSp</th>\n",
       "      <th>Parch</th>\n",
       "      <th>Ticket</th>\n",
       "      <th>Fare</th>\n",
       "      <th>Cabin</th>\n",
       "      <th>Embarked</th>\n",
       "    </tr>\n",
       "  </thead>\n",
       "  <tbody>\n",
       "    <tr>\n",
       "      <th>0</th>\n",
       "      <td>1</td>\n",
       "      <td>0</td>\n",
       "      <td>3</td>\n",
       "      <td>Braund, Mr. Owen Harris</td>\n",
       "      <td>male</td>\n",
       "      <td>22.0</td>\n",
       "      <td>1</td>\n",
       "      <td>0</td>\n",
       "      <td>A/5 21171</td>\n",
       "      <td>7.2500</td>\n",
       "      <td>NaN</td>\n",
       "      <td>S</td>\n",
       "    </tr>\n",
       "    <tr>\n",
       "      <th>1</th>\n",
       "      <td>2</td>\n",
       "      <td>1</td>\n",
       "      <td>1</td>\n",
       "      <td>Cumings, Mrs. John Bradley (Florence Briggs Th...</td>\n",
       "      <td>female</td>\n",
       "      <td>38.0</td>\n",
       "      <td>1</td>\n",
       "      <td>0</td>\n",
       "      <td>PC 17599</td>\n",
       "      <td>71.2833</td>\n",
       "      <td>C85</td>\n",
       "      <td>C</td>\n",
       "    </tr>\n",
       "    <tr>\n",
       "      <th>2</th>\n",
       "      <td>3</td>\n",
       "      <td>1</td>\n",
       "      <td>3</td>\n",
       "      <td>Heikkinen, Miss. Laina</td>\n",
       "      <td>female</td>\n",
       "      <td>26.0</td>\n",
       "      <td>0</td>\n",
       "      <td>0</td>\n",
       "      <td>STON/O2. 3101282</td>\n",
       "      <td>7.9250</td>\n",
       "      <td>NaN</td>\n",
       "      <td>S</td>\n",
       "    </tr>\n",
       "    <tr>\n",
       "      <th>3</th>\n",
       "      <td>4</td>\n",
       "      <td>1</td>\n",
       "      <td>1</td>\n",
       "      <td>Futrelle, Mrs. Jacques Heath (Lily May Peel)</td>\n",
       "      <td>female</td>\n",
       "      <td>35.0</td>\n",
       "      <td>1</td>\n",
       "      <td>0</td>\n",
       "      <td>113803</td>\n",
       "      <td>53.1000</td>\n",
       "      <td>C123</td>\n",
       "      <td>S</td>\n",
       "    </tr>\n",
       "    <tr>\n",
       "      <th>4</th>\n",
       "      <td>5</td>\n",
       "      <td>0</td>\n",
       "      <td>3</td>\n",
       "      <td>Allen, Mr. William Henry</td>\n",
       "      <td>male</td>\n",
       "      <td>35.0</td>\n",
       "      <td>0</td>\n",
       "      <td>0</td>\n",
       "      <td>373450</td>\n",
       "      <td>8.0500</td>\n",
       "      <td>NaN</td>\n",
       "      <td>S</td>\n",
       "    </tr>\n",
       "  </tbody>\n",
       "</table>\n",
       "</div>"
      ],
      "text/plain": [
       "   PassengerId  Survived  Pclass  \\\n",
       "0            1         0       3   \n",
       "1            2         1       1   \n",
       "2            3         1       3   \n",
       "3            4         1       1   \n",
       "4            5         0       3   \n",
       "\n",
       "                                                Name     Sex   Age  SibSp  \\\n",
       "0                            Braund, Mr. Owen Harris    male  22.0      1   \n",
       "1  Cumings, Mrs. John Bradley (Florence Briggs Th...  female  38.0      1   \n",
       "2                             Heikkinen, Miss. Laina  female  26.0      0   \n",
       "3       Futrelle, Mrs. Jacques Heath (Lily May Peel)  female  35.0      1   \n",
       "4                           Allen, Mr. William Henry    male  35.0      0   \n",
       "\n",
       "   Parch            Ticket     Fare Cabin Embarked  \n",
       "0      0         A/5 21171   7.2500   NaN        S  \n",
       "1      0          PC 17599  71.2833   C85        C  \n",
       "2      0  STON/O2. 3101282   7.9250   NaN        S  \n",
       "3      0            113803  53.1000  C123        S  \n",
       "4      0            373450   8.0500   NaN        S  "
      ]
     },
     "execution_count": 43,
     "metadata": {},
     "output_type": "execute_result"
    }
   ],
   "source": [
    "# Use pd.read_csv() function to create a dataframe from a .csv file\n",
    "# from a URL or filepath.\n",
    "df3 = pd.read_csv('train.csv')\n",
    "df3.head()"
   ]
  },
  {
   "cell_type": "code",
   "execution_count": 44,
   "metadata": {
    "colab": {
     "base_uri": "https://localhost:8080/"
    },
    "executionInfo": {
     "elapsed": 222,
     "status": "ok",
     "timestamp": 1677017693206,
     "user": {
      "displayName": "Matteo Riotto",
      "userId": "15211004813978485634"
     },
     "user_tz": 480
    },
    "id": "rt1eKfiPuGff",
    "outputId": "fd4f5dff-3495-4393-eee6-282ea2dee607"
   },
   "outputs": [
    {
     "name": "stdout",
     "output_type": "stream",
     "text": [
      "<class 'pandas.core.series.Series'>\n",
      "<class 'pandas.core.series.Series'>\n"
     ]
    }
   ],
   "source": [
    "# Print class of first row\n",
    "print(type(df3.iloc[0]))\n",
    "\n",
    "# Print class of \"Name\" column\n",
    "print(type(df3['Name']))"
   ]
  },
  {
   "cell_type": "code",
   "execution_count": 45,
   "metadata": {
    "colab": {
     "base_uri": "https://localhost:8080/",
     "height": 206
    },
    "executionInfo": {
     "elapsed": 225,
     "status": "ok",
     "timestamp": 1677017694328,
     "user": {
      "displayName": "Matteo Riotto",
      "userId": "15211004813978485634"
     },
     "user_tz": 480
    },
    "id": "WOmpNB197dmo",
    "outputId": "f3b8017b-ce89-4790-97f3-d431db5b2ca3"
   },
   "outputs": [
    {
     "data": {
      "text/html": [
       "<div>\n",
       "<style scoped>\n",
       "    .dataframe tbody tr th:only-of-type {\n",
       "        vertical-align: middle;\n",
       "    }\n",
       "\n",
       "    .dataframe tbody tr th {\n",
       "        vertical-align: top;\n",
       "    }\n",
       "\n",
       "    .dataframe thead th {\n",
       "        text-align: right;\n",
       "    }\n",
       "</style>\n",
       "<table border=\"1\" class=\"dataframe\">\n",
       "  <thead>\n",
       "    <tr style=\"text-align: right;\">\n",
       "      <th></th>\n",
       "      <th>PassengerId</th>\n",
       "      <th>Survived</th>\n",
       "      <th>Pclass</th>\n",
       "      <th>Name</th>\n",
       "      <th>Sex</th>\n",
       "      <th>Age</th>\n",
       "      <th>SibSp</th>\n",
       "      <th>Parch</th>\n",
       "      <th>Ticket</th>\n",
       "      <th>Fare</th>\n",
       "      <th>Cabin</th>\n",
       "      <th>Embarked</th>\n",
       "    </tr>\n",
       "  </thead>\n",
       "  <tbody>\n",
       "    <tr>\n",
       "      <th>0</th>\n",
       "      <td>1</td>\n",
       "      <td>0</td>\n",
       "      <td>3</td>\n",
       "      <td>Braund, Mr. Owen Harris</td>\n",
       "      <td>male</td>\n",
       "      <td>22.0</td>\n",
       "      <td>1</td>\n",
       "      <td>0</td>\n",
       "      <td>A/5 21171</td>\n",
       "      <td>7.2500</td>\n",
       "      <td>NaN</td>\n",
       "      <td>S</td>\n",
       "    </tr>\n",
       "    <tr>\n",
       "      <th>1</th>\n",
       "      <td>2</td>\n",
       "      <td>1</td>\n",
       "      <td>1</td>\n",
       "      <td>Cumings, Mrs. John Bradley (Florence Briggs Th...</td>\n",
       "      <td>female</td>\n",
       "      <td>38.0</td>\n",
       "      <td>1</td>\n",
       "      <td>0</td>\n",
       "      <td>PC 17599</td>\n",
       "      <td>71.2833</td>\n",
       "      <td>C85</td>\n",
       "      <td>C</td>\n",
       "    </tr>\n",
       "    <tr>\n",
       "      <th>2</th>\n",
       "      <td>3</td>\n",
       "      <td>1</td>\n",
       "      <td>3</td>\n",
       "      <td>Heikkinen, Miss. Laina</td>\n",
       "      <td>female</td>\n",
       "      <td>26.0</td>\n",
       "      <td>0</td>\n",
       "      <td>0</td>\n",
       "      <td>STON/O2. 3101282</td>\n",
       "      <td>7.9250</td>\n",
       "      <td>NaN</td>\n",
       "      <td>S</td>\n",
       "    </tr>\n",
       "    <tr>\n",
       "      <th>3</th>\n",
       "      <td>4</td>\n",
       "      <td>1</td>\n",
       "      <td>1</td>\n",
       "      <td>Futrelle, Mrs. Jacques Heath (Lily May Peel)</td>\n",
       "      <td>female</td>\n",
       "      <td>35.0</td>\n",
       "      <td>1</td>\n",
       "      <td>0</td>\n",
       "      <td>113803</td>\n",
       "      <td>53.1000</td>\n",
       "      <td>C123</td>\n",
       "      <td>S</td>\n",
       "    </tr>\n",
       "    <tr>\n",
       "      <th>4</th>\n",
       "      <td>5</td>\n",
       "      <td>0</td>\n",
       "      <td>3</td>\n",
       "      <td>Allen, Mr. William Henry</td>\n",
       "      <td>male</td>\n",
       "      <td>35.0</td>\n",
       "      <td>0</td>\n",
       "      <td>0</td>\n",
       "      <td>373450</td>\n",
       "      <td>8.0500</td>\n",
       "      <td>NaN</td>\n",
       "      <td>S</td>\n",
       "    </tr>\n",
       "  </tbody>\n",
       "</table>\n",
       "</div>"
      ],
      "text/plain": [
       "   PassengerId  Survived  Pclass  \\\n",
       "0            1         0       3   \n",
       "1            2         1       1   \n",
       "2            3         1       3   \n",
       "3            4         1       1   \n",
       "4            5         0       3   \n",
       "\n",
       "                                                Name     Sex   Age  SibSp  \\\n",
       "0                            Braund, Mr. Owen Harris    male  22.0      1   \n",
       "1  Cumings, Mrs. John Bradley (Florence Briggs Th...  female  38.0      1   \n",
       "2                             Heikkinen, Miss. Laina  female  26.0      0   \n",
       "3       Futrelle, Mrs. Jacques Heath (Lily May Peel)  female  35.0      1   \n",
       "4                           Allen, Mr. William Henry    male  35.0      0   \n",
       "\n",
       "   Parch            Ticket     Fare Cabin Embarked  \n",
       "0      0         A/5 21171   7.2500   NaN        S  \n",
       "1      0          PC 17599  71.2833   C85        C  \n",
       "2      0  STON/O2. 3101282   7.9250   NaN        S  \n",
       "3      0            113803  53.1000  C123        S  \n",
       "4      0            373450   8.0500   NaN        S  "
      ]
     },
     "execution_count": 45,
     "metadata": {},
     "output_type": "execute_result"
    }
   ],
   "source": [
    "# Create a copy of df3 named 'titanic'.\n",
    "titanic = df3\n",
    "\n",
    "# The head() method outputs the first 5 rows of dataframe.\n",
    "titanic.head()"
   ]
  },
  {
   "cell_type": "code",
   "execution_count": 46,
   "metadata": {
    "colab": {
     "base_uri": "https://localhost:8080/"
    },
    "executionInfo": {
     "elapsed": 216,
     "status": "ok",
     "timestamp": 1677017696874,
     "user": {
      "displayName": "Matteo Riotto",
      "userId": "15211004813978485634"
     },
     "user_tz": 480
    },
    "id": "2UsJYLfGAejQ",
    "outputId": "1e450bd9-13e6-4eb3-ecf9-a812c14b87d7"
   },
   "outputs": [
    {
     "data": {
      "text/plain": [
       "Index(['PassengerId', 'Survived', 'Pclass', 'Name', 'Sex', 'Age', 'SibSp',\n",
       "       'Parch', 'Ticket', 'Fare', 'Cabin', 'Embarked'],\n",
       "      dtype='object')"
      ]
     },
     "execution_count": 46,
     "metadata": {},
     "output_type": "execute_result"
    }
   ],
   "source": [
    "# The columns attribute returns an Index object containing the dataframe's columns.\n",
    "titanic.columns"
   ]
  },
  {
   "cell_type": "code",
   "execution_count": 47,
   "metadata": {
    "colab": {
     "base_uri": "https://localhost:8080/"
    },
    "executionInfo": {
     "elapsed": 5,
     "status": "ok",
     "timestamp": 1677018208190,
     "user": {
      "displayName": "Matteo Riotto",
      "userId": "15211004813978485634"
     },
     "user_tz": 480
    },
    "id": "_gpaQXqhCFDw",
    "outputId": "f9113e32-499d-4a1f-84ec-d00f54eb7593"
   },
   "outputs": [
    {
     "data": {
      "text/plain": [
       "(891, 12)"
      ]
     },
     "execution_count": 47,
     "metadata": {},
     "output_type": "execute_result"
    }
   ],
   "source": [
    "# The shape attribute returns the shape of the dataframe (rows, columns).\n",
    "titanic.shape"
   ]
  },
  {
   "cell_type": "code",
   "execution_count": 48,
   "metadata": {
    "colab": {
     "base_uri": "https://localhost:8080/"
    },
    "executionInfo": {
     "elapsed": 6,
     "status": "ok",
     "timestamp": 1677018388687,
     "user": {
      "displayName": "Matteo Riotto",
      "userId": "15211004813978485634"
     },
     "user_tz": 480
    },
    "id": "Yw1WOLOcExU9",
    "outputId": "67c455d8-d980-451c-fe13-ebaa56d85e53"
   },
   "outputs": [
    {
     "name": "stdout",
     "output_type": "stream",
     "text": [
      "<class 'pandas.core.frame.DataFrame'>\n",
      "RangeIndex: 891 entries, 0 to 890\n",
      "Data columns (total 12 columns):\n",
      " #   Column       Non-Null Count  Dtype  \n",
      "---  ------       --------------  -----  \n",
      " 0   PassengerId  891 non-null    int64  \n",
      " 1   Survived     891 non-null    int64  \n",
      " 2   Pclass       891 non-null    int64  \n",
      " 3   Name         891 non-null    object \n",
      " 4   Sex          891 non-null    object \n",
      " 5   Age          714 non-null    float64\n",
      " 6   SibSp        891 non-null    int64  \n",
      " 7   Parch        891 non-null    int64  \n",
      " 8   Ticket       891 non-null    object \n",
      " 9   Fare         891 non-null    float64\n",
      " 10  Cabin        204 non-null    object \n",
      " 11  Embarked     889 non-null    object \n",
      "dtypes: float64(2), int64(5), object(5)\n",
      "memory usage: 83.7+ KB\n"
     ]
    }
   ],
   "source": [
    "# The info() method returns summary information about the dataframe.\n",
    "titanic.info()"
   ]
  },
  {
   "cell_type": "code",
   "execution_count": 49,
   "metadata": {
    "colab": {
     "base_uri": "https://localhost:8080/"
    },
    "executionInfo": {
     "elapsed": 216,
     "status": "ok",
     "timestamp": 1677023834255,
     "user": {
      "displayName": "Matteo Riotto",
      "userId": "15211004813978485634"
     },
     "user_tz": 480
    },
    "id": "TmGXwBtxR_wG",
    "outputId": "0755378c-275e-4ebb-cb1d-a42113097a82"
   },
   "outputs": [
    {
     "data": {
      "text/plain": [
       "0      22.0\n",
       "1      38.0\n",
       "2      26.0\n",
       "3      35.0\n",
       "4      35.0\n",
       "       ... \n",
       "886    27.0\n",
       "887    19.0\n",
       "888     NaN\n",
       "889    26.0\n",
       "890    32.0\n",
       "Name: Age, Length: 891, dtype: float64"
      ]
     },
     "execution_count": 49,
     "metadata": {},
     "output_type": "execute_result"
    }
   ],
   "source": [
    "# You can select a column by name using brackets.\n",
    "titanic['Age']"
   ]
  },
  {
   "cell_type": "code",
   "execution_count": 50,
   "metadata": {
    "colab": {
     "base_uri": "https://localhost:8080/"
    },
    "executionInfo": {
     "elapsed": 4,
     "status": "ok",
     "timestamp": 1677023972654,
     "user": {
      "displayName": "Matteo Riotto",
      "userId": "15211004813978485634"
     },
     "user_tz": 480
    },
    "id": "7ss8GIiGStb5",
    "outputId": "b96d857e-fd42-436c-e1d8-bc7b50ecf710"
   },
   "outputs": [
    {
     "data": {
      "text/plain": [
       "0      22.0\n",
       "1      38.0\n",
       "2      26.0\n",
       "3      35.0\n",
       "4      35.0\n",
       "       ... \n",
       "886    27.0\n",
       "887    19.0\n",
       "888     NaN\n",
       "889    26.0\n",
       "890    32.0\n",
       "Name: Age, Length: 891, dtype: float64"
      ]
     },
     "execution_count": 50,
     "metadata": {},
     "output_type": "execute_result"
    }
   ],
   "source": [
    "# You can select a column by name using dot notation\n",
    "# only when its name contains no spaces or special characters.\n",
    "titanic.Age"
   ]
  },
  {
   "cell_type": "code",
   "execution_count": 51,
   "metadata": {
    "colab": {
     "base_uri": "https://localhost:8080/",
     "height": 424
    },
    "executionInfo": {
     "elapsed": 7,
     "status": "ok",
     "timestamp": 1677024637072,
     "user": {
      "displayName": "Matteo Riotto",
      "userId": "15211004813978485634"
     },
     "user_tz": 480
    },
    "id": "Bj_Tep9FawiZ",
    "outputId": "9171e114-820d-413f-e5be-11ae7ac49cfe"
   },
   "outputs": [
    {
     "data": {
      "text/html": [
       "<div>\n",
       "<style scoped>\n",
       "    .dataframe tbody tr th:only-of-type {\n",
       "        vertical-align: middle;\n",
       "    }\n",
       "\n",
       "    .dataframe tbody tr th {\n",
       "        vertical-align: top;\n",
       "    }\n",
       "\n",
       "    .dataframe thead th {\n",
       "        text-align: right;\n",
       "    }\n",
       "</style>\n",
       "<table border=\"1\" class=\"dataframe\">\n",
       "  <thead>\n",
       "    <tr style=\"text-align: right;\">\n",
       "      <th></th>\n",
       "      <th>Name</th>\n",
       "      <th>Age</th>\n",
       "    </tr>\n",
       "  </thead>\n",
       "  <tbody>\n",
       "    <tr>\n",
       "      <th>0</th>\n",
       "      <td>Braund, Mr. Owen Harris</td>\n",
       "      <td>22.0</td>\n",
       "    </tr>\n",
       "    <tr>\n",
       "      <th>1</th>\n",
       "      <td>Cumings, Mrs. John Bradley (Florence Briggs Th...</td>\n",
       "      <td>38.0</td>\n",
       "    </tr>\n",
       "    <tr>\n",
       "      <th>2</th>\n",
       "      <td>Heikkinen, Miss. Laina</td>\n",
       "      <td>26.0</td>\n",
       "    </tr>\n",
       "    <tr>\n",
       "      <th>3</th>\n",
       "      <td>Futrelle, Mrs. Jacques Heath (Lily May Peel)</td>\n",
       "      <td>35.0</td>\n",
       "    </tr>\n",
       "    <tr>\n",
       "      <th>4</th>\n",
       "      <td>Allen, Mr. William Henry</td>\n",
       "      <td>35.0</td>\n",
       "    </tr>\n",
       "    <tr>\n",
       "      <th>...</th>\n",
       "      <td>...</td>\n",
       "      <td>...</td>\n",
       "    </tr>\n",
       "    <tr>\n",
       "      <th>886</th>\n",
       "      <td>Montvila, Rev. Juozas</td>\n",
       "      <td>27.0</td>\n",
       "    </tr>\n",
       "    <tr>\n",
       "      <th>887</th>\n",
       "      <td>Graham, Miss. Margaret Edith</td>\n",
       "      <td>19.0</td>\n",
       "    </tr>\n",
       "    <tr>\n",
       "      <th>888</th>\n",
       "      <td>Johnston, Miss. Catherine Helen \"Carrie\"</td>\n",
       "      <td>NaN</td>\n",
       "    </tr>\n",
       "    <tr>\n",
       "      <th>889</th>\n",
       "      <td>Behr, Mr. Karl Howell</td>\n",
       "      <td>26.0</td>\n",
       "    </tr>\n",
       "    <tr>\n",
       "      <th>890</th>\n",
       "      <td>Dooley, Mr. Patrick</td>\n",
       "      <td>32.0</td>\n",
       "    </tr>\n",
       "  </tbody>\n",
       "</table>\n",
       "<p>891 rows × 2 columns</p>\n",
       "</div>"
      ],
      "text/plain": [
       "                                                  Name   Age\n",
       "0                              Braund, Mr. Owen Harris  22.0\n",
       "1    Cumings, Mrs. John Bradley (Florence Briggs Th...  38.0\n",
       "2                               Heikkinen, Miss. Laina  26.0\n",
       "3         Futrelle, Mrs. Jacques Heath (Lily May Peel)  35.0\n",
       "4                             Allen, Mr. William Henry  35.0\n",
       "..                                                 ...   ...\n",
       "886                              Montvila, Rev. Juozas  27.0\n",
       "887                       Graham, Miss. Margaret Edith  19.0\n",
       "888           Johnston, Miss. Catherine Helen \"Carrie\"   NaN\n",
       "889                              Behr, Mr. Karl Howell  26.0\n",
       "890                                Dooley, Mr. Patrick  32.0\n",
       "\n",
       "[891 rows x 2 columns]"
      ]
     },
     "execution_count": 51,
     "metadata": {},
     "output_type": "execute_result"
    }
   ],
   "source": [
    "# You can create a DataFrame object of specific columns using a list\n",
    "# of column names inside brackets.\n",
    "titanic[['Name', 'Age']]"
   ]
  },
  {
   "cell_type": "code",
   "execution_count": 52,
   "metadata": {
    "colab": {
     "base_uri": "https://localhost:8080/"
    },
    "executionInfo": {
     "elapsed": 6,
     "status": "ok",
     "timestamp": 1677025651351,
     "user": {
      "displayName": "Matteo Riotto",
      "userId": "15211004813978485634"
     },
     "user_tz": 480
    },
    "id": "Ncc3YvV2dS5e",
    "outputId": "0407d6cd-29f9-424f-ab32-c04ec8e643c9"
   },
   "outputs": [
    {
     "data": {
      "text/plain": [
       "PassengerId                          1\n",
       "Survived                             0\n",
       "Pclass                               3\n",
       "Name           Braund, Mr. Owen Harris\n",
       "Sex                               male\n",
       "Age                               22.0\n",
       "SibSp                                1\n",
       "Parch                                0\n",
       "Ticket                       A/5 21171\n",
       "Fare                              7.25\n",
       "Cabin                              NaN\n",
       "Embarked                             S\n",
       "Name: 0, dtype: object"
      ]
     },
     "execution_count": 52,
     "metadata": {},
     "output_type": "execute_result"
    }
   ],
   "source": [
    "# Use iloc to return a Series object of the data in row 0.\n",
    "titanic.iloc[0]"
   ]
  },
  {
   "cell_type": "code",
   "execution_count": 53,
   "metadata": {
    "colab": {
     "base_uri": "https://localhost:8080/",
     "height": 81
    },
    "executionInfo": {
     "elapsed": 235,
     "status": "ok",
     "timestamp": 1677025890485,
     "user": {
      "displayName": "Matteo Riotto",
      "userId": "15211004813978485634"
     },
     "user_tz": 480
    },
    "id": "Q3tHct0CeUjd",
    "outputId": "a7a9b556-cadf-40d9-c1df-e3694023bfba"
   },
   "outputs": [
    {
     "data": {
      "text/html": [
       "<div>\n",
       "<style scoped>\n",
       "    .dataframe tbody tr th:only-of-type {\n",
       "        vertical-align: middle;\n",
       "    }\n",
       "\n",
       "    .dataframe tbody tr th {\n",
       "        vertical-align: top;\n",
       "    }\n",
       "\n",
       "    .dataframe thead th {\n",
       "        text-align: right;\n",
       "    }\n",
       "</style>\n",
       "<table border=\"1\" class=\"dataframe\">\n",
       "  <thead>\n",
       "    <tr style=\"text-align: right;\">\n",
       "      <th></th>\n",
       "      <th>PassengerId</th>\n",
       "      <th>Survived</th>\n",
       "      <th>Pclass</th>\n",
       "      <th>Name</th>\n",
       "      <th>Sex</th>\n",
       "      <th>Age</th>\n",
       "      <th>SibSp</th>\n",
       "      <th>Parch</th>\n",
       "      <th>Ticket</th>\n",
       "      <th>Fare</th>\n",
       "      <th>Cabin</th>\n",
       "      <th>Embarked</th>\n",
       "    </tr>\n",
       "  </thead>\n",
       "  <tbody>\n",
       "    <tr>\n",
       "      <th>0</th>\n",
       "      <td>1</td>\n",
       "      <td>0</td>\n",
       "      <td>3</td>\n",
       "      <td>Braund, Mr. Owen Harris</td>\n",
       "      <td>male</td>\n",
       "      <td>22.0</td>\n",
       "      <td>1</td>\n",
       "      <td>0</td>\n",
       "      <td>A/5 21171</td>\n",
       "      <td>7.25</td>\n",
       "      <td>NaN</td>\n",
       "      <td>S</td>\n",
       "    </tr>\n",
       "  </tbody>\n",
       "</table>\n",
       "</div>"
      ],
      "text/plain": [
       "   PassengerId  Survived  Pclass                     Name   Sex   Age  SibSp  \\\n",
       "0            1         0       3  Braund, Mr. Owen Harris  male  22.0      1   \n",
       "\n",
       "   Parch     Ticket  Fare Cabin Embarked  \n",
       "0      0  A/5 21171  7.25   NaN        S  "
      ]
     },
     "execution_count": 53,
     "metadata": {},
     "output_type": "execute_result"
    }
   ],
   "source": [
    "# Use iloc to return a DataFrame view of the data in row 0.\n",
    "titanic.iloc[[0]]"
   ]
  },
  {
   "cell_type": "code",
   "execution_count": 54,
   "metadata": {
    "colab": {
     "base_uri": "https://localhost:8080/",
     "height": 143
    },
    "executionInfo": {
     "elapsed": 7,
     "status": "ok",
     "timestamp": 1677026091162,
     "user": {
      "displayName": "Matteo Riotto",
      "userId": "15211004813978485634"
     },
     "user_tz": 480
    },
    "id": "8rzh95ZiiE2S",
    "outputId": "9663594d-801f-40d1-ce3d-5819dbe02108"
   },
   "outputs": [
    {
     "data": {
      "text/html": [
       "<div>\n",
       "<style scoped>\n",
       "    .dataframe tbody tr th:only-of-type {\n",
       "        vertical-align: middle;\n",
       "    }\n",
       "\n",
       "    .dataframe tbody tr th {\n",
       "        vertical-align: top;\n",
       "    }\n",
       "\n",
       "    .dataframe thead th {\n",
       "        text-align: right;\n",
       "    }\n",
       "</style>\n",
       "<table border=\"1\" class=\"dataframe\">\n",
       "  <thead>\n",
       "    <tr style=\"text-align: right;\">\n",
       "      <th></th>\n",
       "      <th>PassengerId</th>\n",
       "      <th>Survived</th>\n",
       "      <th>Pclass</th>\n",
       "      <th>Name</th>\n",
       "      <th>Sex</th>\n",
       "      <th>Age</th>\n",
       "      <th>SibSp</th>\n",
       "      <th>Parch</th>\n",
       "      <th>Ticket</th>\n",
       "      <th>Fare</th>\n",
       "      <th>Cabin</th>\n",
       "      <th>Embarked</th>\n",
       "    </tr>\n",
       "  </thead>\n",
       "  <tbody>\n",
       "    <tr>\n",
       "      <th>0</th>\n",
       "      <td>1</td>\n",
       "      <td>0</td>\n",
       "      <td>3</td>\n",
       "      <td>Braund, Mr. Owen Harris</td>\n",
       "      <td>male</td>\n",
       "      <td>22.0</td>\n",
       "      <td>1</td>\n",
       "      <td>0</td>\n",
       "      <td>A/5 21171</td>\n",
       "      <td>7.2500</td>\n",
       "      <td>NaN</td>\n",
       "      <td>S</td>\n",
       "    </tr>\n",
       "    <tr>\n",
       "      <th>1</th>\n",
       "      <td>2</td>\n",
       "      <td>1</td>\n",
       "      <td>1</td>\n",
       "      <td>Cumings, Mrs. John Bradley (Florence Briggs Th...</td>\n",
       "      <td>female</td>\n",
       "      <td>38.0</td>\n",
       "      <td>1</td>\n",
       "      <td>0</td>\n",
       "      <td>PC 17599</td>\n",
       "      <td>71.2833</td>\n",
       "      <td>C85</td>\n",
       "      <td>C</td>\n",
       "    </tr>\n",
       "    <tr>\n",
       "      <th>2</th>\n",
       "      <td>3</td>\n",
       "      <td>1</td>\n",
       "      <td>3</td>\n",
       "      <td>Heikkinen, Miss. Laina</td>\n",
       "      <td>female</td>\n",
       "      <td>26.0</td>\n",
       "      <td>0</td>\n",
       "      <td>0</td>\n",
       "      <td>STON/O2. 3101282</td>\n",
       "      <td>7.9250</td>\n",
       "      <td>NaN</td>\n",
       "      <td>S</td>\n",
       "    </tr>\n",
       "  </tbody>\n",
       "</table>\n",
       "</div>"
      ],
      "text/plain": [
       "   PassengerId  Survived  Pclass  \\\n",
       "0            1         0       3   \n",
       "1            2         1       1   \n",
       "2            3         1       3   \n",
       "\n",
       "                                                Name     Sex   Age  SibSp  \\\n",
       "0                            Braund, Mr. Owen Harris    male  22.0      1   \n",
       "1  Cumings, Mrs. John Bradley (Florence Briggs Th...  female  38.0      1   \n",
       "2                             Heikkinen, Miss. Laina  female  26.0      0   \n",
       "\n",
       "   Parch            Ticket     Fare Cabin Embarked  \n",
       "0      0         A/5 21171   7.2500   NaN        S  \n",
       "1      0          PC 17599  71.2833   C85        C  \n",
       "2      0  STON/O2. 3101282   7.9250   NaN        S  "
      ]
     },
     "execution_count": 54,
     "metadata": {},
     "output_type": "execute_result"
    }
   ],
   "source": [
    "# Use iloc to return a DataFrame view of the data in rows 0, 1, 2.\n",
    "titanic.iloc[0:3]"
   ]
  },
  {
   "cell_type": "code",
   "execution_count": 56,
   "metadata": {},
   "outputs": [
    {
     "data": {
      "text/html": [
       "<div>\n",
       "<style scoped>\n",
       "    .dataframe tbody tr th:only-of-type {\n",
       "        vertical-align: middle;\n",
       "    }\n",
       "\n",
       "    .dataframe tbody tr th {\n",
       "        vertical-align: top;\n",
       "    }\n",
       "\n",
       "    .dataframe thead th {\n",
       "        text-align: right;\n",
       "    }\n",
       "</style>\n",
       "<table border=\"1\" class=\"dataframe\">\n",
       "  <thead>\n",
       "    <tr style=\"text-align: right;\">\n",
       "      <th></th>\n",
       "      <th>Name</th>\n",
       "    </tr>\n",
       "  </thead>\n",
       "  <tbody>\n",
       "    <tr>\n",
       "      <th>0</th>\n",
       "      <td>Braund, Mr. Owen Harris</td>\n",
       "    </tr>\n",
       "    <tr>\n",
       "      <th>1</th>\n",
       "      <td>Cumings, Mrs. John Bradley (Florence Briggs Th...</td>\n",
       "    </tr>\n",
       "    <tr>\n",
       "      <th>2</th>\n",
       "      <td>Heikkinen, Miss. Laina</td>\n",
       "    </tr>\n",
       "  </tbody>\n",
       "</table>\n",
       "</div>"
      ],
      "text/plain": [
       "                                                Name\n",
       "0                            Braund, Mr. Owen Harris\n",
       "1  Cumings, Mrs. John Bradley (Florence Briggs Th...\n",
       "2                             Heikkinen, Miss. Laina"
      ]
     },
     "execution_count": 56,
     "metadata": {},
     "output_type": "execute_result"
    }
   ],
   "source": [
    "titanic.iloc[0:3, 3:4]"
   ]
  },
  {
   "cell_type": "code",
   "execution_count": 55,
   "metadata": {
    "colab": {
     "base_uri": "https://localhost:8080/",
     "height": 143
    },
    "executionInfo": {
     "elapsed": 252,
     "status": "ok",
     "timestamp": 1677026520421,
     "user": {
      "displayName": "Matteo Riotto",
      "userId": "15211004813978485634"
     },
     "user_tz": 480
    },
    "id": "jpUTwwuJisI7",
    "outputId": "6ac3f2bc-deb8-4264-a3b8-0728de401cdc"
   },
   "outputs": [
    {
     "data": {
      "text/html": [
       "<div>\n",
       "<style scoped>\n",
       "    .dataframe tbody tr th:only-of-type {\n",
       "        vertical-align: middle;\n",
       "    }\n",
       "\n",
       "    .dataframe tbody tr th {\n",
       "        vertical-align: top;\n",
       "    }\n",
       "\n",
       "    .dataframe thead th {\n",
       "        text-align: right;\n",
       "    }\n",
       "</style>\n",
       "<table border=\"1\" class=\"dataframe\">\n",
       "  <thead>\n",
       "    <tr style=\"text-align: right;\">\n",
       "      <th></th>\n",
       "      <th>Name</th>\n",
       "      <th>Sex</th>\n",
       "    </tr>\n",
       "  </thead>\n",
       "  <tbody>\n",
       "    <tr>\n",
       "      <th>0</th>\n",
       "      <td>Braund, Mr. Owen Harris</td>\n",
       "      <td>male</td>\n",
       "    </tr>\n",
       "    <tr>\n",
       "      <th>1</th>\n",
       "      <td>Cumings, Mrs. John Bradley (Florence Briggs Th...</td>\n",
       "      <td>female</td>\n",
       "    </tr>\n",
       "    <tr>\n",
       "      <th>2</th>\n",
       "      <td>Heikkinen, Miss. Laina</td>\n",
       "      <td>female</td>\n",
       "    </tr>\n",
       "  </tbody>\n",
       "</table>\n",
       "</div>"
      ],
      "text/plain": [
       "                                                Name     Sex\n",
       "0                            Braund, Mr. Owen Harris    male\n",
       "1  Cumings, Mrs. John Bradley (Florence Briggs Th...  female\n",
       "2                             Heikkinen, Miss. Laina  female"
      ]
     },
     "execution_count": 55,
     "metadata": {},
     "output_type": "execute_result"
    }
   ],
   "source": [
    "# Use iloc to return a DataFrame view of rows 0-2 at columns 3 and 4.\n",
    "titanic.iloc[0:3, [3, 4]]"
   ]
  },
  {
   "cell_type": "code",
   "execution_count": 57,
   "metadata": {
    "colab": {
     "base_uri": "https://localhost:8080/",
     "height": 424
    },
    "executionInfo": {
     "elapsed": 7,
     "status": "ok",
     "timestamp": 1677027168933,
     "user": {
      "displayName": "Matteo Riotto",
      "userId": "15211004813978485634"
     },
     "user_tz": 480
    },
    "id": "m96w7s9XmxSp",
    "outputId": "6b5772b4-1a0f-438d-c7ed-b8db182f6af4"
   },
   "outputs": [
    {
     "data": {
      "text/html": [
       "<div>\n",
       "<style scoped>\n",
       "    .dataframe tbody tr th:only-of-type {\n",
       "        vertical-align: middle;\n",
       "    }\n",
       "\n",
       "    .dataframe tbody tr th {\n",
       "        vertical-align: top;\n",
       "    }\n",
       "\n",
       "    .dataframe thead th {\n",
       "        text-align: right;\n",
       "    }\n",
       "</style>\n",
       "<table border=\"1\" class=\"dataframe\">\n",
       "  <thead>\n",
       "    <tr style=\"text-align: right;\">\n",
       "      <th></th>\n",
       "      <th>Name</th>\n",
       "    </tr>\n",
       "  </thead>\n",
       "  <tbody>\n",
       "    <tr>\n",
       "      <th>0</th>\n",
       "      <td>Braund, Mr. Owen Harris</td>\n",
       "    </tr>\n",
       "    <tr>\n",
       "      <th>1</th>\n",
       "      <td>Cumings, Mrs. John Bradley (Florence Briggs Th...</td>\n",
       "    </tr>\n",
       "    <tr>\n",
       "      <th>2</th>\n",
       "      <td>Heikkinen, Miss. Laina</td>\n",
       "    </tr>\n",
       "    <tr>\n",
       "      <th>3</th>\n",
       "      <td>Futrelle, Mrs. Jacques Heath (Lily May Peel)</td>\n",
       "    </tr>\n",
       "    <tr>\n",
       "      <th>4</th>\n",
       "      <td>Allen, Mr. William Henry</td>\n",
       "    </tr>\n",
       "    <tr>\n",
       "      <th>...</th>\n",
       "      <td>...</td>\n",
       "    </tr>\n",
       "    <tr>\n",
       "      <th>886</th>\n",
       "      <td>Montvila, Rev. Juozas</td>\n",
       "    </tr>\n",
       "    <tr>\n",
       "      <th>887</th>\n",
       "      <td>Graham, Miss. Margaret Edith</td>\n",
       "    </tr>\n",
       "    <tr>\n",
       "      <th>888</th>\n",
       "      <td>Johnston, Miss. Catherine Helen \"Carrie\"</td>\n",
       "    </tr>\n",
       "    <tr>\n",
       "      <th>889</th>\n",
       "      <td>Behr, Mr. Karl Howell</td>\n",
       "    </tr>\n",
       "    <tr>\n",
       "      <th>890</th>\n",
       "      <td>Dooley, Mr. Patrick</td>\n",
       "    </tr>\n",
       "  </tbody>\n",
       "</table>\n",
       "<p>891 rows × 1 columns</p>\n",
       "</div>"
      ],
      "text/plain": [
       "                                                  Name\n",
       "0                              Braund, Mr. Owen Harris\n",
       "1    Cumings, Mrs. John Bradley (Florence Briggs Th...\n",
       "2                               Heikkinen, Miss. Laina\n",
       "3         Futrelle, Mrs. Jacques Heath (Lily May Peel)\n",
       "4                             Allen, Mr. William Henry\n",
       "..                                                 ...\n",
       "886                              Montvila, Rev. Juozas\n",
       "887                       Graham, Miss. Margaret Edith\n",
       "888           Johnston, Miss. Catherine Helen \"Carrie\"\n",
       "889                              Behr, Mr. Karl Howell\n",
       "890                                Dooley, Mr. Patrick\n",
       "\n",
       "[891 rows x 1 columns]"
      ]
     },
     "execution_count": 57,
     "metadata": {},
     "output_type": "execute_result"
    }
   ],
   "source": [
    "# Use iloc to return a DataFrame view of all rows at column 3.\n",
    "titanic.iloc[:, [3]]"
   ]
  },
  {
   "cell_type": "code",
   "execution_count": 58,
   "metadata": {
    "colab": {
     "base_uri": "https://localhost:8080/",
     "height": 37
    },
    "executionInfo": {
     "elapsed": 7,
     "status": "ok",
     "timestamp": 1677026755970,
     "user": {
      "displayName": "Matteo Riotto",
      "userId": "15211004813978485634"
     },
     "user_tz": 480
    },
    "id": "mSZHo7NbkI2t",
    "outputId": "26ac0f96-456a-4168-ae08-4be7a11ca97e"
   },
   "outputs": [
    {
     "data": {
      "text/plain": [
       "'Braund, Mr. Owen Harris'"
      ]
     },
     "execution_count": 58,
     "metadata": {},
     "output_type": "execute_result"
    }
   ],
   "source": [
    "# Use iloc to access value in row 0, column 3.\n",
    "titanic.iloc[0, 3]"
   ]
  },
  {
   "cell_type": "code",
   "execution_count": 59,
   "metadata": {
    "colab": {
     "base_uri": "https://localhost:8080/",
     "height": 175
    },
    "executionInfo": {
     "elapsed": 7,
     "status": "ok",
     "timestamp": 1677026929807,
     "user": {
      "displayName": "Matteo Riotto",
      "userId": "15211004813978485634"
     },
     "user_tz": 480
    },
    "id": "s5DYYoTYlYLR",
    "outputId": "210835d1-4aed-4e12-f5d5-5f37fc98d40f"
   },
   "outputs": [
    {
     "data": {
      "text/html": [
       "<div>\n",
       "<style scoped>\n",
       "    .dataframe tbody tr th:only-of-type {\n",
       "        vertical-align: middle;\n",
       "    }\n",
       "\n",
       "    .dataframe tbody tr th {\n",
       "        vertical-align: top;\n",
       "    }\n",
       "\n",
       "    .dataframe thead th {\n",
       "        text-align: right;\n",
       "    }\n",
       "</style>\n",
       "<table border=\"1\" class=\"dataframe\">\n",
       "  <thead>\n",
       "    <tr style=\"text-align: right;\">\n",
       "      <th></th>\n",
       "      <th>Name</th>\n",
       "    </tr>\n",
       "  </thead>\n",
       "  <tbody>\n",
       "    <tr>\n",
       "      <th>0</th>\n",
       "      <td>Braund, Mr. Owen Harris</td>\n",
       "    </tr>\n",
       "    <tr>\n",
       "      <th>1</th>\n",
       "      <td>Cumings, Mrs. John Bradley (Florence Briggs Th...</td>\n",
       "    </tr>\n",
       "    <tr>\n",
       "      <th>2</th>\n",
       "      <td>Heikkinen, Miss. Laina</td>\n",
       "    </tr>\n",
       "    <tr>\n",
       "      <th>3</th>\n",
       "      <td>Futrelle, Mrs. Jacques Heath (Lily May Peel)</td>\n",
       "    </tr>\n",
       "  </tbody>\n",
       "</table>\n",
       "</div>"
      ],
      "text/plain": [
       "                                                Name\n",
       "0                            Braund, Mr. Owen Harris\n",
       "1  Cumings, Mrs. John Bradley (Florence Briggs Th...\n",
       "2                             Heikkinen, Miss. Laina\n",
       "3       Futrelle, Mrs. Jacques Heath (Lily May Peel)"
      ]
     },
     "execution_count": 59,
     "metadata": {},
     "output_type": "execute_result"
    }
   ],
   "source": [
    "# Use loc to access values in rows 0-3 at just the Name column.\n",
    "titanic.loc[0:3, ['Name']]"
   ]
  },
  {
   "cell_type": "code",
   "execution_count": 62,
   "metadata": {},
   "outputs": [
    {
     "data": {
      "text/html": [
       "<div>\n",
       "<style scoped>\n",
       "    .dataframe tbody tr th:only-of-type {\n",
       "        vertical-align: middle;\n",
       "    }\n",
       "\n",
       "    .dataframe tbody tr th {\n",
       "        vertical-align: top;\n",
       "    }\n",
       "\n",
       "    .dataframe thead th {\n",
       "        text-align: right;\n",
       "    }\n",
       "</style>\n",
       "<table border=\"1\" class=\"dataframe\">\n",
       "  <thead>\n",
       "    <tr style=\"text-align: right;\">\n",
       "      <th></th>\n",
       "      <th>Name</th>\n",
       "    </tr>\n",
       "  </thead>\n",
       "  <tbody>\n",
       "    <tr>\n",
       "      <th>0</th>\n",
       "      <td>Braund, Mr. Owen Harris</td>\n",
       "    </tr>\n",
       "    <tr>\n",
       "      <th>1</th>\n",
       "      <td>Cumings, Mrs. John Bradley (Florence Briggs Th...</td>\n",
       "    </tr>\n",
       "    <tr>\n",
       "      <th>2</th>\n",
       "      <td>Heikkinen, Miss. Laina</td>\n",
       "    </tr>\n",
       "  </tbody>\n",
       "</table>\n",
       "</div>"
      ],
      "text/plain": [
       "                                                Name\n",
       "0                            Braund, Mr. Owen Harris\n",
       "1  Cumings, Mrs. John Bradley (Florence Briggs Th...\n",
       "2                             Heikkinen, Miss. Laina"
      ]
     },
     "execution_count": 62,
     "metadata": {},
     "output_type": "execute_result"
    }
   ],
   "source": [
    "titanic.iloc[0:3, [3]]"
   ]
  },
  {
   "cell_type": "code",
   "execution_count": 60,
   "metadata": {
    "colab": {
     "base_uri": "https://localhost:8080/",
     "height": 206
    },
    "executionInfo": {
     "elapsed": 7,
     "status": "ok",
     "timestamp": 1677028108824,
     "user": {
      "displayName": "Matteo Riotto",
      "userId": "15211004813978485634"
     },
     "user_tz": 480
    },
    "id": "_vMaHmx2l7oY",
    "outputId": "b9257998-c2ad-4451-aa1f-2e2b38cd4075"
   },
   "outputs": [
    {
     "data": {
      "text/html": [
       "<div>\n",
       "<style scoped>\n",
       "    .dataframe tbody tr th:only-of-type {\n",
       "        vertical-align: middle;\n",
       "    }\n",
       "\n",
       "    .dataframe tbody tr th {\n",
       "        vertical-align: top;\n",
       "    }\n",
       "\n",
       "    .dataframe thead th {\n",
       "        text-align: right;\n",
       "    }\n",
       "</style>\n",
       "<table border=\"1\" class=\"dataframe\">\n",
       "  <thead>\n",
       "    <tr style=\"text-align: right;\">\n",
       "      <th></th>\n",
       "      <th>PassengerId</th>\n",
       "      <th>Survived</th>\n",
       "      <th>Pclass</th>\n",
       "      <th>Name</th>\n",
       "      <th>Sex</th>\n",
       "      <th>Age</th>\n",
       "      <th>SibSp</th>\n",
       "      <th>Parch</th>\n",
       "      <th>Ticket</th>\n",
       "      <th>Fare</th>\n",
       "      <th>Cabin</th>\n",
       "      <th>Embarked</th>\n",
       "      <th>Age_plus_100</th>\n",
       "    </tr>\n",
       "  </thead>\n",
       "  <tbody>\n",
       "    <tr>\n",
       "      <th>0</th>\n",
       "      <td>1</td>\n",
       "      <td>0</td>\n",
       "      <td>3</td>\n",
       "      <td>Braund, Mr. Owen Harris</td>\n",
       "      <td>male</td>\n",
       "      <td>22.0</td>\n",
       "      <td>1</td>\n",
       "      <td>0</td>\n",
       "      <td>A/5 21171</td>\n",
       "      <td>7.2500</td>\n",
       "      <td>NaN</td>\n",
       "      <td>S</td>\n",
       "      <td>122.0</td>\n",
       "    </tr>\n",
       "    <tr>\n",
       "      <th>1</th>\n",
       "      <td>2</td>\n",
       "      <td>1</td>\n",
       "      <td>1</td>\n",
       "      <td>Cumings, Mrs. John Bradley (Florence Briggs Th...</td>\n",
       "      <td>female</td>\n",
       "      <td>38.0</td>\n",
       "      <td>1</td>\n",
       "      <td>0</td>\n",
       "      <td>PC 17599</td>\n",
       "      <td>71.2833</td>\n",
       "      <td>C85</td>\n",
       "      <td>C</td>\n",
       "      <td>138.0</td>\n",
       "    </tr>\n",
       "    <tr>\n",
       "      <th>2</th>\n",
       "      <td>3</td>\n",
       "      <td>1</td>\n",
       "      <td>3</td>\n",
       "      <td>Heikkinen, Miss. Laina</td>\n",
       "      <td>female</td>\n",
       "      <td>26.0</td>\n",
       "      <td>0</td>\n",
       "      <td>0</td>\n",
       "      <td>STON/O2. 3101282</td>\n",
       "      <td>7.9250</td>\n",
       "      <td>NaN</td>\n",
       "      <td>S</td>\n",
       "      <td>126.0</td>\n",
       "    </tr>\n",
       "    <tr>\n",
       "      <th>3</th>\n",
       "      <td>4</td>\n",
       "      <td>1</td>\n",
       "      <td>1</td>\n",
       "      <td>Futrelle, Mrs. Jacques Heath (Lily May Peel)</td>\n",
       "      <td>female</td>\n",
       "      <td>35.0</td>\n",
       "      <td>1</td>\n",
       "      <td>0</td>\n",
       "      <td>113803</td>\n",
       "      <td>53.1000</td>\n",
       "      <td>C123</td>\n",
       "      <td>S</td>\n",
       "      <td>135.0</td>\n",
       "    </tr>\n",
       "    <tr>\n",
       "      <th>4</th>\n",
       "      <td>5</td>\n",
       "      <td>0</td>\n",
       "      <td>3</td>\n",
       "      <td>Allen, Mr. William Henry</td>\n",
       "      <td>male</td>\n",
       "      <td>35.0</td>\n",
       "      <td>0</td>\n",
       "      <td>0</td>\n",
       "      <td>373450</td>\n",
       "      <td>8.0500</td>\n",
       "      <td>NaN</td>\n",
       "      <td>S</td>\n",
       "      <td>135.0</td>\n",
       "    </tr>\n",
       "  </tbody>\n",
       "</table>\n",
       "</div>"
      ],
      "text/plain": [
       "   PassengerId  Survived  Pclass  \\\n",
       "0            1         0       3   \n",
       "1            2         1       1   \n",
       "2            3         1       3   \n",
       "3            4         1       1   \n",
       "4            5         0       3   \n",
       "\n",
       "                                                Name     Sex   Age  SibSp  \\\n",
       "0                            Braund, Mr. Owen Harris    male  22.0      1   \n",
       "1  Cumings, Mrs. John Bradley (Florence Briggs Th...  female  38.0      1   \n",
       "2                             Heikkinen, Miss. Laina  female  26.0      0   \n",
       "3       Futrelle, Mrs. Jacques Heath (Lily May Peel)  female  35.0      1   \n",
       "4                           Allen, Mr. William Henry    male  35.0      0   \n",
       "\n",
       "   Parch            Ticket     Fare Cabin Embarked  Age_plus_100  \n",
       "0      0         A/5 21171   7.2500   NaN        S         122.0  \n",
       "1      0          PC 17599  71.2833   C85        C         138.0  \n",
       "2      0  STON/O2. 3101282   7.9250   NaN        S         126.0  \n",
       "3      0            113803  53.1000  C123        S         135.0  \n",
       "4      0            373450   8.0500   NaN        S         135.0  "
      ]
     },
     "execution_count": 60,
     "metadata": {},
     "output_type": "execute_result"
    }
   ],
   "source": [
    "# Create a new column in the dataframe containing the value in the Age column + 100.\n",
    "titanic['Age_plus_100'] = titanic['Age'] + 100\n",
    "titanic.head()"
   ]
  },
  {
   "cell_type": "markdown",
   "metadata": {
    "id": "2V4SoVUSs3zK"
   },
   "source": [
    "<a name=\"12\"></a>\n",
    "## 12. [Boolean masking](https://www.coursera.org/learn/get-started-with-python/lecture/dwvsx/boolean-masking) \n",
    "\n",
    "Boolean masking is a filtering technique that overlays a Boolean grid onto a dataframe in order to select only the values in the dataframe that align with the True values of the grid\n",
    "\n",
    "& = and\n",
    "\n",
    "| = or\n",
    "\n",
    "~ = not"
   ]
  },
  {
   "cell_type": "code",
   "execution_count": 63,
   "metadata": {
    "colab": {
     "base_uri": "https://localhost:8080/",
     "height": 300
    },
    "executionInfo": {
     "elapsed": 8,
     "status": "ok",
     "timestamp": 1677030825771,
     "user": {
      "displayName": "Matteo Riotto",
      "userId": "15211004813978485634"
     },
     "user_tz": 480
    },
    "id": "CN4C0F0HqgR_",
    "outputId": "0f376c4f-9e34-481d-dae7-9a031d472300"
   },
   "outputs": [
    {
     "data": {
      "text/html": [
       "<div>\n",
       "<style scoped>\n",
       "    .dataframe tbody tr th:only-of-type {\n",
       "        vertical-align: middle;\n",
       "    }\n",
       "\n",
       "    .dataframe tbody tr th {\n",
       "        vertical-align: top;\n",
       "    }\n",
       "\n",
       "    .dataframe thead th {\n",
       "        text-align: right;\n",
       "    }\n",
       "</style>\n",
       "<table border=\"1\" class=\"dataframe\">\n",
       "  <thead>\n",
       "    <tr style=\"text-align: right;\">\n",
       "      <th></th>\n",
       "      <th>planet</th>\n",
       "      <th>radius_km</th>\n",
       "      <th>moons</th>\n",
       "    </tr>\n",
       "  </thead>\n",
       "  <tbody>\n",
       "    <tr>\n",
       "      <th>0</th>\n",
       "      <td>Mercury</td>\n",
       "      <td>2440</td>\n",
       "      <td>0</td>\n",
       "    </tr>\n",
       "    <tr>\n",
       "      <th>1</th>\n",
       "      <td>Venus</td>\n",
       "      <td>6052</td>\n",
       "      <td>0</td>\n",
       "    </tr>\n",
       "    <tr>\n",
       "      <th>2</th>\n",
       "      <td>Earth</td>\n",
       "      <td>6371</td>\n",
       "      <td>1</td>\n",
       "    </tr>\n",
       "    <tr>\n",
       "      <th>3</th>\n",
       "      <td>Mars</td>\n",
       "      <td>3390</td>\n",
       "      <td>2</td>\n",
       "    </tr>\n",
       "    <tr>\n",
       "      <th>4</th>\n",
       "      <td>Jupiter</td>\n",
       "      <td>69911</td>\n",
       "      <td>80</td>\n",
       "    </tr>\n",
       "    <tr>\n",
       "      <th>5</th>\n",
       "      <td>Saturn</td>\n",
       "      <td>58232</td>\n",
       "      <td>83</td>\n",
       "    </tr>\n",
       "    <tr>\n",
       "      <th>6</th>\n",
       "      <td>Uranus</td>\n",
       "      <td>25362</td>\n",
       "      <td>27</td>\n",
       "    </tr>\n",
       "    <tr>\n",
       "      <th>7</th>\n",
       "      <td>Neptune</td>\n",
       "      <td>24622</td>\n",
       "      <td>14</td>\n",
       "    </tr>\n",
       "  </tbody>\n",
       "</table>\n",
       "</div>"
      ],
      "text/plain": [
       "    planet  radius_km  moons\n",
       "0  Mercury       2440      0\n",
       "1    Venus       6052      0\n",
       "2    Earth       6371      1\n",
       "3     Mars       3390      2\n",
       "4  Jupiter      69911     80\n",
       "5   Saturn      58232     83\n",
       "6   Uranus      25362     27\n",
       "7  Neptune      24622     14"
      ]
     },
     "execution_count": 63,
     "metadata": {},
     "output_type": "execute_result"
    }
   ],
   "source": [
    "# Instantiate a dictionary of planetary data.\n",
    "data = {'planet': ['Mercury', 'Venus', 'Earth', 'Mars',\n",
    "                   'Jupiter', 'Saturn', 'Uranus', 'Neptune'],\n",
    "       'radius_km': [2440, 6052, 6371, 3390, 69911, 58232,\n",
    "                     25362, 24622],\n",
    "       'moons': [0, 0, 1, 2, 80, 83, 27, 14]\n",
    "        }\n",
    "# Use pd.DataFrame() function to convert dictionary to dataframe.\n",
    "planets = pd.DataFrame(data)\n",
    "planets"
   ]
  },
  {
   "cell_type": "code",
   "execution_count": 64,
   "metadata": {
    "colab": {
     "base_uri": "https://localhost:8080/"
    },
    "executionInfo": {
     "elapsed": 5,
     "status": "ok",
     "timestamp": 1677033115928,
     "user": {
      "displayName": "Matteo Riotto",
      "userId": "15211004813978485634"
     },
     "user_tz": 480
    },
    "id": "FpXi3PAh05x8",
    "outputId": "a5df829b-6dc1-4832-e922-96b58c31a609"
   },
   "outputs": [
    {
     "data": {
      "text/plain": [
       "0     True\n",
       "1     True\n",
       "2     True\n",
       "3     True\n",
       "4    False\n",
       "5    False\n",
       "6    False\n",
       "7     True\n",
       "Name: moons, dtype: bool"
      ]
     },
     "execution_count": 64,
     "metadata": {},
     "output_type": "execute_result"
    }
   ],
   "source": [
    "# Create a Boolean mask of planets with fewer than 20 moons.\n",
    "mask = planets['moons'] < 20\n",
    "mask"
   ]
  },
  {
   "cell_type": "code",
   "execution_count": 65,
   "metadata": {
    "colab": {
     "base_uri": "https://localhost:8080/",
     "height": 206
    },
    "executionInfo": {
     "elapsed": 7,
     "status": "ok",
     "timestamp": 1677033254956,
     "user": {
      "displayName": "Matteo Riotto",
      "userId": "15211004813978485634"
     },
     "user_tz": 480
    },
    "id": "v1GS_CCH80c-",
    "outputId": "e211ff4b-1cd5-429d-dd0c-8ccf66c7d8b7"
   },
   "outputs": [
    {
     "data": {
      "text/html": [
       "<div>\n",
       "<style scoped>\n",
       "    .dataframe tbody tr th:only-of-type {\n",
       "        vertical-align: middle;\n",
       "    }\n",
       "\n",
       "    .dataframe tbody tr th {\n",
       "        vertical-align: top;\n",
       "    }\n",
       "\n",
       "    .dataframe thead th {\n",
       "        text-align: right;\n",
       "    }\n",
       "</style>\n",
       "<table border=\"1\" class=\"dataframe\">\n",
       "  <thead>\n",
       "    <tr style=\"text-align: right;\">\n",
       "      <th></th>\n",
       "      <th>planet</th>\n",
       "      <th>radius_km</th>\n",
       "      <th>moons</th>\n",
       "    </tr>\n",
       "  </thead>\n",
       "  <tbody>\n",
       "    <tr>\n",
       "      <th>0</th>\n",
       "      <td>Mercury</td>\n",
       "      <td>2440</td>\n",
       "      <td>0</td>\n",
       "    </tr>\n",
       "    <tr>\n",
       "      <th>1</th>\n",
       "      <td>Venus</td>\n",
       "      <td>6052</td>\n",
       "      <td>0</td>\n",
       "    </tr>\n",
       "    <tr>\n",
       "      <th>2</th>\n",
       "      <td>Earth</td>\n",
       "      <td>6371</td>\n",
       "      <td>1</td>\n",
       "    </tr>\n",
       "    <tr>\n",
       "      <th>3</th>\n",
       "      <td>Mars</td>\n",
       "      <td>3390</td>\n",
       "      <td>2</td>\n",
       "    </tr>\n",
       "    <tr>\n",
       "      <th>7</th>\n",
       "      <td>Neptune</td>\n",
       "      <td>24622</td>\n",
       "      <td>14</td>\n",
       "    </tr>\n",
       "  </tbody>\n",
       "</table>\n",
       "</div>"
      ],
      "text/plain": [
       "    planet  radius_km  moons\n",
       "0  Mercury       2440      0\n",
       "1    Venus       6052      0\n",
       "2    Earth       6371      1\n",
       "3     Mars       3390      2\n",
       "7  Neptune      24622     14"
      ]
     },
     "execution_count": 65,
     "metadata": {},
     "output_type": "execute_result"
    }
   ],
   "source": [
    "# Apply the Boolean mask to the dataframe to filter it so it contains\n",
    "# only the planets with fewer than 20 moons.\n",
    "planets[mask]"
   ]
  },
  {
   "cell_type": "code",
   "execution_count": 66,
   "metadata": {
    "colab": {
     "base_uri": "https://localhost:8080/",
     "height": 206
    },
    "executionInfo": {
     "elapsed": 279,
     "status": "ok",
     "timestamp": 1677033445667,
     "user": {
      "displayName": "Matteo Riotto",
      "userId": "15211004813978485634"
     },
     "user_tz": 480
    },
    "id": "dJI0Izog-K15",
    "outputId": "819e1cd3-f52e-4955-d7a7-e57e7177fe9c"
   },
   "outputs": [
    {
     "data": {
      "text/html": [
       "<div>\n",
       "<style scoped>\n",
       "    .dataframe tbody tr th:only-of-type {\n",
       "        vertical-align: middle;\n",
       "    }\n",
       "\n",
       "    .dataframe tbody tr th {\n",
       "        vertical-align: top;\n",
       "    }\n",
       "\n",
       "    .dataframe thead th {\n",
       "        text-align: right;\n",
       "    }\n",
       "</style>\n",
       "<table border=\"1\" class=\"dataframe\">\n",
       "  <thead>\n",
       "    <tr style=\"text-align: right;\">\n",
       "      <th></th>\n",
       "      <th>planet</th>\n",
       "      <th>radius_km</th>\n",
       "      <th>moons</th>\n",
       "    </tr>\n",
       "  </thead>\n",
       "  <tbody>\n",
       "    <tr>\n",
       "      <th>0</th>\n",
       "      <td>Mercury</td>\n",
       "      <td>2440</td>\n",
       "      <td>0</td>\n",
       "    </tr>\n",
       "    <tr>\n",
       "      <th>1</th>\n",
       "      <td>Venus</td>\n",
       "      <td>6052</td>\n",
       "      <td>0</td>\n",
       "    </tr>\n",
       "    <tr>\n",
       "      <th>2</th>\n",
       "      <td>Earth</td>\n",
       "      <td>6371</td>\n",
       "      <td>1</td>\n",
       "    </tr>\n",
       "    <tr>\n",
       "      <th>3</th>\n",
       "      <td>Mars</td>\n",
       "      <td>3390</td>\n",
       "      <td>2</td>\n",
       "    </tr>\n",
       "    <tr>\n",
       "      <th>7</th>\n",
       "      <td>Neptune</td>\n",
       "      <td>24622</td>\n",
       "      <td>14</td>\n",
       "    </tr>\n",
       "  </tbody>\n",
       "</table>\n",
       "</div>"
      ],
      "text/plain": [
       "    planet  radius_km  moons\n",
       "0  Mercury       2440      0\n",
       "1    Venus       6052      0\n",
       "2    Earth       6371      1\n",
       "3     Mars       3390      2\n",
       "7  Neptune      24622     14"
      ]
     },
     "execution_count": 66,
     "metadata": {},
     "output_type": "execute_result"
    }
   ],
   "source": [
    "# Define the Boolean mask and apply it in a single line.\n",
    "planets[planets['moons'] < 20]"
   ]
  },
  {
   "cell_type": "code",
   "execution_count": 67,
   "metadata": {
    "colab": {
     "base_uri": "https://localhost:8080/",
     "height": 300
    },
    "executionInfo": {
     "elapsed": 7,
     "status": "ok",
     "timestamp": 1677033606645,
     "user": {
      "displayName": "Matteo Riotto",
      "userId": "15211004813978485634"
     },
     "user_tz": 480
    },
    "id": "ROudxxOs-5XS",
    "outputId": "db4b7fc7-2423-4d15-d85a-09ab90de8f32"
   },
   "outputs": [
    {
     "data": {
      "text/html": [
       "<div>\n",
       "<style scoped>\n",
       "    .dataframe tbody tr th:only-of-type {\n",
       "        vertical-align: middle;\n",
       "    }\n",
       "\n",
       "    .dataframe tbody tr th {\n",
       "        vertical-align: top;\n",
       "    }\n",
       "\n",
       "    .dataframe thead th {\n",
       "        text-align: right;\n",
       "    }\n",
       "</style>\n",
       "<table border=\"1\" class=\"dataframe\">\n",
       "  <thead>\n",
       "    <tr style=\"text-align: right;\">\n",
       "      <th></th>\n",
       "      <th>planet</th>\n",
       "      <th>radius_km</th>\n",
       "      <th>moons</th>\n",
       "    </tr>\n",
       "  </thead>\n",
       "  <tbody>\n",
       "    <tr>\n",
       "      <th>0</th>\n",
       "      <td>Mercury</td>\n",
       "      <td>2440</td>\n",
       "      <td>0</td>\n",
       "    </tr>\n",
       "    <tr>\n",
       "      <th>1</th>\n",
       "      <td>Venus</td>\n",
       "      <td>6052</td>\n",
       "      <td>0</td>\n",
       "    </tr>\n",
       "    <tr>\n",
       "      <th>2</th>\n",
       "      <td>Earth</td>\n",
       "      <td>6371</td>\n",
       "      <td>1</td>\n",
       "    </tr>\n",
       "    <tr>\n",
       "      <th>3</th>\n",
       "      <td>Mars</td>\n",
       "      <td>3390</td>\n",
       "      <td>2</td>\n",
       "    </tr>\n",
       "    <tr>\n",
       "      <th>4</th>\n",
       "      <td>Jupiter</td>\n",
       "      <td>69911</td>\n",
       "      <td>80</td>\n",
       "    </tr>\n",
       "    <tr>\n",
       "      <th>5</th>\n",
       "      <td>Saturn</td>\n",
       "      <td>58232</td>\n",
       "      <td>83</td>\n",
       "    </tr>\n",
       "    <tr>\n",
       "      <th>6</th>\n",
       "      <td>Uranus</td>\n",
       "      <td>25362</td>\n",
       "      <td>27</td>\n",
       "    </tr>\n",
       "    <tr>\n",
       "      <th>7</th>\n",
       "      <td>Neptune</td>\n",
       "      <td>24622</td>\n",
       "      <td>14</td>\n",
       "    </tr>\n",
       "  </tbody>\n",
       "</table>\n",
       "</div>"
      ],
      "text/plain": [
       "    planet  radius_km  moons\n",
       "0  Mercury       2440      0\n",
       "1    Venus       6052      0\n",
       "2    Earth       6371      1\n",
       "3     Mars       3390      2\n",
       "4  Jupiter      69911     80\n",
       "5   Saturn      58232     83\n",
       "6   Uranus      25362     27\n",
       "7  Neptune      24622     14"
      ]
     },
     "execution_count": 67,
     "metadata": {},
     "output_type": "execute_result"
    }
   ],
   "source": [
    "# Boolean masks don't change the data. They're just views.\n",
    "planets"
   ]
  },
  {
   "cell_type": "code",
   "execution_count": 68,
   "metadata": {
    "colab": {
     "base_uri": "https://localhost:8080/",
     "height": 206
    },
    "executionInfo": {
     "elapsed": 7,
     "status": "ok",
     "timestamp": 1677033818393,
     "user": {
      "displayName": "Matteo Riotto",
      "userId": "15211004813978485634"
     },
     "user_tz": 480
    },
    "id": "FRavYck9_gp5",
    "outputId": "fa7f5e14-c354-48db-d045-eccba0f1b1b3"
   },
   "outputs": [
    {
     "data": {
      "text/html": [
       "<div>\n",
       "<style scoped>\n",
       "    .dataframe tbody tr th:only-of-type {\n",
       "        vertical-align: middle;\n",
       "    }\n",
       "\n",
       "    .dataframe tbody tr th {\n",
       "        vertical-align: top;\n",
       "    }\n",
       "\n",
       "    .dataframe thead th {\n",
       "        text-align: right;\n",
       "    }\n",
       "</style>\n",
       "<table border=\"1\" class=\"dataframe\">\n",
       "  <thead>\n",
       "    <tr style=\"text-align: right;\">\n",
       "      <th></th>\n",
       "      <th>planet</th>\n",
       "      <th>radius_km</th>\n",
       "      <th>moons</th>\n",
       "    </tr>\n",
       "  </thead>\n",
       "  <tbody>\n",
       "    <tr>\n",
       "      <th>0</th>\n",
       "      <td>Mercury</td>\n",
       "      <td>2440</td>\n",
       "      <td>0</td>\n",
       "    </tr>\n",
       "    <tr>\n",
       "      <th>1</th>\n",
       "      <td>Venus</td>\n",
       "      <td>6052</td>\n",
       "      <td>0</td>\n",
       "    </tr>\n",
       "    <tr>\n",
       "      <th>2</th>\n",
       "      <td>Earth</td>\n",
       "      <td>6371</td>\n",
       "      <td>1</td>\n",
       "    </tr>\n",
       "    <tr>\n",
       "      <th>3</th>\n",
       "      <td>Mars</td>\n",
       "      <td>3390</td>\n",
       "      <td>2</td>\n",
       "    </tr>\n",
       "    <tr>\n",
       "      <th>7</th>\n",
       "      <td>Neptune</td>\n",
       "      <td>24622</td>\n",
       "      <td>14</td>\n",
       "    </tr>\n",
       "  </tbody>\n",
       "</table>\n",
       "</div>"
      ],
      "text/plain": [
       "    planet  radius_km  moons\n",
       "0  Mercury       2440      0\n",
       "1    Venus       6052      0\n",
       "2    Earth       6371      1\n",
       "3     Mars       3390      2\n",
       "7  Neptune      24622     14"
      ]
     },
     "execution_count": 68,
     "metadata": {},
     "output_type": "execute_result"
    }
   ],
   "source": [
    "# You can assign a dataframe view to a named variable.\n",
    "moons_under_20 = planets[mask]\n",
    "moons_under_20"
   ]
  },
  {
   "cell_type": "code",
   "execution_count": 69,
   "metadata": {
    "colab": {
     "base_uri": "https://localhost:8080/"
    },
    "executionInfo": {
     "elapsed": 4,
     "status": "ok",
     "timestamp": 1677034859989,
     "user": {
      "displayName": "Matteo Riotto",
      "userId": "15211004813978485634"
     },
     "user_tz": 480
    },
    "id": "ahTj-0xeAUbM",
    "outputId": "9cfc8a97-0d75-413e-869f-30550df56a8b"
   },
   "outputs": [
    {
     "data": {
      "text/plain": [
       "0     True\n",
       "1     True\n",
       "2     True\n",
       "3     True\n",
       "4     True\n",
       "5     True\n",
       "6    False\n",
       "7    False\n",
       "Name: moons, dtype: bool"
      ]
     },
     "execution_count": 69,
     "metadata": {},
     "output_type": "execute_result"
    }
   ],
   "source": [
    "# Create a Boolean mask of planets with fewer than 10 moons OR more than 50 moons.\n",
    "mask = (planets['moons'] < 10) | (planets['moons'] > 50)\n",
    "mask"
   ]
  },
  {
   "cell_type": "code",
   "execution_count": 70,
   "metadata": {
    "colab": {
     "base_uri": "https://localhost:8080/",
     "height": 238
    },
    "executionInfo": {
     "elapsed": 8,
     "status": "ok",
     "timestamp": 1677035805557,
     "user": {
      "displayName": "Matteo Riotto",
      "userId": "15211004813978485634"
     },
     "user_tz": 480
    },
    "id": "PeExbR2uEStp",
    "outputId": "ea9f145a-6cb5-4530-b3c4-d0e7837bf53a"
   },
   "outputs": [
    {
     "data": {
      "text/html": [
       "<div>\n",
       "<style scoped>\n",
       "    .dataframe tbody tr th:only-of-type {\n",
       "        vertical-align: middle;\n",
       "    }\n",
       "\n",
       "    .dataframe tbody tr th {\n",
       "        vertical-align: top;\n",
       "    }\n",
       "\n",
       "    .dataframe thead th {\n",
       "        text-align: right;\n",
       "    }\n",
       "</style>\n",
       "<table border=\"1\" class=\"dataframe\">\n",
       "  <thead>\n",
       "    <tr style=\"text-align: right;\">\n",
       "      <th></th>\n",
       "      <th>planet</th>\n",
       "      <th>radius_km</th>\n",
       "      <th>moons</th>\n",
       "    </tr>\n",
       "  </thead>\n",
       "  <tbody>\n",
       "    <tr>\n",
       "      <th>0</th>\n",
       "      <td>Mercury</td>\n",
       "      <td>2440</td>\n",
       "      <td>0</td>\n",
       "    </tr>\n",
       "    <tr>\n",
       "      <th>1</th>\n",
       "      <td>Venus</td>\n",
       "      <td>6052</td>\n",
       "      <td>0</td>\n",
       "    </tr>\n",
       "    <tr>\n",
       "      <th>2</th>\n",
       "      <td>Earth</td>\n",
       "      <td>6371</td>\n",
       "      <td>1</td>\n",
       "    </tr>\n",
       "    <tr>\n",
       "      <th>3</th>\n",
       "      <td>Mars</td>\n",
       "      <td>3390</td>\n",
       "      <td>2</td>\n",
       "    </tr>\n",
       "    <tr>\n",
       "      <th>4</th>\n",
       "      <td>Jupiter</td>\n",
       "      <td>69911</td>\n",
       "      <td>80</td>\n",
       "    </tr>\n",
       "    <tr>\n",
       "      <th>5</th>\n",
       "      <td>Saturn</td>\n",
       "      <td>58232</td>\n",
       "      <td>83</td>\n",
       "    </tr>\n",
       "  </tbody>\n",
       "</table>\n",
       "</div>"
      ],
      "text/plain": [
       "    planet  radius_km  moons\n",
       "0  Mercury       2440      0\n",
       "1    Venus       6052      0\n",
       "2    Earth       6371      1\n",
       "3     Mars       3390      2\n",
       "4  Jupiter      69911     80\n",
       "5   Saturn      58232     83"
      ]
     },
     "execution_count": 70,
     "metadata": {},
     "output_type": "execute_result"
    }
   ],
   "source": [
    "# Apply the Boolean mask to filter the data.\n",
    "planets[mask]"
   ]
  },
  {
   "attachments": {
    "image.png": {
     "image/png": "[encoded data removed]"
    }
   },
   "cell_type": "markdown",
   "metadata": {},
   "source": [
    "![image.png](attachment:image.png)"
   ]
  },
  {
   "cell_type": "code",
   "execution_count": 71,
   "metadata": {
    "colab": {
     "base_uri": "https://localhost:8080/",
     "height": 81
    },
    "executionInfo": {
     "elapsed": 7,
     "status": "ok",
     "timestamp": 1677036019273,
     "user": {
      "displayName": "Matteo Riotto",
      "userId": "15211004813978485634"
     },
     "user_tz": 480
    },
    "id": "Gkhcrul6H5j9",
    "outputId": "972458af-57c4-4f22-911c-606e7492b1fc"
   },
   "outputs": [
    {
     "data": {
      "text/html": [
       "<div>\n",
       "<style scoped>\n",
       "    .dataframe tbody tr th:only-of-type {\n",
       "        vertical-align: middle;\n",
       "    }\n",
       "\n",
       "    .dataframe tbody tr th {\n",
       "        vertical-align: top;\n",
       "    }\n",
       "\n",
       "    .dataframe thead th {\n",
       "        text-align: right;\n",
       "    }\n",
       "</style>\n",
       "<table border=\"1\" class=\"dataframe\">\n",
       "  <thead>\n",
       "    <tr style=\"text-align: right;\">\n",
       "      <th></th>\n",
       "      <th>planet</th>\n",
       "      <th>radius_km</th>\n",
       "      <th>moons</th>\n",
       "    </tr>\n",
       "  </thead>\n",
       "  <tbody>\n",
       "    <tr>\n",
       "      <th>5</th>\n",
       "      <td>Saturn</td>\n",
       "      <td>58232</td>\n",
       "      <td>83</td>\n",
       "    </tr>\n",
       "  </tbody>\n",
       "</table>\n",
       "</div>"
      ],
      "text/plain": [
       "   planet  radius_km  moons\n",
       "5  Saturn      58232     83"
      ]
     },
     "execution_count": 71,
     "metadata": {},
     "output_type": "execute_result"
    }
   ],
   "source": [
    "# Create a Boolean mask of planets with more than 20 moons, excluding them if they\n",
    "# have 80 moons or if their radius is less than 50,000 km.\n",
    "mask = (planets['moons'] > 20) & ~(planets['moons'] == 80) & ~(planets['radius_km'] < 50000)\n",
    "\n",
    "# Apply the mask\n",
    "planets[mask]"
   ]
  },
  {
   "cell_type": "markdown",
   "metadata": {
    "id": "ghGUvEesEme9"
   },
   "source": [
    "<a name=\"13\"></a>\n",
    "## 13. [Grouping and aggregation](https://www.coursera.org/learn/get-started-with-python/lecture/qxiRG/grouping-and-aggregation) "
   ]
  },
  {
   "cell_type": "code",
   "execution_count": null,
   "metadata": {
    "colab": {
     "base_uri": "https://localhost:8080/",
     "height": 300
    },
    "executionInfo": {
     "elapsed": 280,
     "status": "ok",
     "timestamp": 1677090278311,
     "user": {
      "displayName": "Matteo Riotto",
      "userId": "15211004813978485634"
     },
     "user_tz": 480
    },
    "id": "lRzCl-I8Io19",
    "outputId": "53dd162d-7e59-44b3-e85c-8242c9bd0251"
   },
   "outputs": [],
   "source": [
    "import numpy as np\n",
    "import pandas as pd\n",
    "\n",
    "# Instantiate a dictionary of planetary data.\n",
    "data = {'planet': ['Mercury', 'Venus', 'Earth', 'Mars',\n",
    "                   'Jupiter', 'Saturn', 'Uranus', 'Neptune'],\n",
    "        'radius_km': [2440, 6052, 6371, 3390, 69911, 58232,\n",
    "                     25362, 24622],\n",
    "        'moons': [0, 0, 1, 2, 80, 83, 27, 14],\n",
    "        'type': ['terrestrial', 'terrestrial', 'terrestrial', 'terrestrial',\n",
    "                 'gas giant', 'gas giant', 'ice giant', 'ice giant'],\n",
    "        'rings': ['no', 'no', 'no', 'no', 'yes', 'yes', 'yes','yes'],\n",
    "        'mean_temp_c': [167, 464, 15, -65, -110, -140, -195, -200],\n",
    "        'magnetic_field': ['yes', 'no', 'yes', 'no', 'yes', 'yes', 'yes', 'yes']\n",
    "        }\n",
    "\n",
    "# Use pd.DataFrame() function to convert dictionary to dataframe.\n",
    "planets = pd.DataFrame(data)\n",
    "planets"
   ]
  },
  {
   "cell_type": "code",
   "execution_count": null,
   "metadata": {
    "colab": {
     "base_uri": "https://localhost:8080/"
    },
    "executionInfo": {
     "elapsed": 182,
     "status": "ok",
     "timestamp": 1677090079297,
     "user": {
      "displayName": "Matteo Riotto",
      "userId": "15211004813978485634"
     },
     "user_tz": 480
    },
    "id": "r-Ldq1uzEyDR",
    "outputId": "b9b6fcc3-7e7f-425b-f019-12e9de7b11ce"
   },
   "outputs": [],
   "source": [
    "# The groupby() function returns a groupby object.\n",
    "planets.groupby(['type'])"
   ]
  },
  {
   "cell_type": "code",
   "execution_count": null,
   "metadata": {
    "colab": {
     "base_uri": "https://localhost:8080/",
     "height": 175
    },
    "executionInfo": {
     "elapsed": 200,
     "status": "ok",
     "timestamp": 1677090080315,
     "user": {
      "displayName": "Matteo Riotto",
      "userId": "15211004813978485634"
     },
     "user_tz": 480
    },
    "id": "CbB4Lv2cFtcm",
    "outputId": "0df3718e-8b19-4b07-c94b-ba06119cece5"
   },
   "outputs": [],
   "source": [
    "# Apply the sum() function to the groupby object to get the sum\n",
    "# of the values in each numerical column for each group.\n",
    "planets.groupby(['type']).sum()"
   ]
  },
  {
   "cell_type": "code",
   "execution_count": null,
   "metadata": {
    "colab": {
     "base_uri": "https://localhost:8080/",
     "height": 175
    },
    "executionInfo": {
     "elapsed": 180,
     "status": "ok",
     "timestamp": 1677090088414,
     "user": {
      "displayName": "Matteo Riotto",
      "userId": "15211004813978485634"
     },
     "user_tz": 480
    },
    "id": "KXy7uSK-Nq7Z",
    "outputId": "eddc0096-d75b-4d8e-b88a-90c87700c663"
   },
   "outputs": [],
   "source": [
    "# Apply the sum function to the groupby object and select\n",
    "# only the 'moons' column.\n",
    "planets.groupby(['type']).sum()[['moons']]"
   ]
  },
  {
   "cell_type": "code",
   "execution_count": null,
   "metadata": {
    "colab": {
     "base_uri": "https://localhost:8080/",
     "height": 206
    },
    "executionInfo": {
     "elapsed": 194,
     "status": "ok",
     "timestamp": 1677090338074,
     "user": {
      "displayName": "Matteo Riotto",
      "userId": "15211004813978485634"
     },
     "user_tz": 480
    },
    "id": "tYKeituPUA2o",
    "outputId": "865c8015-d3c7-49bd-8951-c7f2febcd2d9"
   },
   "outputs": [],
   "source": [
    "# Group by type and magnetic_field and get the mean of the values\n",
    "# in the numeric columns for each group.\n",
    "planets.groupby(['type', 'magnetic_field']).mean()"
   ]
  },
  {
   "cell_type": "code",
   "execution_count": null,
   "metadata": {
    "colab": {
     "base_uri": "https://localhost:8080/",
     "height": 206
    },
    "executionInfo": {
     "elapsed": 214,
     "status": "ok",
     "timestamp": 1677094257855,
     "user": {
      "displayName": "Matteo Riotto",
      "userId": "15211004813978485634"
     },
     "user_tz": 480
    },
    "id": "X_KA6hwHVkum",
    "outputId": "463ff823-1a2a-4768-9964-5b000b280daa"
   },
   "outputs": [],
   "source": [
    "# Group by type, then use the agg() function to get the mean and median\n",
    "# of the values in the numeric columns for each group.\n",
    "planets.groupby(['type']).agg(['mean', 'median'])"
   ]
  },
  {
   "cell_type": "code",
   "execution_count": null,
   "metadata": {
    "colab": {
     "base_uri": "https://localhost:8080/",
     "height": 238
    },
    "executionInfo": {
     "elapsed": 405,
     "status": "ok",
     "timestamp": 1677095102376,
     "user": {
      "displayName": "Matteo Riotto",
      "userId": "15211004813978485634"
     },
     "user_tz": 480
    },
    "id": "Z0rmP5nypfNQ",
    "outputId": "960c5b35-28d5-4a58-876c-803b3dc7bc75"
   },
   "outputs": [],
   "source": [
    "# Group by type and magnetic_field, then use the agg() function to get the\n",
    "# mean and max of the values in the numeric columns for each group.\n",
    "planets.groupby(['type', 'magnetic_field']).agg(['mean', 'max'])"
   ]
  },
  {
   "cell_type": "code",
   "execution_count": null,
   "metadata": {
    "id": "fo3dvIJYc6Eh"
   },
   "outputs": [],
   "source": [
    "# Define a function that returns the 90 percentile of an array.\n",
    "def percentile_90(x):\n",
    "    return x.quantile(0.9)"
   ]
  },
  {
   "cell_type": "code",
   "execution_count": null,
   "metadata": {
    "colab": {
     "base_uri": "https://localhost:8080/",
     "height": 238
    },
    "executionInfo": {
     "elapsed": 223,
     "status": "ok",
     "timestamp": 1677095071263,
     "user": {
      "displayName": "Matteo Riotto",
      "userId": "15211004813978485634"
     },
     "user_tz": 480
    },
    "id": "nEKAcdvPok7c",
    "outputId": "c837745b-5da0-4b03-d50a-7b7630b34d47"
   },
   "outputs": [],
   "source": [
    "# Group by type and magnetic_field, then use the agg() function to apply the\n",
    "# mean and the custom-defined `percentile_90()` function to the numeric\n",
    "# columns for each group.\n",
    "planets.groupby(['type', 'magnetic_field']).agg(['mean', percentile_90])"
   ]
  },
  {
   "attachments": {
    "image.png": {
     "image/png": "[encoded data removed]"
    }
   },
   "cell_type": "markdown",
   "metadata": {
    "id": "5q0mj3iQ23mV"
   },
   "source": [
    "<a name=\"14\"></a>\n",
    "## 14. [Merging and joining data](https://www.coursera.org/learn/get-started-with-python/lecture/Jsipy/merging-and-joining-data) \n",
    "![image.png](attachment:image.png)"
   ]
  },
  {
   "cell_type": "code",
   "execution_count": 72,
   "metadata": {
    "colab": {
     "base_uri": "https://localhost:8080/",
     "height": 175
    },
    "executionInfo": {
     "elapsed": 212,
     "status": "ok",
     "timestamp": 1677104869418,
     "user": {
      "displayName": "Matteo Riotto",
      "userId": "15211004813978485634"
     },
     "user_tz": 480
    },
    "id": "CAEwsJDY2-jo",
    "outputId": "01953216-3d1f-47b1-edeb-7a16375edc75"
   },
   "outputs": [
    {
     "data": {
      "text/html": [
       "<div>\n",
       "<style scoped>\n",
       "    .dataframe tbody tr th:only-of-type {\n",
       "        vertical-align: middle;\n",
       "    }\n",
       "\n",
       "    .dataframe tbody tr th {\n",
       "        vertical-align: top;\n",
       "    }\n",
       "\n",
       "    .dataframe thead th {\n",
       "        text-align: right;\n",
       "    }\n",
       "</style>\n",
       "<table border=\"1\" class=\"dataframe\">\n",
       "  <thead>\n",
       "    <tr style=\"text-align: right;\">\n",
       "      <th></th>\n",
       "      <th>planet</th>\n",
       "      <th>radius_km</th>\n",
       "      <th>moons</th>\n",
       "    </tr>\n",
       "  </thead>\n",
       "  <tbody>\n",
       "    <tr>\n",
       "      <th>0</th>\n",
       "      <td>Mercury</td>\n",
       "      <td>2440</td>\n",
       "      <td>0</td>\n",
       "    </tr>\n",
       "    <tr>\n",
       "      <th>1</th>\n",
       "      <td>Venus</td>\n",
       "      <td>6052</td>\n",
       "      <td>0</td>\n",
       "    </tr>\n",
       "    <tr>\n",
       "      <th>2</th>\n",
       "      <td>Earth</td>\n",
       "      <td>6371</td>\n",
       "      <td>1</td>\n",
       "    </tr>\n",
       "    <tr>\n",
       "      <th>3</th>\n",
       "      <td>Mars</td>\n",
       "      <td>3390</td>\n",
       "      <td>2</td>\n",
       "    </tr>\n",
       "  </tbody>\n",
       "</table>\n",
       "</div>"
      ],
      "text/plain": [
       "    planet  radius_km  moons\n",
       "0  Mercury       2440      0\n",
       "1    Venus       6052      0\n",
       "2    Earth       6371      1\n",
       "3     Mars       3390      2"
      ]
     },
     "execution_count": 72,
     "metadata": {},
     "output_type": "execute_result"
    }
   ],
   "source": [
    "import numpy as np\n",
    "import pandas as pd\n",
    "\n",
    "# Instantiate a dictionary of planetary data.\n",
    "data = {'planet': ['Mercury', 'Venus', 'Earth', 'Mars'],\n",
    "        'radius_km': [2440, 6052, 6371, 3390],\n",
    "        'moons': [0, 0, 1, 2],\n",
    "        }\n",
    "# Use pd.DataFrame() function to convert dictionary to dataframe.\n",
    "df1 = pd.DataFrame(data)\n",
    "df1"
   ]
  },
  {
   "cell_type": "code",
   "execution_count": 73,
   "metadata": {
    "colab": {
     "base_uri": "https://localhost:8080/",
     "height": 175
    },
    "executionInfo": {
     "elapsed": 221,
     "status": "ok",
     "timestamp": 1677104904078,
     "user": {
      "displayName": "Matteo Riotto",
      "userId": "15211004813978485634"
     },
     "user_tz": 480
    },
    "id": "nQFQFUwYOf9a",
    "outputId": "dbe40c9c-4a9f-4fd8-940a-867973facd77"
   },
   "outputs": [
    {
     "data": {
      "text/html": [
       "<div>\n",
       "<style scoped>\n",
       "    .dataframe tbody tr th:only-of-type {\n",
       "        vertical-align: middle;\n",
       "    }\n",
       "\n",
       "    .dataframe tbody tr th {\n",
       "        vertical-align: top;\n",
       "    }\n",
       "\n",
       "    .dataframe thead th {\n",
       "        text-align: right;\n",
       "    }\n",
       "</style>\n",
       "<table border=\"1\" class=\"dataframe\">\n",
       "  <thead>\n",
       "    <tr style=\"text-align: right;\">\n",
       "      <th></th>\n",
       "      <th>planet</th>\n",
       "      <th>radius_km</th>\n",
       "      <th>moons</th>\n",
       "    </tr>\n",
       "  </thead>\n",
       "  <tbody>\n",
       "    <tr>\n",
       "      <th>0</th>\n",
       "      <td>Jupiter</td>\n",
       "      <td>69911</td>\n",
       "      <td>80</td>\n",
       "    </tr>\n",
       "    <tr>\n",
       "      <th>1</th>\n",
       "      <td>Saturn</td>\n",
       "      <td>58232</td>\n",
       "      <td>83</td>\n",
       "    </tr>\n",
       "    <tr>\n",
       "      <th>2</th>\n",
       "      <td>Uranus</td>\n",
       "      <td>25362</td>\n",
       "      <td>27</td>\n",
       "    </tr>\n",
       "    <tr>\n",
       "      <th>3</th>\n",
       "      <td>Neptune</td>\n",
       "      <td>24622</td>\n",
       "      <td>14</td>\n",
       "    </tr>\n",
       "  </tbody>\n",
       "</table>\n",
       "</div>"
      ],
      "text/plain": [
       "    planet  radius_km  moons\n",
       "0  Jupiter      69911     80\n",
       "1   Saturn      58232     83\n",
       "2   Uranus      25362     27\n",
       "3  Neptune      24622     14"
      ]
     },
     "execution_count": 73,
     "metadata": {},
     "output_type": "execute_result"
    }
   ],
   "source": [
    "# Instantiate a dictionary of planetary data.\n",
    "data = {'planet': ['Jupiter', 'Saturn', 'Uranus', 'Neptune'],\n",
    "        'radius_km': [69911, 58232, 25362, 24622],\n",
    "        'moons': [80, 83, 27, 14],\n",
    "        }\n",
    "# Use pd.DataFrame() function to convert dictionary to dataframe.\n",
    "df2 = pd.DataFrame(data)\n",
    "df2"
   ]
  },
  {
   "cell_type": "markdown",
   "metadata": {},
   "source": [
    "`concat()` is a pandas function that combines data either by adding it horizontally as new columns for existing rows, or vertical as new rows for existing columns"
   ]
  },
  {
   "cell_type": "code",
   "execution_count": 74,
   "metadata": {
    "colab": {
     "base_uri": "https://localhost:8080/",
     "height": 300
    },
    "executionInfo": {
     "elapsed": 232,
     "status": "ok",
     "timestamp": 1677106072948,
     "user": {
      "displayName": "Matteo Riotto",
      "userId": "15211004813978485634"
     },
     "user_tz": 480
    },
    "id": "uEk2FvcsPU7m",
    "outputId": "7ea88d99-b0da-40ea-d93b-d6dc88588803"
   },
   "outputs": [
    {
     "data": {
      "text/html": [
       "<div>\n",
       "<style scoped>\n",
       "    .dataframe tbody tr th:only-of-type {\n",
       "        vertical-align: middle;\n",
       "    }\n",
       "\n",
       "    .dataframe tbody tr th {\n",
       "        vertical-align: top;\n",
       "    }\n",
       "\n",
       "    .dataframe thead th {\n",
       "        text-align: right;\n",
       "    }\n",
       "</style>\n",
       "<table border=\"1\" class=\"dataframe\">\n",
       "  <thead>\n",
       "    <tr style=\"text-align: right;\">\n",
       "      <th></th>\n",
       "      <th>planet</th>\n",
       "      <th>radius_km</th>\n",
       "      <th>moons</th>\n",
       "    </tr>\n",
       "  </thead>\n",
       "  <tbody>\n",
       "    <tr>\n",
       "      <th>0</th>\n",
       "      <td>Mercury</td>\n",
       "      <td>2440</td>\n",
       "      <td>0</td>\n",
       "    </tr>\n",
       "    <tr>\n",
       "      <th>1</th>\n",
       "      <td>Venus</td>\n",
       "      <td>6052</td>\n",
       "      <td>0</td>\n",
       "    </tr>\n",
       "    <tr>\n",
       "      <th>2</th>\n",
       "      <td>Earth</td>\n",
       "      <td>6371</td>\n",
       "      <td>1</td>\n",
       "    </tr>\n",
       "    <tr>\n",
       "      <th>3</th>\n",
       "      <td>Mars</td>\n",
       "      <td>3390</td>\n",
       "      <td>2</td>\n",
       "    </tr>\n",
       "    <tr>\n",
       "      <th>0</th>\n",
       "      <td>Jupiter</td>\n",
       "      <td>69911</td>\n",
       "      <td>80</td>\n",
       "    </tr>\n",
       "    <tr>\n",
       "      <th>1</th>\n",
       "      <td>Saturn</td>\n",
       "      <td>58232</td>\n",
       "      <td>83</td>\n",
       "    </tr>\n",
       "    <tr>\n",
       "      <th>2</th>\n",
       "      <td>Uranus</td>\n",
       "      <td>25362</td>\n",
       "      <td>27</td>\n",
       "    </tr>\n",
       "    <tr>\n",
       "      <th>3</th>\n",
       "      <td>Neptune</td>\n",
       "      <td>24622</td>\n",
       "      <td>14</td>\n",
       "    </tr>\n",
       "  </tbody>\n",
       "</table>\n",
       "</div>"
      ],
      "text/plain": [
       "    planet  radius_km  moons\n",
       "0  Mercury       2440      0\n",
       "1    Venus       6052      0\n",
       "2    Earth       6371      1\n",
       "3     Mars       3390      2\n",
       "0  Jupiter      69911     80\n",
       "1   Saturn      58232     83\n",
       "2   Uranus      25362     27\n",
       "3  Neptune      24622     14"
      ]
     },
     "execution_count": 74,
     "metadata": {},
     "output_type": "execute_result"
    }
   ],
   "source": [
    "# The pd.concat() function can combine the two dataframes along axis 0,\n",
    "# with the second dataframe being added as new rows to the first dataframe.\n",
    "df3 = pd.concat([df1, df2], axis=0)\n",
    "df3"
   ]
  },
  {
   "cell_type": "code",
   "execution_count": 75,
   "metadata": {
    "colab": {
     "base_uri": "https://localhost:8080/",
     "height": 300
    },
    "executionInfo": {
     "elapsed": 236,
     "status": "ok",
     "timestamp": 1677106074024,
     "user": {
      "displayName": "Matteo Riotto",
      "userId": "15211004813978485634"
     },
     "user_tz": 480
    },
    "id": "8CN87pVVPVFo",
    "outputId": "b20fdf5f-a9cd-4640-87e5-da78503ef59d"
   },
   "outputs": [
    {
     "data": {
      "text/html": [
       "<div>\n",
       "<style scoped>\n",
       "    .dataframe tbody tr th:only-of-type {\n",
       "        vertical-align: middle;\n",
       "    }\n",
       "\n",
       "    .dataframe tbody tr th {\n",
       "        vertical-align: top;\n",
       "    }\n",
       "\n",
       "    .dataframe thead th {\n",
       "        text-align: right;\n",
       "    }\n",
       "</style>\n",
       "<table border=\"1\" class=\"dataframe\">\n",
       "  <thead>\n",
       "    <tr style=\"text-align: right;\">\n",
       "      <th></th>\n",
       "      <th>planet</th>\n",
       "      <th>radius_km</th>\n",
       "      <th>moons</th>\n",
       "    </tr>\n",
       "  </thead>\n",
       "  <tbody>\n",
       "    <tr>\n",
       "      <th>0</th>\n",
       "      <td>Mercury</td>\n",
       "      <td>2440</td>\n",
       "      <td>0</td>\n",
       "    </tr>\n",
       "    <tr>\n",
       "      <th>1</th>\n",
       "      <td>Venus</td>\n",
       "      <td>6052</td>\n",
       "      <td>0</td>\n",
       "    </tr>\n",
       "    <tr>\n",
       "      <th>2</th>\n",
       "      <td>Earth</td>\n",
       "      <td>6371</td>\n",
       "      <td>1</td>\n",
       "    </tr>\n",
       "    <tr>\n",
       "      <th>3</th>\n",
       "      <td>Mars</td>\n",
       "      <td>3390</td>\n",
       "      <td>2</td>\n",
       "    </tr>\n",
       "    <tr>\n",
       "      <th>4</th>\n",
       "      <td>Jupiter</td>\n",
       "      <td>69911</td>\n",
       "      <td>80</td>\n",
       "    </tr>\n",
       "    <tr>\n",
       "      <th>5</th>\n",
       "      <td>Saturn</td>\n",
       "      <td>58232</td>\n",
       "      <td>83</td>\n",
       "    </tr>\n",
       "    <tr>\n",
       "      <th>6</th>\n",
       "      <td>Uranus</td>\n",
       "      <td>25362</td>\n",
       "      <td>27</td>\n",
       "    </tr>\n",
       "    <tr>\n",
       "      <th>7</th>\n",
       "      <td>Neptune</td>\n",
       "      <td>24622</td>\n",
       "      <td>14</td>\n",
       "    </tr>\n",
       "  </tbody>\n",
       "</table>\n",
       "</div>"
      ],
      "text/plain": [
       "    planet  radius_km  moons\n",
       "0  Mercury       2440      0\n",
       "1    Venus       6052      0\n",
       "2    Earth       6371      1\n",
       "3     Mars       3390      2\n",
       "4  Jupiter      69911     80\n",
       "5   Saturn      58232     83\n",
       "6   Uranus      25362     27\n",
       "7  Neptune      24622     14"
      ]
     },
     "execution_count": 75,
     "metadata": {},
     "output_type": "execute_result"
    }
   ],
   "source": [
    "# Reset the row indices.\n",
    "df3 = df3.reset_index(drop=True)\n",
    "df3"
   ]
  },
  {
   "cell_type": "code",
   "execution_count": 76,
   "metadata": {
    "id": "GxPQ1JohE43m"
   },
   "outputs": [],
   "source": [
    "# NOTE: THIS CELL WAS NOT SHOWN IN THE INSTRUCTIONAL VIDEO BUT WAS RUN AS A\n",
    "#       SETUP CELL.\n",
    "data = {'planet': ['Earth', 'Mars','Jupiter', 'Saturn', 'Uranus',\n",
    "                   'Neptune', 'Janssen', 'Tadmor'],\n",
    "        'type': ['terrestrial', 'terrestrial','gas giant', 'gas giant',\n",
    "                 'ice giant', 'ice giant', 'super earth','gas giant'],\n",
    "        'rings': ['no', 'no', 'yes', 'yes', 'yes','yes', 'no', None],\n",
    "        'mean_temp_c': [15, -65, -110, -140, -195, -200, None, None],\n",
    "        'magnetic_field': ['yes', 'no', 'yes', 'yes', 'yes', 'yes', None, None],\n",
    "        'life': [1, 0, 0, 0, 0, 0, 1, 1]\n",
    "        }\n",
    "df4 = pd.DataFrame(data)"
   ]
  },
  {
   "cell_type": "code",
   "execution_count": 77,
   "metadata": {
    "colab": {
     "base_uri": "https://localhost:8080/",
     "height": 300
    },
    "executionInfo": {
     "elapsed": 210,
     "status": "ok",
     "timestamp": 1677113400771,
     "user": {
      "displayName": "Matteo Riotto",
      "userId": "15211004813978485634"
     },
     "user_tz": 480
    },
    "id": "rKHjq7H-Fzvy",
    "outputId": "ce60aca0-af07-4052-a411-7d8cf2681b9d"
   },
   "outputs": [
    {
     "data": {
      "text/html": [
       "<div>\n",
       "<style scoped>\n",
       "    .dataframe tbody tr th:only-of-type {\n",
       "        vertical-align: middle;\n",
       "    }\n",
       "\n",
       "    .dataframe tbody tr th {\n",
       "        vertical-align: top;\n",
       "    }\n",
       "\n",
       "    .dataframe thead th {\n",
       "        text-align: right;\n",
       "    }\n",
       "</style>\n",
       "<table border=\"1\" class=\"dataframe\">\n",
       "  <thead>\n",
       "    <tr style=\"text-align: right;\">\n",
       "      <th></th>\n",
       "      <th>planet</th>\n",
       "      <th>type</th>\n",
       "      <th>rings</th>\n",
       "      <th>mean_temp_c</th>\n",
       "      <th>magnetic_field</th>\n",
       "      <th>life</th>\n",
       "    </tr>\n",
       "  </thead>\n",
       "  <tbody>\n",
       "    <tr>\n",
       "      <th>0</th>\n",
       "      <td>Earth</td>\n",
       "      <td>terrestrial</td>\n",
       "      <td>no</td>\n",
       "      <td>15.0</td>\n",
       "      <td>yes</td>\n",
       "      <td>1</td>\n",
       "    </tr>\n",
       "    <tr>\n",
       "      <th>1</th>\n",
       "      <td>Mars</td>\n",
       "      <td>terrestrial</td>\n",
       "      <td>no</td>\n",
       "      <td>-65.0</td>\n",
       "      <td>no</td>\n",
       "      <td>0</td>\n",
       "    </tr>\n",
       "    <tr>\n",
       "      <th>2</th>\n",
       "      <td>Jupiter</td>\n",
       "      <td>gas giant</td>\n",
       "      <td>yes</td>\n",
       "      <td>-110.0</td>\n",
       "      <td>yes</td>\n",
       "      <td>0</td>\n",
       "    </tr>\n",
       "    <tr>\n",
       "      <th>3</th>\n",
       "      <td>Saturn</td>\n",
       "      <td>gas giant</td>\n",
       "      <td>yes</td>\n",
       "      <td>-140.0</td>\n",
       "      <td>yes</td>\n",
       "      <td>0</td>\n",
       "    </tr>\n",
       "    <tr>\n",
       "      <th>4</th>\n",
       "      <td>Uranus</td>\n",
       "      <td>ice giant</td>\n",
       "      <td>yes</td>\n",
       "      <td>-195.0</td>\n",
       "      <td>yes</td>\n",
       "      <td>0</td>\n",
       "    </tr>\n",
       "    <tr>\n",
       "      <th>5</th>\n",
       "      <td>Neptune</td>\n",
       "      <td>ice giant</td>\n",
       "      <td>yes</td>\n",
       "      <td>-200.0</td>\n",
       "      <td>yes</td>\n",
       "      <td>0</td>\n",
       "    </tr>\n",
       "    <tr>\n",
       "      <th>6</th>\n",
       "      <td>Janssen</td>\n",
       "      <td>super earth</td>\n",
       "      <td>no</td>\n",
       "      <td>NaN</td>\n",
       "      <td>None</td>\n",
       "      <td>1</td>\n",
       "    </tr>\n",
       "    <tr>\n",
       "      <th>7</th>\n",
       "      <td>Tadmor</td>\n",
       "      <td>gas giant</td>\n",
       "      <td>None</td>\n",
       "      <td>NaN</td>\n",
       "      <td>None</td>\n",
       "      <td>1</td>\n",
       "    </tr>\n",
       "  </tbody>\n",
       "</table>\n",
       "</div>"
      ],
      "text/plain": [
       "    planet         type rings  mean_temp_c magnetic_field  life\n",
       "0    Earth  terrestrial    no         15.0            yes     1\n",
       "1     Mars  terrestrial    no        -65.0             no     0\n",
       "2  Jupiter    gas giant   yes       -110.0            yes     0\n",
       "3   Saturn    gas giant   yes       -140.0            yes     0\n",
       "4   Uranus    ice giant   yes       -195.0            yes     0\n",
       "5  Neptune    ice giant   yes       -200.0            yes     0\n",
       "6  Janssen  super earth    no          NaN           None     1\n",
       "7   Tadmor    gas giant  None          NaN           None     1"
      ]
     },
     "execution_count": 77,
     "metadata": {},
     "output_type": "execute_result"
    }
   ],
   "source": [
    "df4"
   ]
  },
  {
   "cell_type": "markdown",
   "metadata": {},
   "source": [
    "`merge()` is a pandas function that joins two dataframes together; it only combines data by extending along axis = 1 (horizontally)\n",
    "\n",
    "Similar to JOIN in SQL with `on` and `how`"
   ]
  },
  {
   "cell_type": "code",
   "execution_count": 78,
   "metadata": {
    "colab": {
     "base_uri": "https://localhost:8080/",
     "height": 238
    },
    "executionInfo": {
     "elapsed": 216,
     "status": "ok",
     "timestamp": 1677113414371,
     "user": {
      "displayName": "Matteo Riotto",
      "userId": "15211004813978485634"
     },
     "user_tz": 480
    },
    "id": "flbhIpbJPVXr",
    "outputId": "8e486791-5baf-419b-e0bb-c0bb90714eea"
   },
   "outputs": [
    {
     "data": {
      "text/html": [
       "<div>\n",
       "<style scoped>\n",
       "    .dataframe tbody tr th:only-of-type {\n",
       "        vertical-align: middle;\n",
       "    }\n",
       "\n",
       "    .dataframe tbody tr th {\n",
       "        vertical-align: top;\n",
       "    }\n",
       "\n",
       "    .dataframe thead th {\n",
       "        text-align: right;\n",
       "    }\n",
       "</style>\n",
       "<table border=\"1\" class=\"dataframe\">\n",
       "  <thead>\n",
       "    <tr style=\"text-align: right;\">\n",
       "      <th></th>\n",
       "      <th>planet</th>\n",
       "      <th>radius_km</th>\n",
       "      <th>moons</th>\n",
       "      <th>type</th>\n",
       "      <th>rings</th>\n",
       "      <th>mean_temp_c</th>\n",
       "      <th>magnetic_field</th>\n",
       "      <th>life</th>\n",
       "    </tr>\n",
       "  </thead>\n",
       "  <tbody>\n",
       "    <tr>\n",
       "      <th>0</th>\n",
       "      <td>Earth</td>\n",
       "      <td>6371</td>\n",
       "      <td>1</td>\n",
       "      <td>terrestrial</td>\n",
       "      <td>no</td>\n",
       "      <td>15.0</td>\n",
       "      <td>yes</td>\n",
       "      <td>1</td>\n",
       "    </tr>\n",
       "    <tr>\n",
       "      <th>1</th>\n",
       "      <td>Mars</td>\n",
       "      <td>3390</td>\n",
       "      <td>2</td>\n",
       "      <td>terrestrial</td>\n",
       "      <td>no</td>\n",
       "      <td>-65.0</td>\n",
       "      <td>no</td>\n",
       "      <td>0</td>\n",
       "    </tr>\n",
       "    <tr>\n",
       "      <th>2</th>\n",
       "      <td>Jupiter</td>\n",
       "      <td>69911</td>\n",
       "      <td>80</td>\n",
       "      <td>gas giant</td>\n",
       "      <td>yes</td>\n",
       "      <td>-110.0</td>\n",
       "      <td>yes</td>\n",
       "      <td>0</td>\n",
       "    </tr>\n",
       "    <tr>\n",
       "      <th>3</th>\n",
       "      <td>Saturn</td>\n",
       "      <td>58232</td>\n",
       "      <td>83</td>\n",
       "      <td>gas giant</td>\n",
       "      <td>yes</td>\n",
       "      <td>-140.0</td>\n",
       "      <td>yes</td>\n",
       "      <td>0</td>\n",
       "    </tr>\n",
       "    <tr>\n",
       "      <th>4</th>\n",
       "      <td>Uranus</td>\n",
       "      <td>25362</td>\n",
       "      <td>27</td>\n",
       "      <td>ice giant</td>\n",
       "      <td>yes</td>\n",
       "      <td>-195.0</td>\n",
       "      <td>yes</td>\n",
       "      <td>0</td>\n",
       "    </tr>\n",
       "    <tr>\n",
       "      <th>5</th>\n",
       "      <td>Neptune</td>\n",
       "      <td>24622</td>\n",
       "      <td>14</td>\n",
       "      <td>ice giant</td>\n",
       "      <td>yes</td>\n",
       "      <td>-200.0</td>\n",
       "      <td>yes</td>\n",
       "      <td>0</td>\n",
       "    </tr>\n",
       "  </tbody>\n",
       "</table>\n",
       "</div>"
      ],
      "text/plain": [
       "    planet  radius_km  moons         type rings  mean_temp_c magnetic_field  \\\n",
       "0    Earth       6371      1  terrestrial    no         15.0            yes   \n",
       "1     Mars       3390      2  terrestrial    no        -65.0             no   \n",
       "2  Jupiter      69911     80    gas giant   yes       -110.0            yes   \n",
       "3   Saturn      58232     83    gas giant   yes       -140.0            yes   \n",
       "4   Uranus      25362     27    ice giant   yes       -195.0            yes   \n",
       "5  Neptune      24622     14    ice giant   yes       -200.0            yes   \n",
       "\n",
       "   life  \n",
       "0     1  \n",
       "1     0  \n",
       "2     0  \n",
       "3     0  \n",
       "4     0  \n",
       "5     0  "
      ]
     },
     "execution_count": 78,
     "metadata": {},
     "output_type": "execute_result"
    }
   ],
   "source": [
    "# Use pd.merge() to combine dataframes.\n",
    "# Inner merge retains only keys that appear in both dataframes.\n",
    "inner = pd.merge(df3, df4, on='planet', how='inner')\n",
    "inner"
   ]
  },
  {
   "cell_type": "code",
   "execution_count": 79,
   "metadata": {
    "colab": {
     "base_uri": "https://localhost:8080/",
     "height": 363
    },
    "executionInfo": {
     "elapsed": 7,
     "status": "ok",
     "timestamp": 1677113415167,
     "user": {
      "displayName": "Matteo Riotto",
      "userId": "15211004813978485634"
     },
     "user_tz": 480
    },
    "id": "KhcX9Jd1vqNZ",
    "outputId": "f8c9c318-545d-46dd-e486-5132af8c1af0"
   },
   "outputs": [
    {
     "data": {
      "text/html": [
       "<div>\n",
       "<style scoped>\n",
       "    .dataframe tbody tr th:only-of-type {\n",
       "        vertical-align: middle;\n",
       "    }\n",
       "\n",
       "    .dataframe tbody tr th {\n",
       "        vertical-align: top;\n",
       "    }\n",
       "\n",
       "    .dataframe thead th {\n",
       "        text-align: right;\n",
       "    }\n",
       "</style>\n",
       "<table border=\"1\" class=\"dataframe\">\n",
       "  <thead>\n",
       "    <tr style=\"text-align: right;\">\n",
       "      <th></th>\n",
       "      <th>planet</th>\n",
       "      <th>radius_km</th>\n",
       "      <th>moons</th>\n",
       "      <th>type</th>\n",
       "      <th>rings</th>\n",
       "      <th>mean_temp_c</th>\n",
       "      <th>magnetic_field</th>\n",
       "      <th>life</th>\n",
       "    </tr>\n",
       "  </thead>\n",
       "  <tbody>\n",
       "    <tr>\n",
       "      <th>0</th>\n",
       "      <td>Mercury</td>\n",
       "      <td>2440.0</td>\n",
       "      <td>0.0</td>\n",
       "      <td>NaN</td>\n",
       "      <td>NaN</td>\n",
       "      <td>NaN</td>\n",
       "      <td>NaN</td>\n",
       "      <td>NaN</td>\n",
       "    </tr>\n",
       "    <tr>\n",
       "      <th>1</th>\n",
       "      <td>Venus</td>\n",
       "      <td>6052.0</td>\n",
       "      <td>0.0</td>\n",
       "      <td>NaN</td>\n",
       "      <td>NaN</td>\n",
       "      <td>NaN</td>\n",
       "      <td>NaN</td>\n",
       "      <td>NaN</td>\n",
       "    </tr>\n",
       "    <tr>\n",
       "      <th>2</th>\n",
       "      <td>Earth</td>\n",
       "      <td>6371.0</td>\n",
       "      <td>1.0</td>\n",
       "      <td>terrestrial</td>\n",
       "      <td>no</td>\n",
       "      <td>15.0</td>\n",
       "      <td>yes</td>\n",
       "      <td>1.0</td>\n",
       "    </tr>\n",
       "    <tr>\n",
       "      <th>3</th>\n",
       "      <td>Mars</td>\n",
       "      <td>3390.0</td>\n",
       "      <td>2.0</td>\n",
       "      <td>terrestrial</td>\n",
       "      <td>no</td>\n",
       "      <td>-65.0</td>\n",
       "      <td>no</td>\n",
       "      <td>0.0</td>\n",
       "    </tr>\n",
       "    <tr>\n",
       "      <th>4</th>\n",
       "      <td>Jupiter</td>\n",
       "      <td>69911.0</td>\n",
       "      <td>80.0</td>\n",
       "      <td>gas giant</td>\n",
       "      <td>yes</td>\n",
       "      <td>-110.0</td>\n",
       "      <td>yes</td>\n",
       "      <td>0.0</td>\n",
       "    </tr>\n",
       "    <tr>\n",
       "      <th>5</th>\n",
       "      <td>Saturn</td>\n",
       "      <td>58232.0</td>\n",
       "      <td>83.0</td>\n",
       "      <td>gas giant</td>\n",
       "      <td>yes</td>\n",
       "      <td>-140.0</td>\n",
       "      <td>yes</td>\n",
       "      <td>0.0</td>\n",
       "    </tr>\n",
       "    <tr>\n",
       "      <th>6</th>\n",
       "      <td>Uranus</td>\n",
       "      <td>25362.0</td>\n",
       "      <td>27.0</td>\n",
       "      <td>ice giant</td>\n",
       "      <td>yes</td>\n",
       "      <td>-195.0</td>\n",
       "      <td>yes</td>\n",
       "      <td>0.0</td>\n",
       "    </tr>\n",
       "    <tr>\n",
       "      <th>7</th>\n",
       "      <td>Neptune</td>\n",
       "      <td>24622.0</td>\n",
       "      <td>14.0</td>\n",
       "      <td>ice giant</td>\n",
       "      <td>yes</td>\n",
       "      <td>-200.0</td>\n",
       "      <td>yes</td>\n",
       "      <td>0.0</td>\n",
       "    </tr>\n",
       "    <tr>\n",
       "      <th>8</th>\n",
       "      <td>Janssen</td>\n",
       "      <td>NaN</td>\n",
       "      <td>NaN</td>\n",
       "      <td>super earth</td>\n",
       "      <td>no</td>\n",
       "      <td>NaN</td>\n",
       "      <td>None</td>\n",
       "      <td>1.0</td>\n",
       "    </tr>\n",
       "    <tr>\n",
       "      <th>9</th>\n",
       "      <td>Tadmor</td>\n",
       "      <td>NaN</td>\n",
       "      <td>NaN</td>\n",
       "      <td>gas giant</td>\n",
       "      <td>None</td>\n",
       "      <td>NaN</td>\n",
       "      <td>None</td>\n",
       "      <td>1.0</td>\n",
       "    </tr>\n",
       "  </tbody>\n",
       "</table>\n",
       "</div>"
      ],
      "text/plain": [
       "    planet  radius_km  moons         type rings  mean_temp_c magnetic_field  \\\n",
       "0  Mercury     2440.0    0.0          NaN   NaN          NaN            NaN   \n",
       "1    Venus     6052.0    0.0          NaN   NaN          NaN            NaN   \n",
       "2    Earth     6371.0    1.0  terrestrial    no         15.0            yes   \n",
       "3     Mars     3390.0    2.0  terrestrial    no        -65.0             no   \n",
       "4  Jupiter    69911.0   80.0    gas giant   yes       -110.0            yes   \n",
       "5   Saturn    58232.0   83.0    gas giant   yes       -140.0            yes   \n",
       "6   Uranus    25362.0   27.0    ice giant   yes       -195.0            yes   \n",
       "7  Neptune    24622.0   14.0    ice giant   yes       -200.0            yes   \n",
       "8  Janssen        NaN    NaN  super earth    no          NaN           None   \n",
       "9   Tadmor        NaN    NaN    gas giant  None          NaN           None   \n",
       "\n",
       "   life  \n",
       "0   NaN  \n",
       "1   NaN  \n",
       "2   1.0  \n",
       "3   0.0  \n",
       "4   0.0  \n",
       "5   0.0  \n",
       "6   0.0  \n",
       "7   0.0  \n",
       "8   1.0  \n",
       "9   1.0  "
      ]
     },
     "execution_count": 79,
     "metadata": {},
     "output_type": "execute_result"
    }
   ],
   "source": [
    "# Use pd.merge() to combine dataframes.\n",
    "# Outer merge retains all keys from both dataframes.\n",
    "outer = pd.merge(df3, df4, on='planet', how='outer')\n",
    "outer"
   ]
  },
  {
   "cell_type": "code",
   "execution_count": 80,
   "metadata": {
    "colab": {
     "base_uri": "https://localhost:8080/",
     "height": 300
    },
    "executionInfo": {
     "elapsed": 369,
     "status": "ok",
     "timestamp": 1677113409018,
     "user": {
      "displayName": "Matteo Riotto",
      "userId": "15211004813978485634"
     },
     "user_tz": 480
    },
    "id": "UqaYrxpdPVMr",
    "outputId": "4a892e56-d818-44c6-9724-150f51af8ce2"
   },
   "outputs": [
    {
     "data": {
      "text/html": [
       "<div>\n",
       "<style scoped>\n",
       "    .dataframe tbody tr th:only-of-type {\n",
       "        vertical-align: middle;\n",
       "    }\n",
       "\n",
       "    .dataframe tbody tr th {\n",
       "        vertical-align: top;\n",
       "    }\n",
       "\n",
       "    .dataframe thead th {\n",
       "        text-align: right;\n",
       "    }\n",
       "</style>\n",
       "<table border=\"1\" class=\"dataframe\">\n",
       "  <thead>\n",
       "    <tr style=\"text-align: right;\">\n",
       "      <th></th>\n",
       "      <th>planet</th>\n",
       "      <th>radius_km</th>\n",
       "      <th>moons</th>\n",
       "      <th>type</th>\n",
       "      <th>rings</th>\n",
       "      <th>mean_temp_c</th>\n",
       "      <th>magnetic_field</th>\n",
       "      <th>life</th>\n",
       "    </tr>\n",
       "  </thead>\n",
       "  <tbody>\n",
       "    <tr>\n",
       "      <th>0</th>\n",
       "      <td>Mercury</td>\n",
       "      <td>2440</td>\n",
       "      <td>0</td>\n",
       "      <td>NaN</td>\n",
       "      <td>NaN</td>\n",
       "      <td>NaN</td>\n",
       "      <td>NaN</td>\n",
       "      <td>NaN</td>\n",
       "    </tr>\n",
       "    <tr>\n",
       "      <th>1</th>\n",
       "      <td>Venus</td>\n",
       "      <td>6052</td>\n",
       "      <td>0</td>\n",
       "      <td>NaN</td>\n",
       "      <td>NaN</td>\n",
       "      <td>NaN</td>\n",
       "      <td>NaN</td>\n",
       "      <td>NaN</td>\n",
       "    </tr>\n",
       "    <tr>\n",
       "      <th>2</th>\n",
       "      <td>Earth</td>\n",
       "      <td>6371</td>\n",
       "      <td>1</td>\n",
       "      <td>terrestrial</td>\n",
       "      <td>no</td>\n",
       "      <td>15.0</td>\n",
       "      <td>yes</td>\n",
       "      <td>1.0</td>\n",
       "    </tr>\n",
       "    <tr>\n",
       "      <th>3</th>\n",
       "      <td>Mars</td>\n",
       "      <td>3390</td>\n",
       "      <td>2</td>\n",
       "      <td>terrestrial</td>\n",
       "      <td>no</td>\n",
       "      <td>-65.0</td>\n",
       "      <td>no</td>\n",
       "      <td>0.0</td>\n",
       "    </tr>\n",
       "    <tr>\n",
       "      <th>4</th>\n",
       "      <td>Jupiter</td>\n",
       "      <td>69911</td>\n",
       "      <td>80</td>\n",
       "      <td>gas giant</td>\n",
       "      <td>yes</td>\n",
       "      <td>-110.0</td>\n",
       "      <td>yes</td>\n",
       "      <td>0.0</td>\n",
       "    </tr>\n",
       "    <tr>\n",
       "      <th>5</th>\n",
       "      <td>Saturn</td>\n",
       "      <td>58232</td>\n",
       "      <td>83</td>\n",
       "      <td>gas giant</td>\n",
       "      <td>yes</td>\n",
       "      <td>-140.0</td>\n",
       "      <td>yes</td>\n",
       "      <td>0.0</td>\n",
       "    </tr>\n",
       "    <tr>\n",
       "      <th>6</th>\n",
       "      <td>Uranus</td>\n",
       "      <td>25362</td>\n",
       "      <td>27</td>\n",
       "      <td>ice giant</td>\n",
       "      <td>yes</td>\n",
       "      <td>-195.0</td>\n",
       "      <td>yes</td>\n",
       "      <td>0.0</td>\n",
       "    </tr>\n",
       "    <tr>\n",
       "      <th>7</th>\n",
       "      <td>Neptune</td>\n",
       "      <td>24622</td>\n",
       "      <td>14</td>\n",
       "      <td>ice giant</td>\n",
       "      <td>yes</td>\n",
       "      <td>-200.0</td>\n",
       "      <td>yes</td>\n",
       "      <td>0.0</td>\n",
       "    </tr>\n",
       "  </tbody>\n",
       "</table>\n",
       "</div>"
      ],
      "text/plain": [
       "    planet  radius_km  moons         type rings  mean_temp_c magnetic_field  \\\n",
       "0  Mercury       2440      0          NaN   NaN          NaN            NaN   \n",
       "1    Venus       6052      0          NaN   NaN          NaN            NaN   \n",
       "2    Earth       6371      1  terrestrial    no         15.0            yes   \n",
       "3     Mars       3390      2  terrestrial    no        -65.0             no   \n",
       "4  Jupiter      69911     80    gas giant   yes       -110.0            yes   \n",
       "5   Saturn      58232     83    gas giant   yes       -140.0            yes   \n",
       "6   Uranus      25362     27    ice giant   yes       -195.0            yes   \n",
       "7  Neptune      24622     14    ice giant   yes       -200.0            yes   \n",
       "\n",
       "   life  \n",
       "0   NaN  \n",
       "1   NaN  \n",
       "2   1.0  \n",
       "3   0.0  \n",
       "4   0.0  \n",
       "5   0.0  \n",
       "6   0.0  \n",
       "7   0.0  "
      ]
     },
     "execution_count": 80,
     "metadata": {},
     "output_type": "execute_result"
    }
   ],
   "source": [
    "# Use pd.merge() to combine dataframes.\n",
    "# Left merge retains only keys that appear in the left dataframe.\n",
    "left = pd.merge(df3, df4, on='planet', how='left')\n",
    "left"
   ]
  },
  {
   "cell_type": "code",
   "execution_count": 81,
   "metadata": {
    "colab": {
     "base_uri": "https://localhost:8080/",
     "height": 300
    },
    "executionInfo": {
     "elapsed": 223,
     "status": "ok",
     "timestamp": 1677113412510,
     "user": {
      "displayName": "Matteo Riotto",
      "userId": "15211004813978485634"
     },
     "user_tz": 480
    },
    "id": "56I3LA5tPVT3",
    "outputId": "baa9efc5-589f-4e97-9c32-eed44e185e9b"
   },
   "outputs": [
    {
     "data": {
      "text/html": [
       "<div>\n",
       "<style scoped>\n",
       "    .dataframe tbody tr th:only-of-type {\n",
       "        vertical-align: middle;\n",
       "    }\n",
       "\n",
       "    .dataframe tbody tr th {\n",
       "        vertical-align: top;\n",
       "    }\n",
       "\n",
       "    .dataframe thead th {\n",
       "        text-align: right;\n",
       "    }\n",
       "</style>\n",
       "<table border=\"1\" class=\"dataframe\">\n",
       "  <thead>\n",
       "    <tr style=\"text-align: right;\">\n",
       "      <th></th>\n",
       "      <th>planet</th>\n",
       "      <th>radius_km</th>\n",
       "      <th>moons</th>\n",
       "      <th>type</th>\n",
       "      <th>rings</th>\n",
       "      <th>mean_temp_c</th>\n",
       "      <th>magnetic_field</th>\n",
       "      <th>life</th>\n",
       "    </tr>\n",
       "  </thead>\n",
       "  <tbody>\n",
       "    <tr>\n",
       "      <th>0</th>\n",
       "      <td>Earth</td>\n",
       "      <td>6371.0</td>\n",
       "      <td>1.0</td>\n",
       "      <td>terrestrial</td>\n",
       "      <td>no</td>\n",
       "      <td>15.0</td>\n",
       "      <td>yes</td>\n",
       "      <td>1</td>\n",
       "    </tr>\n",
       "    <tr>\n",
       "      <th>1</th>\n",
       "      <td>Mars</td>\n",
       "      <td>3390.0</td>\n",
       "      <td>2.0</td>\n",
       "      <td>terrestrial</td>\n",
       "      <td>no</td>\n",
       "      <td>-65.0</td>\n",
       "      <td>no</td>\n",
       "      <td>0</td>\n",
       "    </tr>\n",
       "    <tr>\n",
       "      <th>2</th>\n",
       "      <td>Jupiter</td>\n",
       "      <td>69911.0</td>\n",
       "      <td>80.0</td>\n",
       "      <td>gas giant</td>\n",
       "      <td>yes</td>\n",
       "      <td>-110.0</td>\n",
       "      <td>yes</td>\n",
       "      <td>0</td>\n",
       "    </tr>\n",
       "    <tr>\n",
       "      <th>3</th>\n",
       "      <td>Saturn</td>\n",
       "      <td>58232.0</td>\n",
       "      <td>83.0</td>\n",
       "      <td>gas giant</td>\n",
       "      <td>yes</td>\n",
       "      <td>-140.0</td>\n",
       "      <td>yes</td>\n",
       "      <td>0</td>\n",
       "    </tr>\n",
       "    <tr>\n",
       "      <th>4</th>\n",
       "      <td>Uranus</td>\n",
       "      <td>25362.0</td>\n",
       "      <td>27.0</td>\n",
       "      <td>ice giant</td>\n",
       "      <td>yes</td>\n",
       "      <td>-195.0</td>\n",
       "      <td>yes</td>\n",
       "      <td>0</td>\n",
       "    </tr>\n",
       "    <tr>\n",
       "      <th>5</th>\n",
       "      <td>Neptune</td>\n",
       "      <td>24622.0</td>\n",
       "      <td>14.0</td>\n",
       "      <td>ice giant</td>\n",
       "      <td>yes</td>\n",
       "      <td>-200.0</td>\n",
       "      <td>yes</td>\n",
       "      <td>0</td>\n",
       "    </tr>\n",
       "    <tr>\n",
       "      <th>6</th>\n",
       "      <td>Janssen</td>\n",
       "      <td>NaN</td>\n",
       "      <td>NaN</td>\n",
       "      <td>super earth</td>\n",
       "      <td>no</td>\n",
       "      <td>NaN</td>\n",
       "      <td>None</td>\n",
       "      <td>1</td>\n",
       "    </tr>\n",
       "    <tr>\n",
       "      <th>7</th>\n",
       "      <td>Tadmor</td>\n",
       "      <td>NaN</td>\n",
       "      <td>NaN</td>\n",
       "      <td>gas giant</td>\n",
       "      <td>None</td>\n",
       "      <td>NaN</td>\n",
       "      <td>None</td>\n",
       "      <td>1</td>\n",
       "    </tr>\n",
       "  </tbody>\n",
       "</table>\n",
       "</div>"
      ],
      "text/plain": [
       "    planet  radius_km  moons         type rings  mean_temp_c magnetic_field  \\\n",
       "0    Earth     6371.0    1.0  terrestrial    no         15.0            yes   \n",
       "1     Mars     3390.0    2.0  terrestrial    no        -65.0             no   \n",
       "2  Jupiter    69911.0   80.0    gas giant   yes       -110.0            yes   \n",
       "3   Saturn    58232.0   83.0    gas giant   yes       -140.0            yes   \n",
       "4   Uranus    25362.0   27.0    ice giant   yes       -195.0            yes   \n",
       "5  Neptune    24622.0   14.0    ice giant   yes       -200.0            yes   \n",
       "6  Janssen        NaN    NaN  super earth    no          NaN           None   \n",
       "7   Tadmor        NaN    NaN    gas giant  None          NaN           None   \n",
       "\n",
       "   life  \n",
       "0     1  \n",
       "1     0  \n",
       "2     0  \n",
       "3     0  \n",
       "4     0  \n",
       "5     0  \n",
       "6     1  \n",
       "7     1  "
      ]
     },
     "execution_count": 81,
     "metadata": {},
     "output_type": "execute_result"
    }
   ],
   "source": [
    "# Use pd.merge() to combine dataframes.\n",
    "# Right merge retains only keys that appear in right dataframe.\n",
    "right = pd.merge(df3, df4, on='planet', how='right')\n",
    "right"
   ]
  },
  {
   "cell_type": "code",
   "execution_count": null,
   "metadata": {},
   "outputs": [],
   "source": []
  }
 ],
 "metadata": {
  "colab": {
   "provenance": [],
   "toc_visible": true
  },
  "kernelspec": {
   "display_name": "Python 3",
   "language": "python",
   "name": "python3"
  },
  "language_info": {
   "codemirror_mode": {
    "name": "ipython",
    "version": 3
   },
   "file_extension": ".py",
   "mimetype": "text/x-python",
   "name": "python",
   "nbconvert_exporter": "python",
   "pygments_lexer": "ipython3",
   "version": "3.7.6"
  }
 },
 "nbformat": 4,
 "nbformat_minor": 1
}
